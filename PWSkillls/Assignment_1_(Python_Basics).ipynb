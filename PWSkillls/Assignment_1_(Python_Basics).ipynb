{
  "nbformat": 4,
  "nbformat_minor": 0,
  "metadata": {
    "colab": {
      "provenance": [],
      "collapsed_sections": [
        "7DGVEe5nmzud"
      ]
    },
    "kernelspec": {
      "name": "python3",
      "display_name": "Python 3"
    },
    "language_info": {
      "name": "python"
    }
  },
  "cells": [
    {
      "cell_type": "markdown",
      "source": [
        "# ***Python Basics Theory***"
      ],
      "metadata": {
        "id": "7DGVEe5nmzud"
      }
    },
    {
      "cell_type": "markdown",
      "source": [
        "Q1. What is Python and why is it important ?\n",
        "- Python is a high-level, general-purpose programming language designed to be easy to read and write. Created by Guido van Rossum and first released in 1991, it emphasizes code readability with a clean, straightforward syntax. Python uses indentation to define code blocks, making its structure clear and reducing the chance of errors.\n",
        "\n",
        "- Python is popular because of the following reasons :\n",
        "  - Readability & Simplicity: Its syntax is close to everyday English, making it approachable for beginners and efficient for professionals.\n",
        "\n",
        "  - Versatility: Python is used across many domains—from web development and automation to data science, machine learning, artificial intelligence, scientific research, app development, and more.\n",
        "\n",
        "  - Extensive Libraries & Frameworks: It offers a rich ecosystem of packages (like NumPy, Pandas, TensorFlow, Django, Flask) that accelerate development and solve common problems without reinventing the wheel.\n",
        "\n",
        "  - Large, Supportive Community: A strong, active user and developer community means you’ll find abundant learning resources, quick help, and many public code examples.\n",
        "\n",
        "  - Cross-Platform Compatibility: Python programs run on Windows, macOS, Linux, and other operating systems without modification.\n",
        "\n",
        "  - Interpreted & Dynamically Typed: You don’t need to compile Python code, and variable types are determined at runtime. This increases development speed and flexibility.\n",
        "\n",
        "  - Open Source: Python is free to use, distribute, and modify."
      ],
      "metadata": {
        "id": "a7nim1xfnGH-"
      }
    },
    {
      "cell_type": "markdown",
      "source": [
        "Q2. What is an interpreter in Python ?\n",
        "- A Python interpreter is a program that reads and executes Python code line by line. Instead of compiling the entire program into machine code before running (like a compiler does), the interpreter processes the code step-by-step, converting Python source code into an intermediate form called bytecode. This bytecode is then executed by the Python Virtual Machine (PVM), which translates it into machine instructions that the computer can run."
      ],
      "metadata": {
        "id": "sQVybjySoQ8l"
      }
    },
    {
      "cell_type": "markdown",
      "source": [
        "Q3. What are pre-defined keywords in python ?\n",
        "- Predefined keywords in Python, also known as reserved words, are special words that have specific meanings in the Python language syntax and cannot be used as variable names, function names, or any other identifiers. These keywords define the structure and flow of a Python program.\n",
        "\n",
        "- Here is the list of keywords in Python 3 :\n",
        "  - False, None, True, and, as, assert, async, await, break, class,\n",
        "continue, def, del, elif, else, except, finally, for, from,\n",
        "global, if, import, in, is, lambda, nonlocal, not, or, pass,\n",
        "raise, return, try, while, with, yield\n"
      ],
      "metadata": {
        "id": "xg0YQquiow0l"
      }
    },
    {
      "cell_type": "markdown",
      "source": [
        "Q4.Can keywords be used as variable names ?\n",
        "- No, Python keywords cannot be used as variable names. Keywords are reserved words that have special meanings in Python's syntax and rules, so using them as variable names will cause a syntax error."
      ],
      "metadata": {
        "id": "kqsyON2Pqeb2"
      }
    },
    {
      "cell_type": "markdown",
      "source": [
        "Q5. What is mutability in Pyhton ?\n",
        "- **Mutability** in Python refers to the ability of an object to be changed or modified after it has been created. If an object can have its value or state changed without creating a new object, it is called **mutable**."
      ],
      "metadata": {
        "id": "BW9NPUndpxV3"
      }
    },
    {
      "cell_type": "markdown",
      "source": [
        "Q6.Why are lists mutable, but tuples are immutable ?\n",
        "- Lists are mutable because they are designed for situations where you need to add, remove, or change items after creation. Tuples, by contrast, are immutable—they cannot be changed after they are created."
      ],
      "metadata": {
        "id": "cLjLfzMvqx9n"
      }
    },
    {
      "cell_type": "markdown",
      "source": [
        "Q7. What is the difference between \"==\" and \"is\" operator in Python ?\n",
        "- Difference Between \"==\" and \"is\" Operators in Python :\n",
        "  - \"==\" (Equality Operator) :\n",
        "    - Checks if the values of two objects are equal, regardless of whether they are the same object in memory.\n",
        "  - \"is\" (Identity Operator) :\n",
        "    - Checks if two variables point to the same object in memory (i.e., identity)."
      ],
      "metadata": {
        "id": "mnZ3D7yMrjVI"
      }
    },
    {
      "cell_type": "markdown",
      "source": [
        "Q8. What are logical operators in Python\n",
        "  - Python Logical operators perform Logical AND, Logical OR and Logical NOT operations. It is used to combine conditional statements. These are :\n",
        "    - **and**: Returns True if both operands are True.\n",
        "\n",
        "    - **or**: Returns True if at least one operand is True.\n",
        "\n",
        "    - **not**: Returns True if the operand is False; negates the Boolean value."
      ],
      "metadata": {
        "id": "ASJtgtUurnEo"
      }
    },
    {
      "cell_type": "markdown",
      "source": [
        "Q9. What is Type Casting in Python?\n",
        "- Type casting is the process of converting a variable from one data type to another.\n",
        "\n",
        "- Examples:\n",
        "\n",
        "  - Converting a string to an integer:\n",
        "   - ```\n",
        "       a = \"5\"\n",
        "       print(type(a))\n",
        "       int(a)\n",
        "       print(type(a))\n",
        "       \n",
        "  - Converting an integer to a float:\n",
        "    - ```\n",
        "        b = 3\n",
        "        print(type(b))\n",
        "        float(b)\n",
        "        print(type(b))\n",
        "\n",
        "  - There are two types: **implicit** and **explicit type casting**."
      ],
      "metadata": {
        "id": "T3iNfLgorsyY"
      }
    },
    {
      "cell_type": "markdown",
      "source": [
        "Q10.What is the difference between implicit and explicit type casting ?\n",
        "- Difference Between Implicit and Explicit Type Casting\n",
        "  - Implicit Type Casting :\n",
        "    - Python automatically converts one data type to another without the programmer's intervention (e.g., int to float in mixed calculations).\n",
        "\n",
        "  - Explicit Type Casting :\n",
        "    - The programmer manually converts the data type using functions like int(), float(), or str()"
      ],
      "metadata": {
        "id": "MJzNsbFTruow"
      }
    },
    {
      "cell_type": "markdown",
      "source": [
        "Q11. What is the purpose of conditional statements in Python ?\n",
        "- Purpose of Conditional Statements in Python :\n",
        "  - Conditional statements control the program’s flow based on whether a condition is true or false.\n",
        "  - They allow your code to make decisions and execute different code blocks as needed."
      ],
      "metadata": {
        "id": "ky0y3-Asrzja"
      }
    },
    {
      "cell_type": "markdown",
      "source": [
        "Q12. How does the elif statement work ?\n",
        "- elif stands for “else if”.\n",
        "- Used after an if statement to check another condition if the first was False.\n",
        "- You can chain multiple elif statements to check multiple conditions in sequenceand only the first True condition's code block is executed; then the chain ends.\n",
        "- ```\n",
        "  score = 75\n",
        "  if score >= 90:\n",
        "    print(\"A\")\n",
        "  elif score >= 80:\n",
        "    print(\"B\")\n",
        "  elif score >= 70:\n",
        "    print(\"C\")  # This prints because 75 >= 70\n",
        "  else:\n",
        "    print(\"D\")\n"
      ],
      "metadata": {
        "id": "iP-6feXEr3MC"
      }
    },
    {
      "cell_type": "markdown",
      "source": [
        "Q13.\n",
        "What is the difference between for and while loops ?\n",
        "- Difference Between **for** and **while** Loops :\n",
        "  - for loop:\n",
        "      - Purpose: Primarily used when the number of iterations is known or can be determined beforehand, such as iterating over a sequence (list, string, range) or performing an action a fixed number of times.\n",
        "\n",
        "      - Structure: Typically includes initialization, condition, and increment/decrement within its header, making it concise for counter-controlled loops.\n",
        "\n",
        "  - while loop:\n",
        "      - Purpose: Primarily used when the number of iterations is unknown and depends on a condition being met (or becoming false). The loop continues as long as a specified condition remains true.\n",
        "      \n",
        "      - Structure: Requires an explicit condition check and often relies on changes to variables within the loop body to eventually make the condition false, preventing infinite loops.\n",
        "      "
      ],
      "metadata": {
        "id": "Yj0AdBpUr4Zy"
      }
    },
    {
      "cell_type": "markdown",
      "source": [
        "Q14. Describe a scenario where a while loop is more suitable than a for loop?\n",
        "- A while loop is better when you don't know how many times you need to repeat the process.\n",
        "\n",
        "  Example : **Accepting user input until the correct password is entered:**\n",
        "\n",
        "  - ```\n",
        "      password = \"\"\n",
        "      while password != \"PWskills\":\n",
        "      password = input(\"Enter password: \")\n",
        "      print(\"Access granted.\")\n",
        "\n",
        "  - **Data reading until end-of-file or error**, **retrying network calls**, or **looping based on external/unpredictable events** also use while loops."
      ],
      "metadata": {
        "id": "gdl8E4Dsr83y"
      }
    },
    {
      "cell_type": "markdown",
      "source": [
        "#**Practical Questions**"
      ],
      "metadata": {
        "id": "nVsjfijr5yxK"
      }
    },
    {
      "cell_type": "markdown",
      "source": [
        "Q1.Write a Python program to print \"Hello, World!.\n"
      ],
      "metadata": {
        "id": "9BcCp7qp58Ri"
      }
    },
    {
      "cell_type": "code",
      "source": [
        "message = \"Hello, World!\"\n",
        "print(message)"
      ],
      "metadata": {
        "colab": {
          "base_uri": "https://localhost:8080/"
        },
        "id": "d2BxADDO6JNS",
        "outputId": "8471214c-812b-4b95-e9a8-289a2ab93f28"
      },
      "execution_count": null,
      "outputs": [
        {
          "output_type": "stream",
          "name": "stdout",
          "text": [
            "Hello, World!\n"
          ]
        }
      ]
    },
    {
      "cell_type": "markdown",
      "source": [
        "Q.2 Write a Python program that displays your name and age.\n"
      ],
      "metadata": {
        "id": "Qzrw2VLS6H1i"
      }
    },
    {
      "cell_type": "code",
      "source": [
        "ITL = \"\\x1B[3m\"  # ANSI code for italic text\n",
        "END = \"\\x1B[0m\"   # ANSI code to reset formatting\n",
        "\n",
        "name = \"Aftab Ansari\"\n",
        "age = 21\n",
        "print(f\"Hello, I am {ITL}{name}{END} and I am {age} years old.\")"
      ],
      "metadata": {
        "colab": {
          "base_uri": "https://localhost:8080/"
        },
        "id": "W3JUcqEy6h8D",
        "outputId": "0828b8bb-7bd0-4c30-db85-1e0998426ed0"
      },
      "execution_count": null,
      "outputs": [
        {
          "output_type": "stream",
          "name": "stdout",
          "text": [
            "Hello, I am \u001b[3mAftab Ansari\u001b[0m and I am 21 years old.\n"
          ]
        }
      ]
    },
    {
      "cell_type": "markdown",
      "source": [
        "Q3. Write code to print all the pre-defined keywords in Python using the keyword library."
      ],
      "metadata": {
        "id": "089btxyD68ql"
      }
    },
    {
      "cell_type": "code",
      "source": [
        "import keyword\n",
        "\n",
        "# Get the list of Python keywords\n",
        "keywords = keyword.kwlist\n",
        "\n",
        "# Determine the maximum length of a keyword for formatting\n",
        "max_len = max(len(kw) for kw in keywords) if keywords else 0\n",
        "\n",
        "# Define the number of columns for the table\n",
        "num_columns = 4\n",
        "\n",
        "# Print the table header\n",
        "print(\"-\" * (max_len * num_columns + (num_columns - 1) * 3))\n",
        "print(\"Python Keywords\".center(max_len * num_columns + (num_columns - 1) * 3))\n",
        "print(\"-\" * (max_len * num_columns + (num_columns - 1) * 3))\n",
        "\n",
        "# Print the keywords in a table format\n",
        "for i in range(0, len(keywords), num_columns):\n",
        "    row_keywords = keywords[i : i + num_columns]\n",
        "    formatted_row = \" | \".join(kw.ljust(max_len) for kw in row_keywords)\n",
        "    print(formatted_row)\n",
        "\n",
        "print(\"-\" * (max_len * num_columns + (num_columns - 1) * 3))"
      ],
      "metadata": {
        "colab": {
          "base_uri": "https://localhost:8080/"
        },
        "id": "lGsJlRTt7lwP",
        "outputId": "3a72b3f4-b755-4148-f310-68bcefb29cfe"
      },
      "execution_count": null,
      "outputs": [
        {
          "output_type": "stream",
          "name": "stdout",
          "text": [
            "-----------------------------------------\n",
            "             Python Keywords             \n",
            "-----------------------------------------\n",
            "False    | None     | True     | and     \n",
            "as       | assert   | async    | await   \n",
            "break    | class    | continue | def     \n",
            "del      | elif     | else     | except  \n",
            "finally  | for      | from     | global  \n",
            "if       | import   | in       | is      \n",
            "lambda   | nonlocal | not      | or      \n",
            "pass     | raise    | return   | try     \n",
            "while    | with     | yield   \n",
            "-----------------------------------------\n"
          ]
        }
      ]
    },
    {
      "cell_type": "markdown",
      "source": [
        "Q4. Write a program that checks if a given word is a Python keyword."
      ],
      "metadata": {
        "id": "AmCGIC428DFI"
      }
    },
    {
      "cell_type": "code",
      "source": [
        "import keyword\n",
        "\n",
        "word = input(\"Enter a keyword: \")\n",
        "\n",
        "if keyword.iskeyword(word):\n",
        "    print(f\"{word} is a Python keyword.\")\n",
        "else:\n",
        "    print(f\"{word} is not a Python keyword.\")"
      ],
      "metadata": {
        "id": "HPOuf4pW8PW4"
      },
      "execution_count": null,
      "outputs": []
    },
    {
      "cell_type": "markdown",
      "source": [
        "Q5. Create a list and tuple in Python, and demonstrate how attempting to change an element works differently\n",
        "for each."
      ],
      "metadata": {
        "id": "QgcuwHgkBMqI"
      }
    },
    {
      "cell_type": "code",
      "source": [
        "list1 = [1, 2, 3, 4, 5]\n",
        "tuple1 = (1, 2, 3, 4, 5)\n",
        "\n",
        "print(\"List before modification:\", list1)\n",
        "list1[0] = 10\n",
        "print(\"List after modification:\", list1)\n",
        "\n",
        "print(\"\\nTuple before modification:\", tuple1)\n",
        "try:\n",
        "    tuple1[0] = 10\n",
        "except TypeError as e:\n",
        "    print(\"Error:\", e)\n",
        "print(\"Tuple after modification:\", tuple1)\n"
      ],
      "metadata": {
        "colab": {
          "base_uri": "https://localhost:8080/"
        },
        "id": "2NTvkPOnBMSg",
        "outputId": "5cb754f2-3910-44f8-9612-1b54cd1c31d2"
      },
      "execution_count": null,
      "outputs": [
        {
          "output_type": "stream",
          "name": "stdout",
          "text": [
            "List before modification: [1, 2, 3, 4, 5]\n",
            "List after modification: [10, 2, 3, 4, 5]\n",
            "\n",
            "Tuple before modification: (1, 2, 3, 4, 5)\n",
            "Error: 'tuple' object does not support item assignment\n",
            "Tuple after modification: (1, 2, 3, 4, 5)\n"
          ]
        }
      ]
    },
    {
      "cell_type": "markdown",
      "source": [
        "Q6. Write a function to demonstrate the behavior of mutable and immutable arguments."
      ],
      "metadata": {
        "id": "a8lk52Zb8kvJ"
      }
    },
    {
      "cell_type": "code",
      "source": [
        "def arg_behavior(mutable_arg, immutable_arg):\n",
        "    \"\"\"\n",
        "    Demonstrates the behavior of mutable and immutable arguments.\n",
        "\n",
        "    Args:\n",
        "        mutable_arg (list): A mutable argument\n",
        "        immutable_arg (int): An immutable argument\n",
        "    \"\"\"\n",
        "\n",
        "    print(f\"(Inside function) Initial mutable_arg: {mutable_arg}\")\n",
        "    print(f\"(Inside function) Initial immutable_arg: {immutable_arg}\")\n",
        "    print()\n",
        "\n",
        "    # Modifying the mutable argument\n",
        "    mutable_arg.append(4)\n",
        "    print(f\"(Inside function) Modified mutable_arg: {mutable_arg}\")\n",
        "\n",
        "    # Attempting to modify the immutable argument (will create a new object)\n",
        "    immutable_arg += 1\n",
        "    print(f\"(Inside function) Modified immutable_arg: {immutable_arg}\")\n",
        "    print()\n",
        "\n",
        "# --- Demonstration ---\n",
        "\n",
        "# Mutable object\n",
        "my_list = [1, 2, 3]\n",
        "print(f\"[Outside function] Original list: {my_list}\")\n",
        "\n",
        "# Immutable object\n",
        "my_integer = 10\n",
        "print(f\"[Outside function] Original integer: {my_integer}\")\n",
        "print()\n",
        "\n",
        "# Call the function\n",
        "arg_behavior(my_list, my_integer)\n",
        "\n",
        "print(f\"[Outside function] List after function call: {my_list}\")\n",
        "print(f\"[Outside function] Integer after function call: {my_integer}\")"
      ],
      "metadata": {
        "id": "yTeVWaeh8l4Q"
      },
      "execution_count": null,
      "outputs": []
    },
    {
      "cell_type": "markdown",
      "source": [
        "Q7. Write a program that performs basic arithmetic operations on two user-input numbers."
      ],
      "metadata": {
        "id": "43bNepE7A3XH"
      }
    },
    {
      "cell_type": "code",
      "source": [
        "a = int(input(\"Enter first number: \"))\n",
        "b = int(input(\"Enter second number: \"))\n",
        "def add(a,b):\n",
        "  return a+b\n",
        "def sub(a,b):\n",
        "  return a-b\n",
        "def mul(a,b):\n",
        "  return a*b\n",
        "def div(a,b):\n",
        "  return a/b\n",
        "while True:\n",
        "  print(\"1. Addition\")\n",
        "  print(\"2. Subtraction\")\n",
        "  print(\"3. Multiplication\")\n",
        "  print(\"4. Division\")\n",
        "  print(\"5. Exit\")\n",
        "  choice = int(input(\"Enter your choice: \"))\n",
        "  if choice == 1:\n",
        "    print(f\"{a} + {b} = {add(a,b)}\")\n",
        "    break\n",
        "  elif choice == 2:\n",
        "    print(f\"{a} - {b} = {sub(a,b)}\")\n",
        "    break\n",
        "  elif choice == 3:\n",
        "    print(f\"{a} * {b} = {mul(a,b)}\")\n",
        "    break\n",
        "  elif choice == 4:\n",
        "    print(f\"{a} / {b} = {div(a,b)}\")\n",
        "    break\n",
        "  elif choice == 5:\n",
        "    break\n",
        "  else:\n",
        "    print(\"Invalid choice. Please try again.\")"
      ],
      "metadata": {
        "id": "lJmsVT7UBt6Z"
      },
      "execution_count": null,
      "outputs": []
    },
    {
      "cell_type": "markdown",
      "source": [
        "Q8. Write a program to demonstrate the use of logical operators."
      ],
      "metadata": {
        "id": "ffA9dZzHDPbE"
      }
    },
    {
      "cell_type": "code",
      "source": [
        "a = 4\n",
        "b = 6\n",
        "c = 8\n",
        "\n",
        "# T and F = False\n",
        "print(c > b and a > c)\n",
        "\n",
        "# T or F = True\n",
        "print(c > b or a > c)\n",
        "\n",
        "#not works as inverter\n",
        "print(not(c > b and a > c)) # not(False)  ==> True\n",
        "print(not(c > b or a > c))  # not(True)   ==> False\n"
      ],
      "metadata": {
        "id": "dOWjy6zwDQB0"
      },
      "execution_count": null,
      "outputs": []
    },
    {
      "cell_type": "markdown",
      "source": [
        "Q9. Write a Python program to convert user input from string to integer, float, and boolean types."
      ],
      "metadata": {
        "id": "BGzu06N4FQd-"
      }
    },
    {
      "cell_type": "code",
      "source": [
        "usr = input(\"Enter a string: \")\n",
        "\n",
        "if usr == \"\":\n",
        "    print(\"Error: Cannot convert empty string to integer.\")\n",
        "else:\n",
        "  try:\n",
        "    int_value = int(usr)\n",
        "    print(f\"Integer value: {int_value}\")\n",
        "    float_value = float(usr)\n",
        "    print(f\"Float value: {float_value}\")\n",
        "    bool_value = bool(usr)\n",
        "    print(f\"Boolean value: {bool_value}\")\n",
        "\n",
        "  except ValueError:\n",
        "    print(\"Error: Cannot convert non-numeric string to integer.\")\n",
        "\n",
        "\n"
      ],
      "metadata": {
        "colab": {
          "base_uri": "https://localhost:8080/"
        },
        "id": "RUTxV0OXFTse",
        "outputId": "aa51319d-d04e-4637-892f-4951179f8c0c"
      },
      "execution_count": null,
      "outputs": [
        {
          "output_type": "stream",
          "name": "stdout",
          "text": [
            "Enter a string: 786\n",
            "Integer value: 786\n",
            "Float value: 786.0\n",
            "Boolean value: True\n"
          ]
        }
      ]
    },
    {
      "cell_type": "markdown",
      "source": [
        "Q10. Write code to demonstrate type casting with list elements."
      ],
      "metadata": {
        "id": "tM6LdMP-HmJg"
      }
    },
    {
      "cell_type": "code",
      "source": [
        "list1 = [1, 2, 3, 4, 5]\n",
        "print(f\"Interger: {list1}\")\n",
        "\n",
        "#Type casting from int to float\n",
        "for i in range(len(list1)):\n",
        "    list1[i] = float(list1[i])\n",
        "print(f\"Float : {list1}\")\n",
        "\n",
        "#Type casting from float to string\n",
        "for i in range(len(list1)):\n",
        "    list1[i] = str(list1[i])\n",
        "print(f\"String: {list1}\")"
      ],
      "metadata": {
        "colab": {
          "base_uri": "https://localhost:8080/"
        },
        "id": "J53of8WzHmfw",
        "outputId": "6155a823-0a4b-41d5-c513-057acad664f4"
      },
      "execution_count": null,
      "outputs": [
        {
          "output_type": "stream",
          "name": "stdout",
          "text": [
            "Interger: [1, 2, 3, 4, 5]\n",
            "Float : [1.0, 2.0, 3.0, 4.0, 5.0]\n",
            "String: ['1.0', '2.0', '3.0', '4.0', '5.0']\n"
          ]
        }
      ]
    },
    {
      "cell_type": "markdown",
      "source": [
        "Q11. Write a program that checks if a number is positive, negative, or zero."
      ],
      "metadata": {
        "id": "pZxnTVafIr3J"
      }
    },
    {
      "cell_type": "code",
      "source": [
        "num1 = int(input(\"Enter a number: \"))\n",
        "if num1 > 0:\n",
        "    print(f\"\\\"{num1}\\\" is a positive number.\")\n",
        "elif num1 < 0:\n",
        "    print(f\"\\\"{num1}\\\" is a negative number.\")\n",
        "else:\n",
        "    print(f\"\\\"{num1}\\\" is Zero\")"
      ],
      "metadata": {
        "id": "XHOZag9RIv2g"
      },
      "execution_count": null,
      "outputs": []
    },
    {
      "cell_type": "markdown",
      "source": [
        "Q12. Write a for loop to print numbers from 1 to 10."
      ],
      "metadata": {
        "id": "FxZt3fIDJYLa"
      }
    },
    {
      "cell_type": "code",
      "source": [
        "for i in range(1, 11):\n",
        "    print(i)"
      ],
      "metadata": {
        "id": "fnZSw0r3Jc8J"
      },
      "execution_count": null,
      "outputs": []
    },
    {
      "cell_type": "markdown",
      "source": [
        "Q13. Write a Python program to find the sum of all even numbers between 1 and 50."
      ],
      "metadata": {
        "id": "2fvVddV6JkPi"
      }
    },
    {
      "cell_type": "code",
      "source": [
        "sum = 0\n",
        "for i in range(0,51,2):\n",
        "  sum += i\n",
        "print(f\"Sum of all even numbers between 1 and 50 is {sum}\")\n"
      ],
      "metadata": {
        "colab": {
          "base_uri": "https://localhost:8080/"
        },
        "id": "WydbASZqJYfR",
        "outputId": "8587c32a-96fb-4cc7-9ca7-e148a17e7b12"
      },
      "execution_count": null,
      "outputs": [
        {
          "output_type": "stream",
          "name": "stdout",
          "text": [
            "Sum of all even numbers between 1 and 50 is 650\n"
          ]
        }
      ]
    },
    {
      "cell_type": "markdown",
      "source": [
        "Q14. Write a program to reverse a string using a while loop."
      ],
      "metadata": {
        "id": "Xjv42xF_Kb1b"
      }
    },
    {
      "cell_type": "code",
      "source": [
        "string = \"PWSKILLS\"\n",
        "while string:\n",
        "  print(string[-1],end=\"\")\n",
        "  string = string[:-1]"
      ],
      "metadata": {
        "colab": {
          "base_uri": "https://localhost:8080/"
        },
        "id": "DWfwwa6FKcN6",
        "outputId": "3f0b79e0-f746-4939-82ed-7f3f50e2ceec"
      },
      "execution_count": null,
      "outputs": [
        {
          "output_type": "stream",
          "name": "stdout",
          "text": [
            "SLLIKSWP"
          ]
        }
      ]
    },
    {
      "cell_type": "markdown",
      "source": [
        "Q15. Write a Python program to calculate the factorial of a number provided by the user using a while loop"
      ],
      "metadata": {
        "id": "x0sobE6n6ezF"
      }
    },
    {
      "cell_type": "code",
      "source": [
        "num1 = int(input(\"Enter a number: \"))\n",
        "fact = 1\n",
        "while num1 > 0:\n",
        "  fact *= num1\n",
        "  num1 -= 1\n",
        "print(f\"Factorial of {num1} is {fact}\")"
      ],
      "metadata": {
        "id": "P0KYIOoOK-8M"
      },
      "execution_count": null,
      "outputs": []
    }
  ]
}