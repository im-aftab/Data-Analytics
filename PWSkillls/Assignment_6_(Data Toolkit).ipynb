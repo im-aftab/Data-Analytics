{
  "nbformat": 4,
  "nbformat_minor": 0,
  "metadata": {
    "colab": {
      "provenance": []
    },
    "kernelspec": {
      "name": "python3",
      "display_name": "Python 3"
    },
    "language_info": {
      "name": "python"
    }
  },
  "cells": [
    {
      "cell_type": "markdown",
      "source": [
        "*Data Toolkit*"
      ],
      "metadata": {
        "id": "tCVBaN5K16G_"
      }
    },
    {
      "cell_type": "markdown",
      "source": [
        "#Theory Questions"
      ],
      "metadata": {
        "id": "Cyt6gPh62BQo"
      }
    },
    {
      "cell_type": "markdown",
      "source": [
        "1. What is NumPy, and why is it widely used in Python ?\n",
        "  - NumPy is a fundamental, open-source Python library dedicated to numerical and scientific computing, providing fast and memory-efficient multi-dimensional array objects and a broad range of mathematical functions.\n",
        "\n",
        "  - It widely used in Python for the underlined reasons :\n",
        "\n",
        "  - Foundation of data science stack: NumPy underpins major Python libraries like Pandas, SciPy, and scikit-learn, forming the backbone of modern scientific computing and machine learning workflows.\n",
        "\n",
        "  - Speed and scalability: Its array operations are much faster than those using built-in lists, making it indispensable for processing large datasets or performing complex computations in domains such as data analysis, machine learning, computer vision, and engineering.\n",
        "\n",
        "  - Simplicity and readability: Vectorized syntax means operations can often be written in a mathematically intuitive, compact way, boosting productivity for both beginners and experts.\n",
        "\n",
        "  - Cross-language integration: With support for extending functionality via C and C++ (NumPy C-API), it’s highly extensible and connects well with other scientific libraries."
      ],
      "metadata": {
        "id": "wv2XouvZ2Gs4"
      }
    },
    {
      "cell_type": "markdown",
      "source": [
        "2. How does broadcasting work in NumPy ?\n",
        "  - In NumPy, broadcasting is a mechanism that enables arithmetic operations on arrays of different shapes by automatically expanding dimensions when possible, so element-wise operations are performed without needing explicit reshaping or copying.\n",
        "\n",
        "  - How Broadcasting Works\n",
        "    - Shape alignment: When performing operations, NumPy compares arrays’ shapes from right to left (trailing dimensions) and pads the smaller array’s shape with ones on the left if necessary.\n",
        "\n",
        "    - Dimension compatibility: Two dimensions are compatible if they are equal or if one of them is 1. If shapes don’t match and neither is 1, broadcasting cannot occur and an error is raised.\n",
        "\n",
        "    - Virtual expansion: The smaller array is virtually “stretched” or copied along the necessary dimensions to match the larger array, but NumPy does this without actual data duplication, maintaining efficiency."
      ],
      "metadata": {
        "id": "T0kpSbCi21bQ"
      }
    },
    {
      "cell_type": "markdown",
      "source": [
        "3.  What is a Pandas DataFrame ?\n",
        "  - A Pandas DataFrame is a two-dimensional, table-like data structure in Python, similar to a spreadsheet or SQL table, where data is organized in rows and columns that each have labels.\n",
        "\n",
        "  - Key Features\n",
        "    - Stores heterogeneous data types, allowing each column to have different types such as numbers, text, or dates.\n",
        "\n",
        "    - Supports flexible data manipulation: users can add, remove, or update rows and columns, perform searches, filter, sort, and merge multiple DataFrames.\n",
        "\n",
        "    - Can be created from various sources, including Python dictionaries, lists, NumPy arrays, CSV/Excel files, SQL databases, and more.\n",
        "\n",
        "    - Provides powerful tools for data analysis, cleaning, aggregation, and visualization, commonly used in data science, analytics, and machine learning."
      ],
      "metadata": {
        "id": "c3J3SPIE4Gpw"
      }
    },
    {
      "cell_type": "markdown",
      "source": [
        "4. Explain the use of the groupby() method in Pandas.\n",
        "  - The groupby() method in Pandas lets users split their DataFrame into groups based on the values of one or more columns, making it easy to analyze data by categories—like grouping sales by product or averages by department.\n",
        "\n",
        "  - It simplifies aggregation (sum, average, count) by categories or groups.\n",
        "\n",
        "  - Supports data transformation within groups and filtering out groups based on custom logic.\n",
        "\n",
        "  - Essential for data analysis tasks where summary statistics are needed for each distinct group, like analyzing sales per region or test scores per class."
      ],
      "metadata": {
        "id": "3Wukbae44XzH"
      }
    },
    {
      "cell_type": "markdown",
      "source": [
        "5.  Why is Seaborn preferred for statistical visualizations.\n",
        "  - Seaborn is preferred for statistical visualizations because it is built on top of Matplotlib and provides a higher-level, easier-to-use interface that simplifies creating attractive and informative statistical plots with minimal code.\n",
        "  - Reasons :\n",
        "    - Beautiful default styles and color palettes\n",
        "    - Specialized statistical plotting functions\n",
        "    - Seamless integration with Pandas\n",
        "    - Simpler syntax for complex plots\n",
        "    - Automatic handling of overlapping and distribution visualization"
      ],
      "metadata": {
        "id": "3fMDXJhe5C-I"
      }
    },
    {
      "cell_type": "markdown",
      "source": [
        "6.  What are the differences between NumPy arrays and Python lists ?\n",
        "  - The main differences between NumPy arrays and Python lists are based on data types, performance, memory usage, and functionality:\n",
        "\n",
        "  - NumPy arrays :\n",
        "    - **Data Type** :: Homogeneous: All elements must be of the same type, which enables optimizations\n",
        "\n",
        "    - **Performance** ::\tMuch faster for numerical computations due to optimized C-based implementation and contiguous memory storage\n",
        "\n",
        "    - **Memory Efficiency**\t:: More memory efficient because elements are stored contiguously and require less overhead per element\n",
        "\n",
        "    - **Functionality**\t:: Supports extensive mathematical, scientific operations (matrix multiplication, linear algebra, etc.)\n",
        "\n",
        "    - **Element-wise Operations**\t:: Supports vectorized element-wise operations without explicit loops (fast and concise)\n",
        "\n",
        "    - **Use Case** ::\tBest for large numerical datasets, scientific computing, machine learning\n",
        "\n",
        "  - Python Lists :\n",
        "\n",
        "    - **Data Type** :: Heterogeneous: Can store mixed data types (numbers, strings, etc.)\n",
        "\n",
        "    - **Performance** :: Slower for numerical operations as they are more general-purpose and not optimized\n",
        "\n",
        "    - **Memory Efficiency** :: Less memory efficient; each element stores extra info (type, reference), and memory can be fragmented\n",
        "\n",
        "    - **Functionality** :: General-purpose sequence with flexible data types, supports diverse operations but not optimized for math\n",
        "\n",
        "    - **Element-wise Operations** :: Requires explicit loops or comprehensions for element-wise operations, which is slower\n",
        "\n",
        "    - **Use Case** :: Best for general use, especially with diverse or mixed data types or smaller collections\n",
        "    \n"
      ],
      "metadata": {
        "id": "ZOROaALh5piX"
      }
    },
    {
      "cell_type": "markdown",
      "source": [
        "7. A What is a heatmap, and when should it be used ?\n",
        "\n",
        "  - A heatmap is a data visualization tool that displays the magnitude of values in a matrix or 2D dataset using colors. Each cell's color intensity corresponds to the value it represents, making it easy to see patterns, correlations, or clusters at a glance\n",
        "\n",
        "  - Heatmap is used,\n",
        "    - When you want to quickly identify patterns or relationships in a complex dataset.\n",
        "\n",
        "    - To visualize correlation between variables in a dataset, showing how they vary relative to each other.\n",
        "\n",
        "    - For visualizing frequency or intensity over two categorical or continuous dimensions, like traffic on a website over days and hours, or stock price changes over time.\n",
        "\n",
        "    - To detect clusters or hotspots in data like gene expression or user behavior."
      ],
      "metadata": {
        "id": "PfSiHKLe7Tak"
      }
    },
    {
      "cell_type": "markdown",
      "source": [
        "8. What does the term “vectorized operation” mean in NumPy ?\n",
        "  - The term “vectorized operation” in NumPy refers to performing mathematical or logical operations on entire arrays of data at once, rather than processing each element one by one using explicit loops.\n",
        "  \n",
        "For example,\n",
        "\n",
        "  - Adding a number to every element of an array or adding two arrays element-wise is done in a single step internally rather than in Python loops.\n"
      ],
      "metadata": {
        "id": "2Eryegte78Pm"
      }
    },
    {
      "cell_type": "markdown",
      "source": [
        "9. How does Matplotlib differ from Plotly ?\n",
        "  - Matplotlib and Plotly are both popular Python visualization libraries, but they differ fundamentally in their approach, features, and typical use cases:\n",
        "  - Main Differences\n",
        "    - Plot Type and Nature\n",
        "\n",
        "      - Matplotlib: Primarily creates static, publication-quality plots suitable for reports, academic papers, and detailed visual analysis.\n",
        "\n",
        "      - Plotly: Creates interactive, web-friendly visualizations with built-in features like zooming, panning, tooltips, and selection.\n",
        "\n",
        "    - Interactivity\n",
        "\n",
        "      - Matplotlib: Mostly static images. Some interactivity is possible via extensions or Jupyter environment but generally limited.\n",
        "\n",
        "      - Plotly: Interactive by default, allowing users to explore data dynamically within notebooks, web apps, or dashboards.\n",
        "\n",
        "    - Ease of Use and Styling\n",
        "\n",
        "      - Matplotlib: Offers extensive customization but requires more code and has a steeper learning curve, especially for complex plots.\n",
        "\n",
        "      - Plotly: Provides modern, polished visuals with less code and simple APIs, especially through Plotly Express, making it more user-friendly for quick interactive graphics.\n",
        "\n",
        "    - Integration and Use Cases\n",
        "\n",
        "      - Matplotlib: Strongly integrated with scientific Python stack (NumPy, SciPy) and preferred for scientific research and detailed static visualization.\n",
        "\n",
        "      - Plotly: Well-suited for building interactive dashboards, web applications (via Dash), and exploratory data analysis where user interaction is key.\n",
        "\n",
        "    - Performance\n",
        "\n",
        "      - Matplotlib: Efficient for static plots and handles large static datasets well.\n",
        "\n",
        "      - Plotly: Interactivity might introduce performance overhead with very large datasets rendered in browsers"
      ],
      "metadata": {
        "id": "HsMGEPak9mib"
      }
    },
    {
      "cell_type": "markdown",
      "source": [
        "10. What is the significance of hierarchical indexing in Pandas ?\n",
        "  - Hierarchical indexing in Pandas, also called multi-level indexing, is a powerful feature that allows a DataFrame or Series to have multiple index levels instead of just one, enabling the representation of higher-dimensional data within the familiar 2-dimensional structure.\n",
        "\n",
        "  - Significance of Hierarchical Indexing\n",
        "    - Organizing Complex Data: It helps organize data with multiple categorical or grouping variables by combining them into a single, structured index. For example, data indexed first by state, then by role type, creates logical groupings and relationships within the data.\n",
        "\n",
        "    - Efficient Queries and Slicing: Queries become more flexible and efficient since you can slice data on multiple levels of the index. For instance, selecting all employees in a state or a specific role within that state is straightforward using multi-level .loc or .xs methods.\n",
        "\n",
        "    - Compact Representation of Higher Dimensions: It enables storing what would be multi-dimensional or panel data in a compact 2D DataFrame format. This is useful for time-series data, grouped experimental results, or multi-faceted datasets.\n",
        "\n",
        "    - Performance Gains: Sorting data by hierarchical indexes can speed up data retrieval and grouping operations, because Pandas can optimize access paths internally"
      ],
      "metadata": {
        "id": "Ap2MYmBL-x5-"
      }
    },
    {
      "cell_type": "markdown",
      "source": [
        "11. What is the role of Seaborn’s pairplot() function ?\n",
        "  - The role of Seaborn’s pairplot() function is to provide a quick and easy way to visualize pairwise relationships between variables in a dataset.\n",
        "  - Pairplot() is used,\n",
        "    - When exploring a dataset to identify correlations, patterns, or trends between multiple numeric variables at once.\n",
        "\n",
        "    - To get a compact, visual summary of the entire dataset in a single figure.\n",
        "\n",
        "    - To observe variable distributions and how different features interact visually without writing multiple individual plots.\n",
        "In short, pairplot() is a powerful tool to quickly visualize relationships and distributions for exploratory data analysis."
      ],
      "metadata": {
        "id": "cGHJjtCA_JSG"
      }
    },
    {
      "cell_type": "markdown",
      "source": [
        "12. What is the purpose of the describe() function in Pandas ?\n",
        "  - The describe() function in Pandas is used to generate a statistical summary of the numerical columns in a DataFrame or Series.\n",
        "\n",
        "  - Purpose\n",
        "    - It provides key metrics that describe the central tendency, dispersion, and shape of the data distribution at a glance.\n",
        "\n",
        "    - The summary includes statistics like count (non-null count), mean (average), standard deviation (spread), min, max, and several percentiles (25th, 50th/median, 75th by default).\n",
        "\n",
        "    - It helps in quick exploratory data analysis to understand the dataset’s overall structure and identify potential issues (like missing values or outliers)."
      ],
      "metadata": {
        "id": "uWVpE3G2_fh2"
      }
    },
    {
      "cell_type": "markdown",
      "source": [
        "13. Why is handling missing data important in Pandas ?\n",
        "  - Handling missing data in Pandas is crucial because missing values can skew analysis results, reduce model accuracy, and lead to incorrect conclusions.\n",
        "\n",
        "  - Importance of Handling Missing Data\n",
        "    - Accuracy: Missing values can distort statistical analyses and machine learning models, leading to inaccurate predictions or misleading insights.\n",
        "\n",
        "    - Data Integrity: Properly addressing missing data maintains the integrity and consistency of datasets, ensuring more trustworthy analysis.\n",
        "\n",
        "    - Bias Prevention: Unhandled missing data can introduce bias, making some groups underrepresented or causing systematic errors.\n",
        "\n",
        "    - Algorithm Compatibility: Many algorithms require complete data; missing values can cause failures or require special handling during modeling.\n",
        "\n",
        "    - Improved Model Performance: Filling or removing missing data appropriately helps models learn better patterns and generalize more effectively"
      ],
      "metadata": {
        "id": "0pBm5-0__7Yw"
      }
    },
    {
      "cell_type": "markdown",
      "source": [
        "14. What are the benefits of using Plotly for data visualization ?\n",
        "  - The benefits of using Plotly for data visualization include:\n",
        "\n",
        "    - Interactivity: Plotly creates highly interactive charts where users can zoom, pan, hover over points for details, and select data dynamically, making data exploration engaging and insightful.\n",
        "\n",
        "    - Beautiful, Modern Visuals: It produces polished, aesthetically pleasing visualizations with customizable themes and color palettes, helping to communicate data effectively.\n",
        "\n",
        "    - Ease of Use: Plotly’s Python API, especially with Plotly Express, is straightforward and allows creating complex plots with minimal code, ideal for beginners and experts alike.\n",
        "\n",
        "    - Web-Ready and Shareable: Visualizations can be saved as standalone HTML files, embedded in websites, or integrated into web applications and dashboards (using Dash), facilitating easy sharing and deployment.\n",
        "\n",
        "    - Wide Range of Chart Types: Supports over 40 chart types, including 3D plots, statistical charts, maps, and more, catering to diverse analytic needs.\n",
        "\n",
        "    - Seamless Integration: Works well with Python data tools like Pandas and NumPy, enabling smooth data handling and visualization in workflows.\n",
        "\n",
        "    - Customization and Flexibility: Users can finely control styling, annotations, layout, and interactivity options to tailor visualizations to specific needs."
      ],
      "metadata": {
        "id": "HLJ8xly1ARVo"
      }
    },
    {
      "cell_type": "markdown",
      "source": [
        "15. How does NumPy handle multidimensional arrays ?\n",
        "  - NumPy handles multidimensional arrays using its core data structure called ndarray, which is a fixed-size, homogeneous container of items organized in multiple dimensions\n",
        "  - NumPy Handles Multidimensional Arrays using following operations :\n",
        "    - Creation: NumPy arrays can be created from nested lists or other arrays, where each nested list represents a dimension. For example, a list of lists creates a 2D array, and a list of list of lists makes a 3D array.\n",
        "\n",
        "    - Shape and Dimensions: Each ndarray has a shape attribute that describes its size in each dimension, e.g., (3, 4) meaning 3 rows and 4 columns for a 2D array.\n",
        "\n",
        "    - Indexing and Slicing: Elements or subarrays can be accessed and modified using multi-index notation like array[row, column] and slices [start:stop] for each dimension independently.\n",
        "\n",
        "    - Vectorized Operations: NumPy applies mathematical or logical operations element-wise and efficiently across all dimensions, leveraging optimized C code internally for speed without explicit Python loops.\n",
        "\n",
        "    - Operations: Supports matrix operations like dot product, transposition, sum along axes, and more, allowing multidimensional linear algebra and data manipulation.\n",
        "\n",
        "    - Iterating: Arrays can be iterated dimension by dimension; iterating on an n-dimensional array goes over the (n-1)th dimension slices, while nested loops or nditer allow accessing scalars."
      ],
      "metadata": {
        "id": "T0NdUDoLAf2g"
      }
    },
    {
      "cell_type": "markdown",
      "source": [
        "16. What is the role of Bokeh in data visualization ?\n",
        " - The role of Bokeh in data visualization is to provide a powerful Python library for creating interactive, web-ready visualizations that can be easily embedded in web applications, dashboards, or Jupyter notebooks.\n",
        "\n",
        "Key Roles and Features of Bokeh:\n",
        "  - Interactivity: Bokeh’s core strength is making plots interactive with features like zooming, panning, hover tools, and widgets, enabling dynamic exploration of data by users.\n",
        "\n",
        "  - Web Integration: It renders visualizations using HTML, JavaScript, and CSS, making them easily embeddable into modern web browsers and web frameworks like Flask or Django.\n",
        "\n",
        "  - Flexible Plotting: Supports simple common plots as well as complex custom visualizations with fine control over layouts, tools, and widgets.\n",
        "\n",
        "  - Easy Data Pipeline Integration: Works seamlessly with Python data tools like Pandas and NumPy for efficient data preparation and plotting.\n",
        "\n",
        "  - Sharing and Deployment: Visualizations can be exported as standalone HTML files or integrated into interactive web dashboards, making sharing results with others simple and effective.\n",
        "\n",
        "  - Open Source and Extensible: Bokeh is BSD licensed and actively developed, with options to extend plots using custom JavaScript for specialized cases."
      ],
      "metadata": {
        "id": "YB5xyFqaBMT5"
      }
    },
    {
      "cell_type": "markdown",
      "source": [
        "17. Explain the difference between apply() and map() in Pandas.\n",
        "  - The main difference between apply() and map() in Pandas is in their scope and usage: map() is designed for element-wise operations on Series, while apply() provides more versatility and can be used on both Series and DataFrames for more complex transformations or aggregations.\n",
        "\n",
        "map() in Pandas\n",
        "  - Scope: Only for Pandas Series, not DataFrames.\n",
        "\n",
        "  - Functionality: Performs element-wise mapping using a function, dictionary, or Series; transforms each value independently.\n",
        "\n",
        "  - Usage Example: Common for simple data transformations, like converting categories or scaling numeric values.\n",
        "\n",
        "  - Limitations: Cannot perform operations involving aggregation across elements; works only on one element at a time.\n",
        "\n",
        "apply() in Pandas\n",
        "  - Scope: Works on both Series and DataFrames.\n",
        "\n",
        "  - Functionality: Applies functions element-wise (on Series) or along an axis (row or column) for DataFrames, supporting complex and aggregative operations.\n",
        "\n",
        "  - Usage Example: Suitable for computations involving entire rows, columns, or custom functions that aren’t simply element-wise.\n",
        "\n",
        "  - Flexibility: Ideal for non-vectorized functions, aggregation, or when transformations depend on multiple elements"
      ],
      "metadata": {
        "id": "t2zB54DaBluC"
      }
    },
    {
      "cell_type": "markdown",
      "source": [
        "18. What are some advanced features of NumPy ?\n",
        "  - NumPy offers several advanced features that elevate Python’s capabilities for scientific computing, high-performance data manipulation, and mathematical modeling.\n",
        "\n",
        "  - Array Manipulation Techniques\n",
        "    - Stacking and Concatenation: Combine arrays vertically, horizontally, or along custom axes using functions like np.vstack, np.hstack, and np.concatenate for complex data transformations.\n",
        "\n",
        "    - Reshaping and Broadcasting: Efficiently reshape arrays and apply operations across arrays with different shapes using broadcasting, which eliminates the need for explicit Python loops.\n",
        "\n",
        "    - Masked and Structured Arrays: Handle missing or invalid values using masked arrays, and work with complex, multi-field records with structured arrays for heterogeneous data types.\n",
        "\n",
        "  - Advanced Mathematical Operations\n",
        "    - Vectorized Operations: Perform fast, element-wise calculations using vectorized functions for arithmetic, trigonometric, and statistical computations, enhancing processing speed and code readability.\n",
        "\n",
        "    - Linear Algebra Module (np.linalg): Solve linear equations, compute determinants, eigenvalues, traces, and matrix powers, among many other advanced matrix operations.\n",
        "\n",
        "    - Random Sampling and Probability: Generate random numbers, perform sampling, and work with random distributions for simulations and statistical analysis.\n",
        "\n",
        "  - Performance and Memory Management\n",
        "    - Memory Views and In-Place Operations: Save memory and execution time by using views (no data copy) and in-place operations as needed.\n",
        "\n",
        "    - Underlying C Optimizations: Utilizes optimized libraries (like Intel’s MKL) for matrix math, which dramatically increases speed for computationally intensive workloads."
      ],
      "metadata": {
        "id": "cxobm4zsyZxb"
      }
    },
    {
      "cell_type": "markdown",
      "source": [
        "19. How does Pandas simplify time series analysis ?\n",
        "  - Pandas makes time series analysis easy and powerful with dedicated features for working with date and time data, indexing, resampling, and rolling-window calculations.\n",
        "\n",
        "  - Date and Time Indexing\n",
        "    - DatetimeIndex: Pandas enables time-based indexing and slicing using the DatetimeIndex, letting users filter and select data over specific periods intuitively.\n",
        "\n",
        "    - Automatic Parsing: Functions like pd.to_datetime() efficiently convert string representations to proper datetime objects for analysis.\n",
        "\n",
        "  - Resampling and Frequency Conversion\n",
        "    - Resampling: Convert data frequencies (e.g., daily to monthly or weekly) using the resample method, and perform aggregations such as mean, sum, or max on the new frequency.\n",
        "\n",
        "    - Rolling Windows: Use rolling statistics to analyze trends and cycles, smoothing out noise and uncovering patterns in time series.\n",
        "\n",
        "  - Feature Extraction and Visualization\n",
        "    - Period, Timestamp, Timedelta Objects: Work with time spans, durations, and periods for advanced time-based grouping and analysis.\n",
        "\n",
        "    - Plotting Integration: Seamlessly visualize time series with Pandas and Matplotlib for rapid insight into trends and seasonality.\n",
        "\n",
        "    - Handling Missing Data: Fill or interpolate missing dates and times using built-in methods, keeping time series continuity intact\n"
      ],
      "metadata": {
        "id": "03YgwzzkzCD0"
      }
    },
    {
      "cell_type": "markdown",
      "source": [
        "20. What is the role of a pivot table in Pandas ?\n",
        "  - A pivot table in Pandas is a powerful tool for summarizing, aggregating, and organizing raw data into informative reports by transforming DataFrame columns and rows in various ways.\n",
        "\n",
        "  - Purpose and Functionality\n",
        "    - Data Summarization: Pivot tables group data using one or more keys, and apply aggregation functions (like mean, sum, count) on specified fields, revealing insights and patterns.\n",
        "\n",
        "    - Reshaping Data: They enable users to rotate or “pivot” data, converting rows to columns (and vice versa), which helps restructure datasets for further analysis or visualization.\n",
        "\n",
        "    - Multi-dimensional Views: Supports hierarchical (multi-level) indexing and custom aggregation, so analysts can explore multiple perspectives within a dataset efficiently."
      ],
      "metadata": {
        "id": "ClaawoPQzZrD"
      }
    },
    {
      "cell_type": "markdown",
      "source": [
        "21.  Why is NumPy’s array slicing faster than Python’s list slicing ?\n",
        "  - NumPy’s array slicing is faster than Python’s list slicing because NumPy arrays are stored in contiguous blocks of memory and are implemented in optimized C code, making bulk operations highly efficient."
      ],
      "metadata": {
        "id": "N-WbQqHezql7"
      }
    },
    {
      "cell_type": "markdown",
      "source": [
        "22. What are some common use cases for Seaborn ?\n",
        "  - Seaborn is widely used in data visualization with several common use cases that simplify exploring and presenting data patterns, relationships, and distributions.\n",
        "\n",
        "  - Common Use Cases of Seaborn\n",
        "    - Visualizing Relationships Between Variables\n",
        "      - Seaborn excels at visualizing relationships with plots like scatterplots, pair plots, and regression plots to identify correlations and trends in data.\n",
        "\n",
        "    - Categorical Data Visualization\n",
        "      - It offers categorical plots such as bar plots, box plots, and violin plots to summarize distributions and compare categories effectively.\n",
        "\n",
        "    - Distribution Analysis\n",
        "      - Histograms, kernel density estimates (KDE), and jointplots are used to understand the distribution of one or more numeric variables and their joint relationships.\n",
        "\n",
        "    - Faceted and Grid Plots\n",
        "      - Seaborn’s FacetGrid allows creating multiple subplots grouped by categories for comparative analysis across different subsets of data.\n",
        "\n",
        "    - Time Series and Line Plots\n",
        "      - Line plots are used for tracking changes over time, making Seaborn useful for time series analysis and trend identification.\n",
        "\n",
        "    - Statistical Model Visualization\n",
        "      - Tools like regplot and lmplot help visualize linear regression models and confidence intervals for statistical inference"
      ],
      "metadata": {
        "id": "qYDX7vqfz4sL"
      }
    },
    {
      "cell_type": "markdown",
      "source": [
        "# PRACTICAL QUESTIONS\n"
      ],
      "metadata": {
        "id": "OjKubEGH0Xwb"
      }
    },
    {
      "cell_type": "markdown",
      "source": [
        "1. How do you create a 2D NumPy array and calculate the sum of each row ?"
      ],
      "metadata": {
        "id": "YsHfVJP50hGL"
      }
    },
    {
      "cell_type": "code",
      "source": [
        "import numpy as np\n",
        "\n",
        "# Create a 2D NumPy array\n",
        "array_2d = np.array([[1, 2, 3],\n",
        "                     [4, 5, 6],\n",
        "                     [7, 8, 9]])\n",
        "\n",
        "# Calculate the sum of each row\n",
        "row_sums = np.sum(array_2d, axis=1)\n",
        "\n",
        "print(\"2D NumPy Array:\")\n",
        "print(array_2d)\n",
        "print(\"\\nSum of each row:\")\n",
        "print(row_sums)"
      ],
      "metadata": {
        "colab": {
          "base_uri": "https://localhost:8080/"
        },
        "id": "bbsJnlct0nWy",
        "outputId": "ed66de50-809d-4506-b4ae-454d5fd1b082"
      },
      "execution_count": 1,
      "outputs": [
        {
          "output_type": "stream",
          "name": "stdout",
          "text": [
            "2D NumPy Array:\n",
            "[[1 2 3]\n",
            " [4 5 6]\n",
            " [7 8 9]]\n",
            "\n",
            "Sum of each row:\n",
            "[ 6 15 24]\n"
          ]
        }
      ]
    },
    {
      "cell_type": "markdown",
      "source": [
        "2. Write a Pandas script to find the mean of a specific column in a DataFrame."
      ],
      "metadata": {
        "id": "99XC_B2H0zHT"
      }
    },
    {
      "cell_type": "code",
      "source": [
        "import pandas as pd\n",
        "\n",
        "# Create a sample DataFrame\n",
        "data = {'col1': [10, 20, 30, 40, 50],\n",
        "        'col2': [100, 200, 300, 400, 500]}\n",
        "df = pd.DataFrame(data)\n",
        "\n",
        "# Specify the column for which you want to calculate the mean\n",
        "column_name = 'col1'\n",
        "\n",
        "# Calculate the mean of the specific column\n",
        "mean_value = df[column_name].mean()\n",
        "\n",
        "print(\"DataFrame:\")\n",
        "print(df)\n",
        "print(f\"\\nMean of column '{column_name}':\")\n",
        "print(mean_value)"
      ],
      "metadata": {
        "colab": {
          "base_uri": "https://localhost:8080/"
        },
        "id": "-VPTaQS4013z",
        "outputId": "fbfef939-2acf-4270-880f-1419c2fc70a3"
      },
      "execution_count": 2,
      "outputs": [
        {
          "output_type": "stream",
          "name": "stdout",
          "text": [
            "DataFrame:\n",
            "   col1  col2\n",
            "0    10   100\n",
            "1    20   200\n",
            "2    30   300\n",
            "3    40   400\n",
            "4    50   500\n",
            "\n",
            "Mean of column 'col1':\n",
            "30.0\n"
          ]
        }
      ]
    },
    {
      "cell_type": "markdown",
      "source": [
        "3. Create a scatter plot using Matplotlib."
      ],
      "metadata": {
        "id": "fH4FoqYz1FUR"
      }
    },
    {
      "cell_type": "code",
      "source": [
        "import matplotlib.pyplot as plt\n",
        "import pandas as pd\n",
        "\n",
        "# Create a sample DataFrame (you can replace this with your data)\n",
        "data = {'col1': [1, 2, 3, 4, 5],\n",
        "        'col2': [10, 15, 13, 18, 20]}\n",
        "df = pd.DataFrame(data)\n",
        "\n",
        "# Create a scatter plot\n",
        "plt.scatter(df['col1'], df['col2'])\n",
        "\n",
        "# Add labels and title\n",
        "plt.xlabel('Col1')\n",
        "plt.ylabel('Col2')\n",
        "plt.title('Scatter Plot of Col1 vs Col2')\n",
        "\n",
        "# Display the plot\n",
        "plt.show()"
      ],
      "metadata": {
        "colab": {
          "base_uri": "https://localhost:8080/",
          "height": 472
        },
        "id": "adm6GPJA1NBI",
        "outputId": "122157ee-8bd9-437c-c8ed-a88e669f0ac5"
      },
      "execution_count": 3,
      "outputs": [
        {
          "output_type": "display_data",
          "data": {
            "text/plain": [
              "<Figure size 640x480 with 1 Axes>"
            ],
            "image/png": "[encoded data removed]"
          },
          "metadata": {}
        }
      ]
    },
    {
      "cell_type": "markdown",
      "source": [
        "4. How do you calculate the correlation matrix using Seaborn and visualize it with a heatmap ?"
      ],
      "metadata": {
        "id": "o2EzOE6U1zCF"
      }
    },
    {
      "cell_type": "code",
      "metadata": {
        "colab": {
          "base_uri": "https://localhost:8080/",
          "height": 452
        },
        "id": "20818452",
        "outputId": "cdd2018a-1489-4601-91b4-e0f1168775c1"
      },
      "source": [
        "import seaborn as sns\n",
        "import matplotlib.pyplot as plt\n",
        "import pandas as pd\n",
        "\n",
        "# Create a sample DataFrame (replace with your data)\n",
        "data = {'col1': [1, 2, 3, 4, 5],\n",
        "        'col2': [10, 15, 13, 18, 20],\n",
        "        'col3': [5, 10, 8, 12, 15]}\n",
        "df = pd.DataFrame(data)\n",
        "\n",
        "# Calculate the correlation matrix\n",
        "correlation_matrix = df.corr()\n",
        "\n",
        "# Visualize the correlation matrix using a heatmap\n",
        "sns.heatmap(correlation_matrix, annot=True, cmap='coolwarm')\n",
        "\n",
        "# Add title\n",
        "plt.title('Correlation Matrix Heatmap')\n",
        "\n",
        "# Display the plot\n",
        "plt.show()"
      ],
      "execution_count": 4,
      "outputs": [
        {
          "output_type": "display_data",
          "data": {
            "text/plain": [
              "<Figure size 640x480 with 2 Axes>"
            ],
            "image/png": "[encoded data removed]"
          },
          "metadata": {}
        }
      ]
    },
    {
      "cell_type": "markdown",
      "source": [
        "5. Generate a bar plot using Plotly."
      ],
      "metadata": {
        "id": "rYqcNhKA18EW"
      }
    },
    {
      "cell_type": "code",
      "metadata": {
        "colab": {
          "base_uri": "https://localhost:8080/",
          "height": 542
        },
        "id": "2c5f8a00",
        "outputId": "0287bcc6-7fbf-4692-ab4f-f9dae0a0bf69"
      },
      "source": [
        "import plotly.express as px\n",
        "import pandas as pd\n",
        "\n",
        "# Create a sample DataFrame\n",
        "data = {'Category': ['A', 'B', 'C', 'D', 'E'],\n",
        "        'Value': [10, 15, 13, 18, 20]}\n",
        "df = pd.DataFrame(data)\n",
        "\n",
        "# Create a bar plot using Plotly Express\n",
        "fig = px.bar(df, x='Category', y='Value', title='Bar Plot of Category vs Value')\n",
        "\n",
        "# Display the plot\n",
        "fig.show()"
      ],
      "execution_count": 5,
      "outputs": [
        {
          "output_type": "display_data",
          "data": {
            "text/html": [
              "<html>\n",
              "<head><meta charset=\"utf-8\" /></head>\n",
              "<body>\n",
              "    <div>            <script src=\"https://cdnjs.cloudflare.com/ajax/libs/mathjax/2.7.5/MathJax.js?config=TeX-AMS-MML_SVG\"></script><script type=\"text/javascript\">if (window.MathJax && window.MathJax.Hub && window.MathJax.Hub.Config) {window.MathJax.Hub.Config({SVG: {font: \"STIX-Web\"}});}</script>                <script type=\"text/javascript\">window.PlotlyConfig = {MathJaxConfig: 'local'};</script>\n",
              "        <script charset=\"utf-8\" src=\"https://cdn.plot.ly/plotly-2.35.2.min.js\"></script>                <div id=\"5547b523-0f28-4a20-af9c-a5a2c4d45040\" class=\"plotly-graph-div\" style=\"height:525px; width:100%;\"></div>            <script type=\"text/javascript\">                                    window.PLOTLYENV=window.PLOTLYENV || {};                                    if (document.getElementById(\"5547b523-0f28-4a20-af9c-a5a2c4d45040\")) {                    Plotly.newPlot(                        \"5547b523-0f28-4a20-af9c-a5a2c4d45040\",                        [{\"alignmentgroup\":\"True\",\"hovertemplate\":\"Category=%{x}\\u003cbr\\u003eValue=%{y}\\u003cextra\\u003e\\u003c\\u002fextra\\u003e\",\"legendgroup\":\"\",\"marker\":{\"color\":\"#636efa\",\"pattern\":{\"shape\":\"\"}},\"name\":\"\",\"offsetgroup\":\"\",\"orientation\":\"v\",\"showlegend\":false,\"textposition\":\"auto\",\"x\":[\"A\",\"B\",\"C\",\"D\",\"E\"],\"xaxis\":\"x\",\"y\":[10,15,13,18,20],\"yaxis\":\"y\",\"type\":\"bar\"}],                        {\"template\":{\"data\":{\"histogram2dcontour\":[{\"type\":\"histogram2dcontour\",\"colorbar\":{\"outlinewidth\":0,\"ticks\":\"\"},\"colorscale\":[[0.0,\"#0d0887\"],[0.1111111111111111,\"#46039f\"],[0.2222222222222222,\"#7201a8\"],[0.3333333333333333,\"#9c179e\"],[0.4444444444444444,\"#bd3786\"],[0.5555555555555556,\"#d8576b\"],[0.6666666666666666,\"#ed7953\"],[0.7777777777777778,\"#fb9f3a\"],[0.8888888888888888,\"#fdca26\"],[1.0,\"#f0f921\"]]}],\"choropleth\":[{\"type\":\"choropleth\",\"colorbar\":{\"outlinewidth\":0,\"ticks\":\"\"}}],\"histogram2d\":[{\"type\":\"histogram2d\",\"colorbar\":{\"outlinewidth\":0,\"ticks\":\"\"},\"colorscale\":[[0.0,\"#0d0887\"],[0.1111111111111111,\"#46039f\"],[0.2222222222222222,\"#7201a8\"],[0.3333333333333333,\"#9c179e\"],[0.4444444444444444,\"#bd3786\"],[0.5555555555555556,\"#d8576b\"],[0.6666666666666666,\"#ed7953\"],[0.7777777777777778,\"#fb9f3a\"],[0.8888888888888888,\"#fdca26\"],[1.0,\"#f0f921\"]]}],\"heatmap\":[{\"type\":\"heatmap\",\"colorbar\":{\"outlinewidth\":0,\"ticks\":\"\"},\"colorscale\":[[0.0,\"#0d0887\"],[0.1111111111111111,\"#46039f\"],[0.2222222222222222,\"#7201a8\"],[0.3333333333333333,\"#9c179e\"],[0.4444444444444444,\"#bd3786\"],[0.5555555555555556,\"#d8576b\"],[0.6666666666666666,\"#ed7953\"],[0.7777777777777778,\"#fb9f3a\"],[0.8888888888888888,\"#fdca26\"],[1.0,\"#f0f921\"]]}],\"heatmapgl\":[{\"type\":\"heatmapgl\",\"colorbar\":{\"outlinewidth\":0,\"ticks\":\"\"},\"colorscale\":[[0.0,\"#0d0887\"],[0.1111111111111111,\"#46039f\"],[0.2222222222222222,\"#7201a8\"],[0.3333333333333333,\"#9c179e\"],[0.4444444444444444,\"#bd3786\"],[0.5555555555555556,\"#d8576b\"],[0.6666666666666666,\"#ed7953\"],[0.7777777777777778,\"#fb9f3a\"],[0.8888888888888888,\"#fdca26\"],[1.0,\"#f0f921\"]]}],\"contourcarpet\":[{\"type\":\"contourcarpet\",\"colorbar\":{\"outlinewidth\":0,\"ticks\":\"\"}}],\"contour\":[{\"type\":\"contour\",\"colorbar\":{\"outlinewidth\":0,\"ticks\":\"\"},\"colorscale\":[[0.0,\"#0d0887\"],[0.1111111111111111,\"#46039f\"],[0.2222222222222222,\"#7201a8\"],[0.3333333333333333,\"#9c179e\"],[0.4444444444444444,\"#bd3786\"],[0.5555555555555556,\"#d8576b\"],[0.6666666666666666,\"#ed7953\"],[0.7777777777777778,\"#fb9f3a\"],[0.8888888888888888,\"#fdca26\"],[1.0,\"#f0f921\"]]}],\"surface\":[{\"type\":\"surface\",\"colorbar\":{\"outlinewidth\":0,\"ticks\":\"\"},\"colorscale\":[[0.0,\"#0d0887\"],[0.1111111111111111,\"#46039f\"],[0.2222222222222222,\"#7201a8\"],[0.3333333333333333,\"#9c179e\"],[0.4444444444444444,\"#bd3786\"],[0.5555555555555556,\"#d8576b\"],[0.6666666666666666,\"#ed7953\"],[0.7777777777777778,\"#fb9f3a\"],[0.8888888888888888,\"#fdca26\"],[1.0,\"#f0f921\"]]}],\"mesh3d\":[{\"type\":\"mesh3d\",\"colorbar\":{\"outlinewidth\":0,\"ticks\":\"\"}}],\"scatter\":[{\"fillpattern\":{\"fillmode\":\"overlay\",\"size\":10,\"solidity\":0.2},\"type\":\"scatter\"}],\"parcoords\":[{\"type\":\"parcoords\",\"line\":{\"colorbar\":{\"outlinewidth\":0,\"ticks\":\"\"}}}],\"scatterpolargl\":[{\"type\":\"scatterpolargl\",\"marker\":{\"colorbar\":{\"outlinewidth\":0,\"ticks\":\"\"}}}],\"bar\":[{\"error_x\":{\"color\":\"#2a3f5f\"},\"error_y\":{\"color\":\"#2a3f5f\"},\"marker\":{\"line\":{\"color\":\"#E5ECF6\",\"width\":0.5},\"pattern\":{\"fillmode\":\"overlay\",\"size\":10,\"solidity\":0.2}},\"type\":\"bar\"}],\"scattergeo\":[{\"type\":\"scattergeo\",\"marker\":{\"colorbar\":{\"outlinewidth\":0,\"ticks\":\"\"}}}],\"scatterpolar\":[{\"type\":\"scatterpolar\",\"marker\":{\"colorbar\":{\"outlinewidth\":0,\"ticks\":\"\"}}}],\"histogram\":[{\"marker\":{\"pattern\":{\"fillmode\":\"overlay\",\"size\":10,\"solidity\":0.2}},\"type\":\"histogram\"}],\"scattergl\":[{\"type\":\"scattergl\",\"marker\":{\"colorbar\":{\"outlinewidth\":0,\"ticks\":\"\"}}}],\"scatter3d\":[{\"type\":\"scatter3d\",\"line\":{\"colorbar\":{\"outlinewidth\":0,\"ticks\":\"\"}},\"marker\":{\"colorbar\":{\"outlinewidth\":0,\"ticks\":\"\"}}}],\"scattermapbox\":[{\"type\":\"scattermapbox\",\"marker\":{\"colorbar\":{\"outlinewidth\":0,\"ticks\":\"\"}}}],\"scatterternary\":[{\"type\":\"scatterternary\",\"marker\":{\"colorbar\":{\"outlinewidth\":0,\"ticks\":\"\"}}}],\"scattercarpet\":[{\"type\":\"scattercarpet\",\"marker\":{\"colorbar\":{\"outlinewidth\":0,\"ticks\":\"\"}}}],\"carpet\":[{\"aaxis\":{\"endlinecolor\":\"#2a3f5f\",\"gridcolor\":\"white\",\"linecolor\":\"white\",\"minorgridcolor\":\"white\",\"startlinecolor\":\"#2a3f5f\"},\"baxis\":{\"endlinecolor\":\"#2a3f5f\",\"gridcolor\":\"white\",\"linecolor\":\"white\",\"minorgridcolor\":\"white\",\"startlinecolor\":\"#2a3f5f\"},\"type\":\"carpet\"}],\"table\":[{\"cells\":{\"fill\":{\"color\":\"#EBF0F8\"},\"line\":{\"color\":\"white\"}},\"header\":{\"fill\":{\"color\":\"#C8D4E3\"},\"line\":{\"color\":\"white\"}},\"type\":\"table\"}],\"barpolar\":[{\"marker\":{\"line\":{\"color\":\"#E5ECF6\",\"width\":0.5},\"pattern\":{\"fillmode\":\"overlay\",\"size\":10,\"solidity\":0.2}},\"type\":\"barpolar\"}],\"pie\":[{\"automargin\":true,\"type\":\"pie\"}]},\"layout\":{\"autotypenumbers\":\"strict\",\"colorway\":[\"#636efa\",\"#EF553B\",\"#00cc96\",\"#ab63fa\",\"#FFA15A\",\"#19d3f3\",\"#FF6692\",\"#B6E880\",\"#FF97FF\",\"#FECB52\"],\"font\":{\"color\":\"#2a3f5f\"},\"hovermode\":\"closest\",\"hoverlabel\":{\"align\":\"left\"},\"paper_bgcolor\":\"white\",\"plot_bgcolor\":\"#E5ECF6\",\"polar\":{\"bgcolor\":\"#E5ECF6\",\"angularaxis\":{\"gridcolor\":\"white\",\"linecolor\":\"white\",\"ticks\":\"\"},\"radialaxis\":{\"gridcolor\":\"white\",\"linecolor\":\"white\",\"ticks\":\"\"}},\"ternary\":{\"bgcolor\":\"#E5ECF6\",\"aaxis\":{\"gridcolor\":\"white\",\"linecolor\":\"white\",\"ticks\":\"\"},\"baxis\":{\"gridcolor\":\"white\",\"linecolor\":\"white\",\"ticks\":\"\"},\"caxis\":{\"gridcolor\":\"white\",\"linecolor\":\"white\",\"ticks\":\"\"}},\"coloraxis\":{\"colorbar\":{\"outlinewidth\":0,\"ticks\":\"\"}},\"colorscale\":{\"sequential\":[[0.0,\"#0d0887\"],[0.1111111111111111,\"#46039f\"],[0.2222222222222222,\"#7201a8\"],[0.3333333333333333,\"#9c179e\"],[0.4444444444444444,\"#bd3786\"],[0.5555555555555556,\"#d8576b\"],[0.6666666666666666,\"#ed7953\"],[0.7777777777777778,\"#fb9f3a\"],[0.8888888888888888,\"#fdca26\"],[1.0,\"#f0f921\"]],\"sequentialminus\":[[0.0,\"#0d0887\"],[0.1111111111111111,\"#46039f\"],[0.2222222222222222,\"#7201a8\"],[0.3333333333333333,\"#9c179e\"],[0.4444444444444444,\"#bd3786\"],[0.5555555555555556,\"#d8576b\"],[0.6666666666666666,\"#ed7953\"],[0.7777777777777778,\"#fb9f3a\"],[0.8888888888888888,\"#fdca26\"],[1.0,\"#f0f921\"]],\"diverging\":[[0,\"#8e0152\"],[0.1,\"#c51b7d\"],[0.2,\"#de77ae\"],[0.3,\"#f1b6da\"],[0.4,\"#fde0ef\"],[0.5,\"#f7f7f7\"],[0.6,\"#e6f5d0\"],[0.7,\"#b8e186\"],[0.8,\"#7fbc41\"],[0.9,\"#4d9221\"],[1,\"#276419\"]]},\"xaxis\":{\"gridcolor\":\"white\",\"linecolor\":\"white\",\"ticks\":\"\",\"title\":{\"standoff\":15},\"zerolinecolor\":\"white\",\"automargin\":true,\"zerolinewidth\":2},\"yaxis\":{\"gridcolor\":\"white\",\"linecolor\":\"white\",\"ticks\":\"\",\"title\":{\"standoff\":15},\"zerolinecolor\":\"white\",\"automargin\":true,\"zerolinewidth\":2},\"scene\":{\"xaxis\":{\"backgroundcolor\":\"#E5ECF6\",\"gridcolor\":\"white\",\"linecolor\":\"white\",\"showbackground\":true,\"ticks\":\"\",\"zerolinecolor\":\"white\",\"gridwidth\":2},\"yaxis\":{\"backgroundcolor\":\"#E5ECF6\",\"gridcolor\":\"white\",\"linecolor\":\"white\",\"showbackground\":true,\"ticks\":\"\",\"zerolinecolor\":\"white\",\"gridwidth\":2},\"zaxis\":{\"backgroundcolor\":\"#E5ECF6\",\"gridcolor\":\"white\",\"linecolor\":\"white\",\"showbackground\":true,\"ticks\":\"\",\"zerolinecolor\":\"white\",\"gridwidth\":2}},\"shapedefaults\":{\"line\":{\"color\":\"#2a3f5f\"}},\"annotationdefaults\":{\"arrowcolor\":\"#2a3f5f\",\"arrowhead\":0,\"arrowwidth\":1},\"geo\":{\"bgcolor\":\"white\",\"landcolor\":\"#E5ECF6\",\"subunitcolor\":\"white\",\"showland\":true,\"showlakes\":true,\"lakecolor\":\"white\"},\"title\":{\"x\":0.05},\"mapbox\":{\"style\":\"light\"}}},\"xaxis\":{\"anchor\":\"y\",\"domain\":[0.0,1.0],\"title\":{\"text\":\"Category\"}},\"yaxis\":{\"anchor\":\"x\",\"domain\":[0.0,1.0],\"title\":{\"text\":\"Value\"}},\"legend\":{\"tracegroupgap\":0},\"title\":{\"text\":\"Bar Plot of Category vs Value\"},\"barmode\":\"relative\"},                        {\"responsive\": true}                    ).then(function(){\n",
              "                            \n",
              "var gd = document.getElementById('5547b523-0f28-4a20-af9c-a5a2c4d45040');\n",
              "var x = new MutationObserver(function (mutations, observer) {{\n",
              "        var display = window.getComputedStyle(gd).display;\n",
              "        if (!display || display === 'none') {{\n",
              "            console.log([gd, 'removed!']);\n",
              "            Plotly.purge(gd);\n",
              "            observer.disconnect();\n",
              "        }}\n",
              "}});\n",
              "\n",
              "// Listen for the removal of the full notebook cells\n",
              "var notebookContainer = gd.closest('#notebook-container');\n",
              "if (notebookContainer) {{\n",
              "    x.observe(notebookContainer, {childList: true});\n",
              "}}\n",
              "\n",
              "// Listen for the clearing of the current output cell\n",
              "var outputEl = gd.closest('.output');\n",
              "if (outputEl) {{\n",
              "    x.observe(outputEl, {childList: true});\n",
              "}}\n",
              "\n",
              "                        })                };                            </script>        </div>\n",
              "</body>\n",
              "</html>"
            ]
          },
          "metadata": {}
        }
      ]
    },
    {
      "cell_type": "markdown",
      "source": [
        "6. Create a DataFrame and add a new column based on an existing column."
      ],
      "metadata": {
        "id": "ZVh0QXrs2NoJ"
      }
    },
    {
      "cell_type": "code",
      "metadata": {
        "colab": {
          "base_uri": "https://localhost:8080/"
        },
        "id": "2dad6365",
        "outputId": "9d689a88-fc02-44ac-ec65-1e8f73560bc6"
      },
      "source": [
        "import pandas as pd\n",
        "\n",
        "# Create a sample DataFrame\n",
        "data = {'col1': [10, 20, 30, 40, 50],\n",
        "        'col2': [100, 200, 300, 400, 500]}\n",
        "df = pd.DataFrame(data)\n",
        "\n",
        "# Add a new column based on an existing column (e.g., 'col3' is 'col1' * 2)\n",
        "df['col3'] = df['col1'] * 2\n",
        "\n",
        "print(\"DataFrame with new column:\")\n",
        "print(df)"
      ],
      "execution_count": 6,
      "outputs": [
        {
          "output_type": "stream",
          "name": "stdout",
          "text": [
            "DataFrame with new column:\n",
            "   col1  col2  col3\n",
            "0    10   100    20\n",
            "1    20   200    40\n",
            "2    30   300    60\n",
            "3    40   400    80\n",
            "4    50   500   100\n"
          ]
        }
      ]
    },
    {
      "cell_type": "markdown",
      "source": [
        "7. Write a program to perform element-wise multiplication of two NumPy arrays."
      ],
      "metadata": {
        "id": "2t9_LQl32TDh"
      }
    },
    {
      "cell_type": "code",
      "metadata": {
        "colab": {
          "base_uri": "https://localhost:8080/"
        },
        "id": "a4631fe9",
        "outputId": "6ec83e5f-c846-4c56-f087-15b6c883b87a"
      },
      "source": [
        "import numpy as np\n",
        "\n",
        "# Create two NumPy arrays\n",
        "array1 = np.array([1, 2, 3, 4, 5])\n",
        "array2 = np.array([10, 20, 30, 40, 50])\n",
        "\n",
        "# Perform element-wise multiplication\n",
        "result_array = array1 * array2\n",
        "\n",
        "print(\"Array 1:\")\n",
        "print(array1)\n",
        "print(\"\\nArray 2:\")\n",
        "print(array2)\n",
        "print(\"\\nElement-wise multiplication result:\")\n",
        "print(result_array)"
      ],
      "execution_count": 7,
      "outputs": [
        {
          "output_type": "stream",
          "name": "stdout",
          "text": [
            "Array 1:\n",
            "[1 2 3 4 5]\n",
            "\n",
            "Array 2:\n",
            "[10 20 30 40 50]\n",
            "\n",
            "Element-wise multiplication result:\n",
            "[ 10  40  90 160 250]\n"
          ]
        }
      ]
    },
    {
      "cell_type": "markdown",
      "source": [
        "8. Create a line plot with multiple lines using Matplotlib."
      ],
      "metadata": {
        "id": "3A1gHr3w2yLV"
      }
    },
    {
      "cell_type": "code",
      "metadata": {
        "colab": {
          "base_uri": "https://localhost:8080/",
          "height": 472
        },
        "id": "9ddc5a62",
        "outputId": "9e9c6f9a-d406-40ee-ae7f-a77b1ad1f9e5"
      },
      "source": [
        "import matplotlib.pyplot as plt\n",
        "import pandas as pd\n",
        "\n",
        "# Create a sample DataFrame with multiple lines\n",
        "data = {'x': [1, 2, 3, 4, 5],\n",
        "        'line1': [10, 12, 15, 13, 16],\n",
        "        'line2': [5, 8, 11, 9, 14]}\n",
        "df = pd.DataFrame(data)\n",
        "\n",
        "# Create a line plot with multiple lines\n",
        "plt.plot(df['x'], df['line1'], label='Line 1')\n",
        "plt.plot(df['x'], df['line2'], label='Line 2')\n",
        "\n",
        "# Add labels, title, and legend\n",
        "plt.xlabel('X-axis')\n",
        "plt.ylabel('Y-axis')\n",
        "plt.title('Line Plot with Multiple Lines')\n",
        "plt.legend()\n",
        "\n",
        "# Display the plot\n",
        "plt.show()"
      ],
      "execution_count": 8,
      "outputs": [
        {
          "output_type": "display_data",
          "data": {
            "text/plain": [
              "<Figure size 640x480 with 1 Axes>"
            ],
            "image/png": "[encoded data removed]"
          },
          "metadata": {}
        }
      ]
    },
    {
      "cell_type": "markdown",
      "source": [
        "9. Generate a Pandas DataFrame and filter rows where a column value is greater than a threshold."
      ],
      "metadata": {
        "id": "pUPnSLyh23j-"
      }
    },
    {
      "cell_type": "code",
      "metadata": {
        "colab": {
          "base_uri": "https://localhost:8080/",
          "height": 281
        },
        "id": "478d0ed0",
        "outputId": "c91a4537-65c8-4eba-e50a-b5081d71bd86"
      },
      "source": [
        "import pandas as pd\n",
        "\n",
        "# Create a sample DataFrame\n",
        "data = {'col1': [10, 20, 30, 40, 50],\n",
        "        'col2': [100, 200, 300, 400, 500]}\n",
        "df = pd.DataFrame(data)\n",
        "\n",
        "# Specify the threshold\n",
        "threshold = 30\n",
        "\n",
        "# Filter rows where 'col1' is greater than the threshold\n",
        "filtered_df = df[df['col1'] > threshold]\n",
        "\n",
        "print(\"Original DataFrame:\")\n",
        "print(df)\n",
        "print(f\"\\nDataFrame filtered where 'col1' > {threshold}:\")\n",
        "display(filtered_df)"
      ],
      "execution_count": 9,
      "outputs": [
        {
          "output_type": "stream",
          "name": "stdout",
          "text": [
            "Original DataFrame:\n",
            "   col1  col2\n",
            "0    10   100\n",
            "1    20   200\n",
            "2    30   300\n",
            "3    40   400\n",
            "4    50   500\n",
            "\n",
            "DataFrame filtered where 'col1' > 30:\n"
          ]
        },
        {
          "output_type": "display_data",
          "data": {
            "text/plain": [
              "   col1  col2\n",
              "3    40   400\n",
              "4    50   500"
            ],
            "text/html": [
              "\n",
              "  <div id=\"df-3e747369-cbed-4a32-8ab3-b5f7d1b242b4\" class=\"colab-df-container\">\n",
              "    <div>\n",
              "<style scoped>\n",
              "    .dataframe tbody tr th:only-of-type {\n",
              "        vertical-align: middle;\n",
              "    }\n",
              "\n",
              "    .dataframe tbody tr th {\n",
              "        vertical-align: top;\n",
              "    }\n",
              "\n",
              "    .dataframe thead th {\n",
              "        text-align: right;\n",
              "    }\n",
              "</style>\n",
              "<table border=\"1\" class=\"dataframe\">\n",
              "  <thead>\n",
              "    <tr style=\"text-align: right;\">\n",
              "      <th></th>\n",
              "      <th>col1</th>\n",
              "      <th>col2</th>\n",
              "    </tr>\n",
              "  </thead>\n",
              "  <tbody>\n",
              "    <tr>\n",
              "      <th>3</th>\n",
              "      <td>40</td>\n",
              "      <td>400</td>\n",
              "    </tr>\n",
              "    <tr>\n",
              "      <th>4</th>\n",
              "      <td>50</td>\n",
              "      <td>500</td>\n",
              "    </tr>\n",
              "  </tbody>\n",
              "</table>\n",
              "</div>\n",
              "    <div class=\"colab-df-buttons\">\n",
              "\n",
              "  <div class=\"colab-df-container\">\n",
              "    <button class=\"colab-df-convert\" onclick=\"convertToInteractive('df-3e747369-cbed-4a32-8ab3-b5f7d1b242b4')\"\n",
              "            title=\"Convert this dataframe to an interactive table.\"\n",
              "            style=\"display:none;\">\n",
              "\n",
              "  <svg xmlns=\"http://www.w3.org/2000/svg\" height=\"24px\" viewBox=\"0 -960 960 960\">\n",
              "    <path d=\"M120-120v-720h720v720H120Zm60-500h600v-160H180v160Zm220 220h160v-160H400v160Zm0 220h160v-160H400v160ZM180-400h160v-160H180v160Zm440 0h160v-160H620v160ZM180-180h160v-160H180v160Zm440 0h160v-160H620v160Z\"/>\n",
              "  </svg>\n",
              "    </button>\n",
              "\n",
              "  <style>\n",
              "    .colab-df-container {\n",
              "      display:flex;\n",
              "      gap: 12px;\n",
              "    }\n",
              "\n",
              "    .colab-df-convert {\n",
              "      background-color: #E8F0FE;\n",
              "      border: none;\n",
              "      border-radius: 50%;\n",
              "      cursor: pointer;\n",
              "      display: none;\n",
              "      fill: #1967D2;\n",
              "      height: 32px;\n",
              "      padding: 0 0 0 0;\n",
              "      width: 32px;\n",
              "    }\n",
              "\n",
              "    .colab-df-convert:hover {\n",
              "      background-color: #E2EBFA;\n",
              "      box-shadow: 0px 1px 2px rgba(60, 64, 67, 0.3), 0px 1px 3px 1px rgba(60, 64, 67, 0.15);\n",
              "      fill: #174EA6;\n",
              "    }\n",
              "\n",
              "    .colab-df-buttons div {\n",
              "      margin-bottom: 4px;\n",
              "    }\n",
              "\n",
              "    [theme=dark] .colab-df-convert {\n",
              "      background-color: #3B4455;\n",
              "      fill: #D2E3FC;\n",
              "    }\n",
              "\n",
              "    [theme=dark] .colab-df-convert:hover {\n",
              "      background-color: #434B5C;\n",
              "      box-shadow: 0px 1px 3px 1px rgba(0, 0, 0, 0.15);\n",
              "      filter: drop-shadow(0px 1px 2px rgba(0, 0, 0, 0.3));\n",
              "      fill: #FFFFFF;\n",
              "    }\n",
              "  </style>\n",
              "\n",
              "    <script>\n",
              "      const buttonEl =\n",
              "        document.querySelector('#df-3e747369-cbed-4a32-8ab3-b5f7d1b242b4 button.colab-df-convert');\n",
              "      buttonEl.style.display =\n",
              "        google.colab.kernel.accessAllowed ? 'block' : 'none';\n",
              "\n",
              "      async function convertToInteractive(key) {\n",
              "        const element = document.querySelector('#df-3e747369-cbed-4a32-8ab3-b5f7d1b242b4');\n",
              "        const dataTable =\n",
              "          await google.colab.kernel.invokeFunction('convertToInteractive',\n",
              "                                                    [key], {});\n",
              "        if (!dataTable) return;\n",
              "\n",
              "        const docLinkHtml = 'Like what you see? Visit the ' +\n",
              "          '<a target=\"_blank\" href=https://colab.research.google.com/notebooks/data_table.ipynb>data table notebook</a>'\n",
              "          + ' to learn more about interactive tables.';\n",
              "        element.innerHTML = '';\n",
              "        dataTable['output_type'] = 'display_data';\n",
              "        await google.colab.output.renderOutput(dataTable, element);\n",
              "        const docLink = document.createElement('div');\n",
              "        docLink.innerHTML = docLinkHtml;\n",
              "        element.appendChild(docLink);\n",
              "      }\n",
              "    </script>\n",
              "  </div>\n",
              "\n",
              "\n",
              "    <div id=\"df-d8a0a0e7-ff41-4e22-a3ef-116d491cdd61\">\n",
              "      <button class=\"colab-df-quickchart\" onclick=\"quickchart('df-d8a0a0e7-ff41-4e22-a3ef-116d491cdd61')\"\n",
              "                title=\"Suggest charts\"\n",
              "                style=\"display:none;\">\n",
              "\n",
              "<svg xmlns=\"http://www.w3.org/2000/svg\" height=\"24px\"viewBox=\"0 0 24 24\"\n",
              "     width=\"24px\">\n",
              "    <g>\n",
              "        <path d=\"M19 3H5c-1.1 0-2 .9-2 2v14c0 1.1.9 2 2 2h14c1.1 0 2-.9 2-2V5c0-1.1-.9-2-2-2zM9 17H7v-7h2v7zm4 0h-2V7h2v10zm4 0h-2v-4h2v4z\"/>\n",
              "    </g>\n",
              "</svg>\n",
              "      </button>\n",
              "\n",
              "<style>\n",
              "  .colab-df-quickchart {\n",
              "      --bg-color: #E8F0FE;\n",
              "      --fill-color: #1967D2;\n",
              "      --hover-bg-color: #E2EBFA;\n",
              "      --hover-fill-color: #174EA6;\n",
              "      --disabled-fill-color: #AAA;\n",
              "      --disabled-bg-color: #DDD;\n",
              "  }\n",
              "\n",
              "  [theme=dark] .colab-df-quickchart {\n",
              "      --bg-color: #3B4455;\n",
              "      --fill-color: #D2E3FC;\n",
              "      --hover-bg-color: #434B5C;\n",
              "      --hover-fill-color: #FFFFFF;\n",
              "      --disabled-bg-color: #3B4455;\n",
              "      --disabled-fill-color: #666;\n",
              "  }\n",
              "\n",
              "  .colab-df-quickchart {\n",
              "    background-color: var(--bg-color);\n",
              "    border: none;\n",
              "    border-radius: 50%;\n",
              "    cursor: pointer;\n",
              "    display: none;\n",
              "    fill: var(--fill-color);\n",
              "    height: 32px;\n",
              "    padding: 0;\n",
              "    width: 32px;\n",
              "  }\n",
              "\n",
              "  .colab-df-quickchart:hover {\n",
              "    background-color: var(--hover-bg-color);\n",
              "    box-shadow: 0 1px 2px rgba(60, 64, 67, 0.3), 0 1px 3px 1px rgba(60, 64, 67, 0.15);\n",
              "    fill: var(--button-hover-fill-color);\n",
              "  }\n",
              "\n",
              "  .colab-df-quickchart-complete:disabled,\n",
              "  .colab-df-quickchart-complete:disabled:hover {\n",
              "    background-color: var(--disabled-bg-color);\n",
              "    fill: var(--disabled-fill-color);\n",
              "    box-shadow: none;\n",
              "  }\n",
              "\n",
              "  .colab-df-spinner {\n",
              "    border: 2px solid var(--fill-color);\n",
              "    border-color: transparent;\n",
              "    border-bottom-color: var(--fill-color);\n",
              "    animation:\n",
              "      spin 1s steps(1) infinite;\n",
              "  }\n",
              "\n",
              "  @keyframes spin {\n",
              "    0% {\n",
              "      border-color: transparent;\n",
              "      border-bottom-color: var(--fill-color);\n",
              "      border-left-color: var(--fill-color);\n",
              "    }\n",
              "    20% {\n",
              "      border-color: transparent;\n",
              "      border-left-color: var(--fill-color);\n",
              "      border-top-color: var(--fill-color);\n",
              "    }\n",
              "    30% {\n",
              "      border-color: transparent;\n",
              "      border-left-color: var(--fill-color);\n",
              "      border-top-color: var(--fill-color);\n",
              "      border-right-color: var(--fill-color);\n",
              "    }\n",
              "    40% {\n",
              "      border-color: transparent;\n",
              "      border-right-color: var(--fill-color);\n",
              "      border-top-color: var(--fill-color);\n",
              "    }\n",
              "    60% {\n",
              "      border-color: transparent;\n",
              "      border-right-color: var(--fill-color);\n",
              "    }\n",
              "    80% {\n",
              "      border-color: transparent;\n",
              "      border-right-color: var(--fill-color);\n",
              "      border-bottom-color: var(--fill-color);\n",
              "    }\n",
              "    90% {\n",
              "      border-color: transparent;\n",
              "      border-bottom-color: var(--fill-color);\n",
              "    }\n",
              "  }\n",
              "</style>\n",
              "\n",
              "      <script>\n",
              "        async function quickchart(key) {\n",
              "          const quickchartButtonEl =\n",
              "            document.querySelector('#' + key + ' button');\n",
              "          quickchartButtonEl.disabled = true;  // To prevent multiple clicks.\n",
              "          quickchartButtonEl.classList.add('colab-df-spinner');\n",
              "          try {\n",
              "            const charts = await google.colab.kernel.invokeFunction(\n",
              "                'suggestCharts', [key], {});\n",
              "          } catch (error) {\n",
              "            console.error('Error during call to suggestCharts:', error);\n",
              "          }\n",
              "          quickchartButtonEl.classList.remove('colab-df-spinner');\n",
              "          quickchartButtonEl.classList.add('colab-df-quickchart-complete');\n",
              "        }\n",
              "        (() => {\n",
              "          let quickchartButtonEl =\n",
              "            document.querySelector('#df-d8a0a0e7-ff41-4e22-a3ef-116d491cdd61 button');\n",
              "          quickchartButtonEl.style.display =\n",
              "            google.colab.kernel.accessAllowed ? 'block' : 'none';\n",
              "        })();\n",
              "      </script>\n",
              "    </div>\n",
              "\n",
              "  <div id=\"id_6037f58c-7f5e-4552-b2e2-657b7c156e52\">\n",
              "    <style>\n",
              "      .colab-df-generate {\n",
              "        background-color: #E8F0FE;\n",
              "        border: none;\n",
              "        border-radius: 50%;\n",
              "        cursor: pointer;\n",
              "        display: none;\n",
              "        fill: #1967D2;\n",
              "        height: 32px;\n",
              "        padding: 0 0 0 0;\n",
              "        width: 32px;\n",
              "      }\n",
              "\n",
              "      .colab-df-generate:hover {\n",
              "        background-color: #E2EBFA;\n",
              "        box-shadow: 0px 1px 2px rgba(60, 64, 67, 0.3), 0px 1px 3px 1px rgba(60, 64, 67, 0.15);\n",
              "        fill: #174EA6;\n",
              "      }\n",
              "\n",
              "      [theme=dark] .colab-df-generate {\n",
              "        background-color: #3B4455;\n",
              "        fill: #D2E3FC;\n",
              "      }\n",
              "\n",
              "      [theme=dark] .colab-df-generate:hover {\n",
              "        background-color: #434B5C;\n",
              "        box-shadow: 0px 1px 3px 1px rgba(0, 0, 0, 0.15);\n",
              "        filter: drop-shadow(0px 1px 2px rgba(0, 0, 0, 0.3));\n",
              "        fill: #FFFFFF;\n",
              "      }\n",
              "    </style>\n",
              "    <button class=\"colab-df-generate\" onclick=\"generateWithVariable('filtered_df')\"\n",
              "            title=\"Generate code using this dataframe.\"\n",
              "            style=\"display:none;\">\n",
              "\n",
              "  <svg xmlns=\"http://www.w3.org/2000/svg\" height=\"24px\"viewBox=\"0 0 24 24\"\n",
              "       width=\"24px\">\n",
              "    <path d=\"M7,19H8.4L18.45,9,17,7.55,7,17.6ZM5,21V16.75L18.45,3.32a2,2,0,0,1,2.83,0l1.4,1.43a1.91,1.91,0,0,1,.58,1.4,1.91,1.91,0,0,1-.58,1.4L9.25,21ZM18.45,9,17,7.55Zm-12,3A5.31,5.31,0,0,0,4.9,8.1,5.31,5.31,0,0,0,1,6.5,5.31,5.31,0,0,0,4.9,4.9,5.31,5.31,0,0,0,6.5,1,5.31,5.31,0,0,0,8.1,4.9,5.31,5.31,0,0,0,12,6.5,5.46,5.46,0,0,0,6.5,12Z\"/>\n",
              "  </svg>\n",
              "    </button>\n",
              "    <script>\n",
              "      (() => {\n",
              "      const buttonEl =\n",
              "        document.querySelector('#id_6037f58c-7f5e-4552-b2e2-657b7c156e52 button.colab-df-generate');\n",
              "      buttonEl.style.display =\n",
              "        google.colab.kernel.accessAllowed ? 'block' : 'none';\n",
              "\n",
              "      buttonEl.onclick = () => {\n",
              "        google.colab.notebook.generateWithVariable('filtered_df');\n",
              "      }\n",
              "      })();\n",
              "    </script>\n",
              "  </div>\n",
              "\n",
              "    </div>\n",
              "  </div>\n"
            ],
            "application/vnd.google.colaboratory.intrinsic+json": {
              "type": "dataframe",
              "variable_name": "filtered_df",
              "summary": "{\n  \"name\": \"filtered_df\",\n  \"rows\": 2,\n  \"fields\": [\n    {\n      \"column\": \"col1\",\n      \"properties\": {\n        \"dtype\": \"number\",\n        \"std\": 7,\n        \"min\": 40,\n        \"max\": 50,\n        \"num_unique_values\": 2,\n        \"samples\": [\n          50,\n          40\n        ],\n        \"semantic_type\": \"\",\n        \"description\": \"\"\n      }\n    },\n    {\n      \"column\": \"col2\",\n      \"properties\": {\n        \"dtype\": \"number\",\n        \"std\": 70,\n        \"min\": 400,\n        \"max\": 500,\n        \"num_unique_values\": 2,\n        \"samples\": [\n          500,\n          400\n        ],\n        \"semantic_type\": \"\",\n        \"description\": \"\"\n      }\n    }\n  ]\n}"
            }
          },
          "metadata": {}
        }
      ]
    },
    {
      "cell_type": "markdown",
      "source": [
        "10. Create a histogram using Seaborn to visualize a distribution."
      ],
      "metadata": {
        "id": "lPAcWu55268P"
      }
    },
    {
      "cell_type": "code",
      "metadata": {
        "colab": {
          "base_uri": "https://localhost:8080/",
          "height": 472
        },
        "id": "54ea571c",
        "outputId": "c252df31-edb9-4d64-c072-78b503b543db"
      },
      "source": [
        "import seaborn as sns\n",
        "import matplotlib.pyplot as plt\n",
        "import pandas as pd\n",
        "import numpy as np\n",
        "\n",
        "# Create a sample DataFrame with random data\n",
        "data = {'values': np.random.randn(100)}\n",
        "df = pd.DataFrame(data)\n",
        "\n",
        "# Create a histogram using Seaborn\n",
        "sns.histplot(df['values'], kde=True)\n",
        "\n",
        "# Add labels and title\n",
        "plt.xlabel('Value')\n",
        "plt.ylabel('Frequency')\n",
        "plt.title('Histogram of Values')\n",
        "\n",
        "# Display the plot\n",
        "plt.show()"
      ],
      "execution_count": 10,
      "outputs": [
        {
          "output_type": "display_data",
          "data": {
            "text/plain": [
              "<Figure size 640x480 with 1 Axes>"
            ],
            "image/png": "[encoded data removed]"
          },
          "metadata": {}
        }
      ]
    },
    {
      "cell_type": "markdown",
      "source": [
        "11. Perform matrix multiplication using NumPy."
      ],
      "metadata": {
        "id": "gpPcr-3R3Eoo"
      }
    },
    {
      "cell_type": "code",
      "metadata": {
        "colab": {
          "base_uri": "https://localhost:8080/"
        },
        "id": "70d2db32",
        "outputId": "4ec1cc1b-1d9b-4429-ef02-c5e4b2c1cb36"
      },
      "source": [
        "import numpy as np\n",
        "\n",
        "# Create two NumPy matrices\n",
        "matrix1 = np.array([[1, 2],\n",
        "                    [3, 4]])\n",
        "matrix2 = np.array([[5, 6],\n",
        "                    [7, 8]])\n",
        "\n",
        "# Perform matrix multiplication\n",
        "result_matrix = np.dot(matrix1, matrix2)\n",
        "\n",
        "print(\"Matrix 1:\")\n",
        "print(matrix1)\n",
        "print(\"\\nMatrix 2:\")\n",
        "print(matrix2)\n",
        "print(\"\\nMatrix multiplication result:\")\n",
        "print(result_matrix)"
      ],
      "execution_count": 11,
      "outputs": [
        {
          "output_type": "stream",
          "name": "stdout",
          "text": [
            "Matrix 1:\n",
            "[[1 2]\n",
            " [3 4]]\n",
            "\n",
            "Matrix 2:\n",
            "[[5 6]\n",
            " [7 8]]\n",
            "\n",
            "Matrix multiplication result:\n",
            "[[19 22]\n",
            " [43 50]]\n"
          ]
        }
      ]
    },
    {
      "cell_type": "markdown",
      "source": [
        "12. Use Pandas to load a CSV file and display its first 5 rows."
      ],
      "metadata": {
        "id": "WlBNH_N23KXR"
      }
    },
    {
      "cell_type": "code",
      "metadata": {
        "colab": {
          "base_uri": "https://localhost:8080/"
        },
        "id": "efd290e3",
        "outputId": "5adb2812-0910-4128-f2b6-97d8adc5a684"
      },
      "source": [
        "import pandas as pd\n",
        "import os\n",
        "\n",
        "# Create a dummy CSV file\n",
        "data = {'col1': [10, 20, 30, 40, 50, 60, 70, 80, 90, 100],\n",
        "        'col2': [100, 200, 300, 400, 500, 600, 700, 800, 900, 1000]}\n",
        "dummy_df = pd.DataFrame(data)\n",
        "csv_file_path = 'dummy.csv'\n",
        "dummy_df.to_csv(csv_file_path, index=False)\n",
        "\n",
        "print(f\"Dummy CSV file created at: {csv_file_path}\")"
      ],
      "execution_count": 12,
      "outputs": [
        {
          "output_type": "stream",
          "name": "stdout",
          "text": [
            "Dummy CSV file created at: dummy.csv\n"
          ]
        }
      ]
    },
    {
      "cell_type": "code",
      "metadata": {
        "colab": {
          "base_uri": "https://localhost:8080/",
          "height": 224
        },
        "id": "9eccd7ff",
        "outputId": "2afbdec3-72d3-4290-d164-2618ec871e43"
      },
      "source": [
        "import pandas as pd\n",
        "\n",
        "# Load the CSV file\n",
        "csv_file_path = 'dummy.csv'\n",
        "df_csv = pd.read_csv(csv_file_path)\n",
        "\n",
        "# Display the first 5 rows\n",
        "print(f\"First 5 rows of '{csv_file_path}':\")\n",
        "display(df_csv.head())"
      ],
      "execution_count": 13,
      "outputs": [
        {
          "output_type": "stream",
          "name": "stdout",
          "text": [
            "First 5 rows of 'dummy.csv':\n"
          ]
        },
        {
          "output_type": "display_data",
          "data": {
            "text/plain": [
              "   col1  col2\n",
              "0    10   100\n",
              "1    20   200\n",
              "2    30   300\n",
              "3    40   400\n",
              "4    50   500"
            ],
            "text/html": [
              "\n",
              "  <div id=\"df-a4181dc3-c1d8-40bd-a600-e6cec9bae292\" class=\"colab-df-container\">\n",
              "    <div>\n",
              "<style scoped>\n",
              "    .dataframe tbody tr th:only-of-type {\n",
              "        vertical-align: middle;\n",
              "    }\n",
              "\n",
              "    .dataframe tbody tr th {\n",
              "        vertical-align: top;\n",
              "    }\n",
              "\n",
              "    .dataframe thead th {\n",
              "        text-align: right;\n",
              "    }\n",
              "</style>\n",
              "<table border=\"1\" class=\"dataframe\">\n",
              "  <thead>\n",
              "    <tr style=\"text-align: right;\">\n",
              "      <th></th>\n",
              "      <th>col1</th>\n",
              "      <th>col2</th>\n",
              "    </tr>\n",
              "  </thead>\n",
              "  <tbody>\n",
              "    <tr>\n",
              "      <th>0</th>\n",
              "      <td>10</td>\n",
              "      <td>100</td>\n",
              "    </tr>\n",
              "    <tr>\n",
              "      <th>1</th>\n",
              "      <td>20</td>\n",
              "      <td>200</td>\n",
              "    </tr>\n",
              "    <tr>\n",
              "      <th>2</th>\n",
              "      <td>30</td>\n",
              "      <td>300</td>\n",
              "    </tr>\n",
              "    <tr>\n",
              "      <th>3</th>\n",
              "      <td>40</td>\n",
              "      <td>400</td>\n",
              "    </tr>\n",
              "    <tr>\n",
              "      <th>4</th>\n",
              "      <td>50</td>\n",
              "      <td>500</td>\n",
              "    </tr>\n",
              "  </tbody>\n",
              "</table>\n",
              "</div>\n",
              "    <div class=\"colab-df-buttons\">\n",
              "\n",
              "  <div class=\"colab-df-container\">\n",
              "    <button class=\"colab-df-convert\" onclick=\"convertToInteractive('df-a4181dc3-c1d8-40bd-a600-e6cec9bae292')\"\n",
              "            title=\"Convert this dataframe to an interactive table.\"\n",
              "            style=\"display:none;\">\n",
              "\n",
              "  <svg xmlns=\"http://www.w3.org/2000/svg\" height=\"24px\" viewBox=\"0 -960 960 960\">\n",
              "    <path d=\"M120-120v-720h720v720H120Zm60-500h600v-160H180v160Zm220 220h160v-160H400v160Zm0 220h160v-160H400v160ZM180-400h160v-160H180v160Zm440 0h160v-160H620v160ZM180-180h160v-160H180v160Zm440 0h160v-160H620v160Z\"/>\n",
              "  </svg>\n",
              "    </button>\n",
              "\n",
              "  <style>\n",
              "    .colab-df-container {\n",
              "      display:flex;\n",
              "      gap: 12px;\n",
              "    }\n",
              "\n",
              "    .colab-df-convert {\n",
              "      background-color: #E8F0FE;\n",
              "      border: none;\n",
              "      border-radius: 50%;\n",
              "      cursor: pointer;\n",
              "      display: none;\n",
              "      fill: #1967D2;\n",
              "      height: 32px;\n",
              "      padding: 0 0 0 0;\n",
              "      width: 32px;\n",
              "    }\n",
              "\n",
              "    .colab-df-convert:hover {\n",
              "      background-color: #E2EBFA;\n",
              "      box-shadow: 0px 1px 2px rgba(60, 64, 67, 0.3), 0px 1px 3px 1px rgba(60, 64, 67, 0.15);\n",
              "      fill: #174EA6;\n",
              "    }\n",
              "\n",
              "    .colab-df-buttons div {\n",
              "      margin-bottom: 4px;\n",
              "    }\n",
              "\n",
              "    [theme=dark] .colab-df-convert {\n",
              "      background-color: #3B4455;\n",
              "      fill: #D2E3FC;\n",
              "    }\n",
              "\n",
              "    [theme=dark] .colab-df-convert:hover {\n",
              "      background-color: #434B5C;\n",
              "      box-shadow: 0px 1px 3px 1px rgba(0, 0, 0, 0.15);\n",
              "      filter: drop-shadow(0px 1px 2px rgba(0, 0, 0, 0.3));\n",
              "      fill: #FFFFFF;\n",
              "    }\n",
              "  </style>\n",
              "\n",
              "    <script>\n",
              "      const buttonEl =\n",
              "        document.querySelector('#df-a4181dc3-c1d8-40bd-a600-e6cec9bae292 button.colab-df-convert');\n",
              "      buttonEl.style.display =\n",
              "        google.colab.kernel.accessAllowed ? 'block' : 'none';\n",
              "\n",
              "      async function convertToInteractive(key) {\n",
              "        const element = document.querySelector('#df-a4181dc3-c1d8-40bd-a600-e6cec9bae292');\n",
              "        const dataTable =\n",
              "          await google.colab.kernel.invokeFunction('convertToInteractive',\n",
              "                                                    [key], {});\n",
              "        if (!dataTable) return;\n",
              "\n",
              "        const docLinkHtml = 'Like what you see? Visit the ' +\n",
              "          '<a target=\"_blank\" href=https://colab.research.google.com/notebooks/data_table.ipynb>data table notebook</a>'\n",
              "          + ' to learn more about interactive tables.';\n",
              "        element.innerHTML = '';\n",
              "        dataTable['output_type'] = 'display_data';\n",
              "        await google.colab.output.renderOutput(dataTable, element);\n",
              "        const docLink = document.createElement('div');\n",
              "        docLink.innerHTML = docLinkHtml;\n",
              "        element.appendChild(docLink);\n",
              "      }\n",
              "    </script>\n",
              "  </div>\n",
              "\n",
              "\n",
              "    <div id=\"df-ba324095-d768-48b4-9327-0363e19fe87c\">\n",
              "      <button class=\"colab-df-quickchart\" onclick=\"quickchart('df-ba324095-d768-48b4-9327-0363e19fe87c')\"\n",
              "                title=\"Suggest charts\"\n",
              "                style=\"display:none;\">\n",
              "\n",
              "<svg xmlns=\"http://www.w3.org/2000/svg\" height=\"24px\"viewBox=\"0 0 24 24\"\n",
              "     width=\"24px\">\n",
              "    <g>\n",
              "        <path d=\"M19 3H5c-1.1 0-2 .9-2 2v14c0 1.1.9 2 2 2h14c1.1 0 2-.9 2-2V5c0-1.1-.9-2-2-2zM9 17H7v-7h2v7zm4 0h-2V7h2v10zm4 0h-2v-4h2v4z\"/>\n",
              "    </g>\n",
              "</svg>\n",
              "      </button>\n",
              "\n",
              "<style>\n",
              "  .colab-df-quickchart {\n",
              "      --bg-color: #E8F0FE;\n",
              "      --fill-color: #1967D2;\n",
              "      --hover-bg-color: #E2EBFA;\n",
              "      --hover-fill-color: #174EA6;\n",
              "      --disabled-fill-color: #AAA;\n",
              "      --disabled-bg-color: #DDD;\n",
              "  }\n",
              "\n",
              "  [theme=dark] .colab-df-quickchart {\n",
              "      --bg-color: #3B4455;\n",
              "      --fill-color: #D2E3FC;\n",
              "      --hover-bg-color: #434B5C;\n",
              "      --hover-fill-color: #FFFFFF;\n",
              "      --disabled-bg-color: #3B4455;\n",
              "      --disabled-fill-color: #666;\n",
              "  }\n",
              "\n",
              "  .colab-df-quickchart {\n",
              "    background-color: var(--bg-color);\n",
              "    border: none;\n",
              "    border-radius: 50%;\n",
              "    cursor: pointer;\n",
              "    display: none;\n",
              "    fill: var(--fill-color);\n",
              "    height: 32px;\n",
              "    padding: 0;\n",
              "    width: 32px;\n",
              "  }\n",
              "\n",
              "  .colab-df-quickchart:hover {\n",
              "    background-color: var(--hover-bg-color);\n",
              "    box-shadow: 0 1px 2px rgba(60, 64, 67, 0.3), 0 1px 3px 1px rgba(60, 64, 67, 0.15);\n",
              "    fill: var(--button-hover-fill-color);\n",
              "  }\n",
              "\n",
              "  .colab-df-quickchart-complete:disabled,\n",
              "  .colab-df-quickchart-complete:disabled:hover {\n",
              "    background-color: var(--disabled-bg-color);\n",
              "    fill: var(--disabled-fill-color);\n",
              "    box-shadow: none;\n",
              "  }\n",
              "\n",
              "  .colab-df-spinner {\n",
              "    border: 2px solid var(--fill-color);\n",
              "    border-color: transparent;\n",
              "    border-bottom-color: var(--fill-color);\n",
              "    animation:\n",
              "      spin 1s steps(1) infinite;\n",
              "  }\n",
              "\n",
              "  @keyframes spin {\n",
              "    0% {\n",
              "      border-color: transparent;\n",
              "      border-bottom-color: var(--fill-color);\n",
              "      border-left-color: var(--fill-color);\n",
              "    }\n",
              "    20% {\n",
              "      border-color: transparent;\n",
              "      border-left-color: var(--fill-color);\n",
              "      border-top-color: var(--fill-color);\n",
              "    }\n",
              "    30% {\n",
              "      border-color: transparent;\n",
              "      border-left-color: var(--fill-color);\n",
              "      border-top-color: var(--fill-color);\n",
              "      border-right-color: var(--fill-color);\n",
              "    }\n",
              "    40% {\n",
              "      border-color: transparent;\n",
              "      border-right-color: var(--fill-color);\n",
              "      border-top-color: var(--fill-color);\n",
              "    }\n",
              "    60% {\n",
              "      border-color: transparent;\n",
              "      border-right-color: var(--fill-color);\n",
              "    }\n",
              "    80% {\n",
              "      border-color: transparent;\n",
              "      border-right-color: var(--fill-color);\n",
              "      border-bottom-color: var(--fill-color);\n",
              "    }\n",
              "    90% {\n",
              "      border-color: transparent;\n",
              "      border-bottom-color: var(--fill-color);\n",
              "    }\n",
              "  }\n",
              "</style>\n",
              "\n",
              "      <script>\n",
              "        async function quickchart(key) {\n",
              "          const quickchartButtonEl =\n",
              "            document.querySelector('#' + key + ' button');\n",
              "          quickchartButtonEl.disabled = true;  // To prevent multiple clicks.\n",
              "          quickchartButtonEl.classList.add('colab-df-spinner');\n",
              "          try {\n",
              "            const charts = await google.colab.kernel.invokeFunction(\n",
              "                'suggestCharts', [key], {});\n",
              "          } catch (error) {\n",
              "            console.error('Error during call to suggestCharts:', error);\n",
              "          }\n",
              "          quickchartButtonEl.classList.remove('colab-df-spinner');\n",
              "          quickchartButtonEl.classList.add('colab-df-quickchart-complete');\n",
              "        }\n",
              "        (() => {\n",
              "          let quickchartButtonEl =\n",
              "            document.querySelector('#df-ba324095-d768-48b4-9327-0363e19fe87c button');\n",
              "          quickchartButtonEl.style.display =\n",
              "            google.colab.kernel.accessAllowed ? 'block' : 'none';\n",
              "        })();\n",
              "      </script>\n",
              "    </div>\n",
              "\n",
              "    </div>\n",
              "  </div>\n"
            ],
            "application/vnd.google.colaboratory.intrinsic+json": {
              "type": "dataframe",
              "summary": "{\n  \"name\": \"display(df_csv\",\n  \"rows\": 5,\n  \"fields\": [\n    {\n      \"column\": \"col1\",\n      \"properties\": {\n        \"dtype\": \"number\",\n        \"std\": 15,\n        \"min\": 10,\n        \"max\": 50,\n        \"num_unique_values\": 5,\n        \"samples\": [\n          20,\n          50,\n          30\n        ],\n        \"semantic_type\": \"\",\n        \"description\": \"\"\n      }\n    },\n    {\n      \"column\": \"col2\",\n      \"properties\": {\n        \"dtype\": \"number\",\n        \"std\": 158,\n        \"min\": 100,\n        \"max\": 500,\n        \"num_unique_values\": 5,\n        \"samples\": [\n          200,\n          500,\n          300\n        ],\n        \"semantic_type\": \"\",\n        \"description\": \"\"\n      }\n    }\n  ]\n}"
            }
          },
          "metadata": {}
        }
      ]
    },
    {
      "cell_type": "markdown",
      "source": [
        "13. A Create a 3D scatter plot using Plotly."
      ],
      "metadata": {
        "id": "s8q45OWC0dMD"
      }
    },
    {
      "cell_type": "code",
      "metadata": {
        "colab": {
          "base_uri": "https://localhost:8080/",
          "height": 542
        },
        "id": "43a133e3",
        "outputId": "484beaef-b3a7-4e10-bb42-82af7a9a2ffd"
      },
      "source": [
        "import plotly.express as px\n",
        "import pandas as pd\n",
        "import numpy as np\n",
        "\n",
        "# Create a sample DataFrame with 3D data\n",
        "data = {'x': np.random.rand(50),\n",
        "        'y': np.random.rand(50),\n",
        "        'z': np.random.rand(50)}\n",
        "df = pd.DataFrame(data)\n",
        "\n",
        "# Create a 3D scatter plot using Plotly Express\n",
        "fig = px.scatter_3d(df, x='x', y='y', z='z', title='3D Scatter Plot')\n",
        "\n",
        "# Display the plot\n",
        "fig.show()"
      ],
      "execution_count": 14,
      "outputs": [
        {
          "output_type": "display_data",
          "data": {
            "text/html": [
              "<html>\n",
              "<head><meta charset=\"utf-8\" /></head>\n",
              "<body>\n",
              "    <div>            <script src=\"https://cdnjs.cloudflare.com/ajax/libs/mathjax/2.7.5/MathJax.js?config=TeX-AMS-MML_SVG\"></script><script type=\"text/javascript\">if (window.MathJax && window.MathJax.Hub && window.MathJax.Hub.Config) {window.MathJax.Hub.Config({SVG: {font: \"STIX-Web\"}});}</script>                <script type=\"text/javascript\">window.PlotlyConfig = {MathJaxConfig: 'local'};</script>\n",
              "        <script charset=\"utf-8\" src=\"https://cdn.plot.ly/plotly-2.35.2.min.js\"></script>                <div id=\"098e7622-46d6-4682-abf7-489e93373a38\" class=\"plotly-graph-div\" style=\"height:525px; width:100%;\"></div>            <script type=\"text/javascript\">                                    window.PLOTLYENV=window.PLOTLYENV || {};                                    if (document.getElementById(\"098e7622-46d6-4682-abf7-489e93373a38\")) {                    Plotly.newPlot(                        \"098e7622-46d6-4682-abf7-489e93373a38\",                        [{\"hovertemplate\":\"x=%{x}\\u003cbr\\u003ey=%{y}\\u003cbr\\u003ez=%{z}\\u003cextra\\u003e\\u003c\\u002fextra\\u003e\",\"legendgroup\":\"\",\"marker\":{\"color\":\"#636efa\",\"symbol\":\"circle\"},\"mode\":\"markers\",\"name\":\"\",\"scene\":\"scene\",\"showlegend\":false,\"x\":[0.3187014443876591,0.8878223510672882,0.2668693765464447,0.9429055227959606,0.29929966379433814,0.45308698136218006,0.9794914210603537,0.12889325067599355,0.2633185163025853,0.26731908416916006,0.5603120697279644,0.24676169447616547,0.1369141029676919,0.6505980216308482,0.703445177878556,0.20216117380057463,0.7247077672721945,0.2584302089123993,0.4560692087393913,0.9408118060354356,0.43723160156198815,0.5990431045787243,0.8996773405047263,0.47189630447064945,0.33451109794638645,0.5920082847566489,0.5513046496044435,0.21189131181989773,0.10558119429763868,0.7093346497167775,0.2752069817716676,0.9981414438387464,0.46003630282712304,0.45474513134231975,0.7408697450920341,0.8865288587015651,0.9747421782900741,0.5157533675424666,0.9334981991333692,0.09989298622219667,0.5439068468864375,0.38705438207277054,0.2797117829571878,0.05142167902803729,0.8288461594434546,0.48659014825431757,0.6507049090749448,0.9035163148372212,0.3636866189893183,0.2404054743253241],\"y\":[0.5389201423734267,0.7108858280214372,0.5191311873014762,0.49192655923276096,0.336817446224842,0.5287685848850461,0.7002713748420534,0.9813905717476743,0.5451658249992348,0.41464796947773364,0.44269907139290054,0.2450014416015882,0.23886619462932646,0.4692327735407228,0.6324914450818018,0.7101455524200246,0.6393086111699623,0.11371130828458997,0.08192687927969389,0.7895763914757334,0.08389793977016557,0.47503166755742443,0.10275552859486115,0.05410691400969969,0.4601303445177005,0.8394839663566315,0.5664392235392016,0.9657333055233912,0.34839686944943704,0.8220476536506262,0.3149156711788429,0.207241455633436,0.2071583756344758,0.7816419961635624,0.407799652268404,0.7830475849683047,0.6213122329635414,0.08809230302247606,0.19537117422716455,0.5207475948267107,0.6007154073117649,0.4284987872821697,0.4521012622643734,0.8192543459827877,0.6737108544931492,0.38406771688770625,0.61671258604656,0.7530855629443087,0.6887102231453371,0.889209156918944],\"z\":[0.45716335547517284,0.9269657483205269,0.4602828189041456,0.0046243238600848224,0.13815617515185485,0.1422430698422784,0.5031947378347087,0.7670447800897934,0.33804912354006167,0.27353777664933565,0.18630982265218454,0.18670053296515088,0.09619418084997877,0.06768257741426442,0.23116179295432626,0.8803143475480757,0.2594056290536706,0.07489534941890064,0.39767574291906316,0.4753426188938654,0.6628060682842605,0.8386002014222255,0.6176437071010635,0.037904579322815324,0.9247809389997862,0.2139511462695064,0.3079063177342807,0.1666632710799152,0.45711462559786953,0.25257195613563677,0.3851764758099866,0.5646719115030335,0.5299818861369048,0.2744454750027906,0.32542600434617297,0.4606937930531344,0.07375613139251558,0.13748824419979033,0.6260382455697763,0.5061018247556943,0.2875250442232511,0.6464347797634833,0.12956541998618099,0.45730736769332947,0.3922466836023931,0.97197010673943,0.912708370208836,0.2639860070708431,0.06181988581466502,0.4698948982631549],\"type\":\"scatter3d\"}],                        {\"template\":{\"data\":{\"histogram2dcontour\":[{\"type\":\"histogram2dcontour\",\"colorbar\":{\"outlinewidth\":0,\"ticks\":\"\"},\"colorscale\":[[0.0,\"#0d0887\"],[0.1111111111111111,\"#46039f\"],[0.2222222222222222,\"#7201a8\"],[0.3333333333333333,\"#9c179e\"],[0.4444444444444444,\"#bd3786\"],[0.5555555555555556,\"#d8576b\"],[0.6666666666666666,\"#ed7953\"],[0.7777777777777778,\"#fb9f3a\"],[0.8888888888888888,\"#fdca26\"],[1.0,\"#f0f921\"]]}],\"choropleth\":[{\"type\":\"choropleth\",\"colorbar\":{\"outlinewidth\":0,\"ticks\":\"\"}}],\"histogram2d\":[{\"type\":\"histogram2d\",\"colorbar\":{\"outlinewidth\":0,\"ticks\":\"\"},\"colorscale\":[[0.0,\"#0d0887\"],[0.1111111111111111,\"#46039f\"],[0.2222222222222222,\"#7201a8\"],[0.3333333333333333,\"#9c179e\"],[0.4444444444444444,\"#bd3786\"],[0.5555555555555556,\"#d8576b\"],[0.6666666666666666,\"#ed7953\"],[0.7777777777777778,\"#fb9f3a\"],[0.8888888888888888,\"#fdca26\"],[1.0,\"#f0f921\"]]}],\"heatmap\":[{\"type\":\"heatmap\",\"colorbar\":{\"outlinewidth\":0,\"ticks\":\"\"},\"colorscale\":[[0.0,\"#0d0887\"],[0.1111111111111111,\"#46039f\"],[0.2222222222222222,\"#7201a8\"],[0.3333333333333333,\"#9c179e\"],[0.4444444444444444,\"#bd3786\"],[0.5555555555555556,\"#d8576b\"],[0.6666666666666666,\"#ed7953\"],[0.7777777777777778,\"#fb9f3a\"],[0.8888888888888888,\"#fdca26\"],[1.0,\"#f0f921\"]]}],\"heatmapgl\":[{\"type\":\"heatmapgl\",\"colorbar\":{\"outlinewidth\":0,\"ticks\":\"\"},\"colorscale\":[[0.0,\"#0d0887\"],[0.1111111111111111,\"#46039f\"],[0.2222222222222222,\"#7201a8\"],[0.3333333333333333,\"#9c179e\"],[0.4444444444444444,\"#bd3786\"],[0.5555555555555556,\"#d8576b\"],[0.6666666666666666,\"#ed7953\"],[0.7777777777777778,\"#fb9f3a\"],[0.8888888888888888,\"#fdca26\"],[1.0,\"#f0f921\"]]}],\"contourcarpet\":[{\"type\":\"contourcarpet\",\"colorbar\":{\"outlinewidth\":0,\"ticks\":\"\"}}],\"contour\":[{\"type\":\"contour\",\"colorbar\":{\"outlinewidth\":0,\"ticks\":\"\"},\"colorscale\":[[0.0,\"#0d0887\"],[0.1111111111111111,\"#46039f\"],[0.2222222222222222,\"#7201a8\"],[0.3333333333333333,\"#9c179e\"],[0.4444444444444444,\"#bd3786\"],[0.5555555555555556,\"#d8576b\"],[0.6666666666666666,\"#ed7953\"],[0.7777777777777778,\"#fb9f3a\"],[0.8888888888888888,\"#fdca26\"],[1.0,\"#f0f921\"]]}],\"surface\":[{\"type\":\"surface\",\"colorbar\":{\"outlinewidth\":0,\"ticks\":\"\"},\"colorscale\":[[0.0,\"#0d0887\"],[0.1111111111111111,\"#46039f\"],[0.2222222222222222,\"#7201a8\"],[0.3333333333333333,\"#9c179e\"],[0.4444444444444444,\"#bd3786\"],[0.5555555555555556,\"#d8576b\"],[0.6666666666666666,\"#ed7953\"],[0.7777777777777778,\"#fb9f3a\"],[0.8888888888888888,\"#fdca26\"],[1.0,\"#f0f921\"]]}],\"mesh3d\":[{\"type\":\"mesh3d\",\"colorbar\":{\"outlinewidth\":0,\"ticks\":\"\"}}],\"scatter\":[{\"fillpattern\":{\"fillmode\":\"overlay\",\"size\":10,\"solidity\":0.2},\"type\":\"scatter\"}],\"parcoords\":[{\"type\":\"parcoords\",\"line\":{\"colorbar\":{\"outlinewidth\":0,\"ticks\":\"\"}}}],\"scatterpolargl\":[{\"type\":\"scatterpolargl\",\"marker\":{\"colorbar\":{\"outlinewidth\":0,\"ticks\":\"\"}}}],\"bar\":[{\"error_x\":{\"color\":\"#2a3f5f\"},\"error_y\":{\"color\":\"#2a3f5f\"},\"marker\":{\"line\":{\"color\":\"#E5ECF6\",\"width\":0.5},\"pattern\":{\"fillmode\":\"overlay\",\"size\":10,\"solidity\":0.2}},\"type\":\"bar\"}],\"scattergeo\":[{\"type\":\"scattergeo\",\"marker\":{\"colorbar\":{\"outlinewidth\":0,\"ticks\":\"\"}}}],\"scatterpolar\":[{\"type\":\"scatterpolar\",\"marker\":{\"colorbar\":{\"outlinewidth\":0,\"ticks\":\"\"}}}],\"histogram\":[{\"marker\":{\"pattern\":{\"fillmode\":\"overlay\",\"size\":10,\"solidity\":0.2}},\"type\":\"histogram\"}],\"scattergl\":[{\"type\":\"scattergl\",\"marker\":{\"colorbar\":{\"outlinewidth\":0,\"ticks\":\"\"}}}],\"scatter3d\":[{\"type\":\"scatter3d\",\"line\":{\"colorbar\":{\"outlinewidth\":0,\"ticks\":\"\"}},\"marker\":{\"colorbar\":{\"outlinewidth\":0,\"ticks\":\"\"}}}],\"scattermapbox\":[{\"type\":\"scattermapbox\",\"marker\":{\"colorbar\":{\"outlinewidth\":0,\"ticks\":\"\"}}}],\"scatterternary\":[{\"type\":\"scatterternary\",\"marker\":{\"colorbar\":{\"outlinewidth\":0,\"ticks\":\"\"}}}],\"scattercarpet\":[{\"type\":\"scattercarpet\",\"marker\":{\"colorbar\":{\"outlinewidth\":0,\"ticks\":\"\"}}}],\"carpet\":[{\"aaxis\":{\"endlinecolor\":\"#2a3f5f\",\"gridcolor\":\"white\",\"linecolor\":\"white\",\"minorgridcolor\":\"white\",\"startlinecolor\":\"#2a3f5f\"},\"baxis\":{\"endlinecolor\":\"#2a3f5f\",\"gridcolor\":\"white\",\"linecolor\":\"white\",\"minorgridcolor\":\"white\",\"startlinecolor\":\"#2a3f5f\"},\"type\":\"carpet\"}],\"table\":[{\"cells\":{\"fill\":{\"color\":\"#EBF0F8\"},\"line\":{\"color\":\"white\"}},\"header\":{\"fill\":{\"color\":\"#C8D4E3\"},\"line\":{\"color\":\"white\"}},\"type\":\"table\"}],\"barpolar\":[{\"marker\":{\"line\":{\"color\":\"#E5ECF6\",\"width\":0.5},\"pattern\":{\"fillmode\":\"overlay\",\"size\":10,\"solidity\":0.2}},\"type\":\"barpolar\"}],\"pie\":[{\"automargin\":true,\"type\":\"pie\"}]},\"layout\":{\"autotypenumbers\":\"strict\",\"colorway\":[\"#636efa\",\"#EF553B\",\"#00cc96\",\"#ab63fa\",\"#FFA15A\",\"#19d3f3\",\"#FF6692\",\"#B6E880\",\"#FF97FF\",\"#FECB52\"],\"font\":{\"color\":\"#2a3f5f\"},\"hovermode\":\"closest\",\"hoverlabel\":{\"align\":\"left\"},\"paper_bgcolor\":\"white\",\"plot_bgcolor\":\"#E5ECF6\",\"polar\":{\"bgcolor\":\"#E5ECF6\",\"angularaxis\":{\"gridcolor\":\"white\",\"linecolor\":\"white\",\"ticks\":\"\"},\"radialaxis\":{\"gridcolor\":\"white\",\"linecolor\":\"white\",\"ticks\":\"\"}},\"ternary\":{\"bgcolor\":\"#E5ECF6\",\"aaxis\":{\"gridcolor\":\"white\",\"linecolor\":\"white\",\"ticks\":\"\"},\"baxis\":{\"gridcolor\":\"white\",\"linecolor\":\"white\",\"ticks\":\"\"},\"caxis\":{\"gridcolor\":\"white\",\"linecolor\":\"white\",\"ticks\":\"\"}},\"coloraxis\":{\"colorbar\":{\"outlinewidth\":0,\"ticks\":\"\"}},\"colorscale\":{\"sequential\":[[0.0,\"#0d0887\"],[0.1111111111111111,\"#46039f\"],[0.2222222222222222,\"#7201a8\"],[0.3333333333333333,\"#9c179e\"],[0.4444444444444444,\"#bd3786\"],[0.5555555555555556,\"#d8576b\"],[0.6666666666666666,\"#ed7953\"],[0.7777777777777778,\"#fb9f3a\"],[0.8888888888888888,\"#fdca26\"],[1.0,\"#f0f921\"]],\"sequentialminus\":[[0.0,\"#0d0887\"],[0.1111111111111111,\"#46039f\"],[0.2222222222222222,\"#7201a8\"],[0.3333333333333333,\"#9c179e\"],[0.4444444444444444,\"#bd3786\"],[0.5555555555555556,\"#d8576b\"],[0.6666666666666666,\"#ed7953\"],[0.7777777777777778,\"#fb9f3a\"],[0.8888888888888888,\"#fdca26\"],[1.0,\"#f0f921\"]],\"diverging\":[[0,\"#8e0152\"],[0.1,\"#c51b7d\"],[0.2,\"#de77ae\"],[0.3,\"#f1b6da\"],[0.4,\"#fde0ef\"],[0.5,\"#f7f7f7\"],[0.6,\"#e6f5d0\"],[0.7,\"#b8e186\"],[0.8,\"#7fbc41\"],[0.9,\"#4d9221\"],[1,\"#276419\"]]},\"xaxis\":{\"gridcolor\":\"white\",\"linecolor\":\"white\",\"ticks\":\"\",\"title\":{\"standoff\":15},\"zerolinecolor\":\"white\",\"automargin\":true,\"zerolinewidth\":2},\"yaxis\":{\"gridcolor\":\"white\",\"linecolor\":\"white\",\"ticks\":\"\",\"title\":{\"standoff\":15},\"zerolinecolor\":\"white\",\"automargin\":true,\"zerolinewidth\":2},\"scene\":{\"xaxis\":{\"backgroundcolor\":\"#E5ECF6\",\"gridcolor\":\"white\",\"linecolor\":\"white\",\"showbackground\":true,\"ticks\":\"\",\"zerolinecolor\":\"white\",\"gridwidth\":2},\"yaxis\":{\"backgroundcolor\":\"#E5ECF6\",\"gridcolor\":\"white\",\"linecolor\":\"white\",\"showbackground\":true,\"ticks\":\"\",\"zerolinecolor\":\"white\",\"gridwidth\":2},\"zaxis\":{\"backgroundcolor\":\"#E5ECF6\",\"gridcolor\":\"white\",\"linecolor\":\"white\",\"showbackground\":true,\"ticks\":\"\",\"zerolinecolor\":\"white\",\"gridwidth\":2}},\"shapedefaults\":{\"line\":{\"color\":\"#2a3f5f\"}},\"annotationdefaults\":{\"arrowcolor\":\"#2a3f5f\",\"arrowhead\":0,\"arrowwidth\":1},\"geo\":{\"bgcolor\":\"white\",\"landcolor\":\"#E5ECF6\",\"subunitcolor\":\"white\",\"showland\":true,\"showlakes\":true,\"lakecolor\":\"white\"},\"title\":{\"x\":0.05},\"mapbox\":{\"style\":\"light\"}}},\"scene\":{\"domain\":{\"x\":[0.0,1.0],\"y\":[0.0,1.0]},\"xaxis\":{\"title\":{\"text\":\"x\"}},\"yaxis\":{\"title\":{\"text\":\"y\"}},\"zaxis\":{\"title\":{\"text\":\"z\"}}},\"legend\":{\"tracegroupgap\":0},\"title\":{\"text\":\"3D Scatter Plot\"}},                        {\"responsive\": true}                    ).then(function(){\n",
              "                            \n",
              "var gd = document.getElementById('098e7622-46d6-4682-abf7-489e93373a38');\n",
              "var x = new MutationObserver(function (mutations, observer) {{\n",
              "        var display = window.getComputedStyle(gd).display;\n",
              "        if (!display || display === 'none') {{\n",
              "            console.log([gd, 'removed!']);\n",
              "            Plotly.purge(gd);\n",
              "            observer.disconnect();\n",
              "        }}\n",
              "}});\n",
              "\n",
              "// Listen for the removal of the full notebook cells\n",
              "var notebookContainer = gd.closest('#notebook-container');\n",
              "if (notebookContainer) {{\n",
              "    x.observe(notebookContainer, {childList: true});\n",
              "}}\n",
              "\n",
              "// Listen for the clearing of the current output cell\n",
              "var outputEl = gd.closest('.output');\n",
              "if (outputEl) {{\n",
              "    x.observe(outputEl, {childList: true});\n",
              "}}\n",
              "\n",
              "                        })                };                            </script>        </div>\n",
              "</body>\n",
              "</html>"
            ]
          },
          "metadata": {}
        }
      ]
    }
  ]
}