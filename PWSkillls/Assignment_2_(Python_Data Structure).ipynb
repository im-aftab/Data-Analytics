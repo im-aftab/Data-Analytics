{
  "nbformat": 4,
  "nbformat_minor": 0,
  "metadata": {
    "colab": {
      "provenance": []
    },
    "kernelspec": {
      "name": "python3",
      "display_name": "Python 3"
    },
    "language_info": {
      "name": "python"
    }
  },
  "cells": [
    {
      "cell_type": "markdown",
      "source": [
        "# Data Types And Structures (**Theory**)"
      ],
      "metadata": {
        "id": "YHNj6qFRWRyQ"
      }
    },
    {
      "cell_type": "markdown",
      "source": [
        "Q1.What are data structures, and why are they important?\n",
        "  - Data structures are specialized formats for **organizing**, **storing**, and **processing** data in computer memory and also provide efficient methods for **accessing**, **manipulating**, and **managing data** according to specific requirements.\n",
        "  - Data structures are important because of the following underlined reasons :\n",
        "    - **Enable efficient data organization**: Allow programs to store and retrieve data quickly and systematically\n",
        "\n",
        "    - **Optimize performance**: Different structures offer varying time complexities for different operations\n",
        "\n",
        "    - **Reduce complexity**: Provide standardized ways to handle common programming tasks\n",
        "\n",
        "    - **Support algorithm implementation**: Form the foundation for implementing various algorithms and computational solutions\n"
      ],
      "metadata": {
        "id": "9WeYuMq8Wn52"
      }
    },
    {
      "cell_type": "markdown",
      "source": [
        "Q2. Explain the difference between mutable and immutable data types with examples ?\n",
        " - **Mutable vs Immutable Data Types**\n",
        "    - ***Immutable Data Types***\n",
        "      - Immutable objects cannot be changed after creation. Any operation that appears to modify an immutable object actually creates a new object.\n",
        "      - Examples\n",
        "        - Numbers (int, float, complex)\n",
        "        - Strings\n",
        "        - Tuples\n",
        "        - Frozensets\n",
        "\n",
        "  - **Mutable Data Types**\n",
        "    - Mutable objects can be modified after creation, allowing in-place changes\n",
        "    - Examples :\n",
        "      - Lists\n",
        "      - Dictionaries\n",
        "      - Sets"
      ],
      "metadata": {
        "id": "lwQ8Nw1XXecT"
      }
    },
    {
      "cell_type": "markdown",
      "source": [
        "Q3. What are the main differences between lists and tuples in Python ?\n",
        "  - The primary difference between lists and tuples centers on mutability:\n",
        "    - **Lists**\n",
        "      - **Mutable**: Can be modified after creation\n",
        "      - **Dynamic size**: Can grow or shrink during execution\n",
        "      - **Syntax**: Square brackets []\n",
        "      - **Performance**: Slower due to mutability overhead\n",
        "      - **Memory usage**: Higher memory consumption\n",
        "      - **Use cases**: When you need to modify, add, or remove elements frequently\n",
        "\n",
        "    - **Tuples**\n",
        "      - **Immutable**: Cannot be changed after creation\n",
        "      - **Fixed size**: Length remains constant throughout lifetime\n",
        "      - **Syntax**: Parentheses ()\n",
        "      - **Performance**: Faster access and iteration due to immutability\n",
        "      - **Memory usage**: More memory-efficient\n",
        "      - **Use cases**: For fixed collections, function return values, or when data integrity is important"
      ],
      "metadata": {
        "id": "RgjBNds7ZAzt"
      }
    },
    {
      "cell_type": "markdown",
      "source": [
        "Q4.Describe how dictionaries store data ?\n",
        "  - Dictionaries in Python are implemented as hash tables, which enables their exceptional performance characteristics:\n",
        "    - **Internal Structure**\n",
        "      - Hash Function: When a key is added, Python computes its hash value\n",
        "      using a built-in hash function\n",
        "      - Index Mapping: The hash value is used to determine storage location in an internal array\n",
        "      - Key-Value Storage: Both key and value are stored at the computed index location\n",
        "      - Collision Handling: Python uses advanced collision resolution techniques to handle hash conflicts\n",
        "\n",
        " **Key Requirements**\n",
        "    - Keys must be immutable: Only hashable objects (strings, numbers, tuples) can serve as keys\n",
        "    - Keys must be unique: Duplicate keys overwrite previous values\n",
        "    - Values can be any type: No restrictions on value data types\n",
        "\n",
        "NOTE : dictionaries maintain insertion order, meaning elements are returned in the order they were added"
      ],
      "metadata": {
        "id": "YBk3tdTxY7_1"
      }
    },
    {
      "cell_type": "markdown",
      "source": [
        "Q5.Why might you use a set instead of a list in Python ?\n",
        "  - Sets offer several advantages over lists for specific use cases:\n",
        "  - **Unique Benefits of Sets are: **\n",
        "    - **Automatic uniqueness**: Sets automatically eliminate duplicate values\n",
        "    - **Fast membership testing**: O(1) average time complexity for checking if an element exists\n",
        "    - **Mathematical operations**: Support union, intersection, difference operations\n",
        "    - **Memory efficiency**: For unique element storage\n"
      ],
      "metadata": {
        "id": "wpuy8RlTa46_"
      }
    },
    {
      "cell_type": "markdown",
      "source": [
        "Q6. What is a string in Python, and how is it different from a list?\n",
        " - In Python, a string is a fundamental data type used to represent a sequence of characters. It is essentially textual data, and anything enclosed within quotes (single, double, or triple) is considered a string.\n",
        " - Key difference between **string** and **list** are :\n",
        "    - **Strings**\n",
        "      - Immutable: Cannot modify individual characters after creation\n",
        "      - Homogeneous: Contain only character data\n",
        "      - Unicode support: Python 3.x uses Unicode representation\n",
        "      - Text-focused operations: Optimized for text processing and manipulation\n",
        "\n",
        "    - Lists\n",
        "      - Mutable: Elements can be modified, added, or removed\n",
        "      - Heterogeneous: Can contain different data types in the same list\n",
        "      - Dynamic: Size can change during program execution\n",
        "      - General-purpose: Suitable for various data storage needs"
      ],
      "metadata": {
        "id": "n-SuZMg8brl-"
      }
    },
    {
      "cell_type": "markdown",
      "source": [
        "Q7. How do tuples ensure data integrity in Python ?\n",
        "  - Tuples provide data integrity through several mechanisms:\n",
        "    - Immutability Guarantees\n",
        "      - Unchangeable content: Once created, tuple elements cannot be modified\n",
        "      - Consistent state: Values remain constant throughout the tuple's lifetime\n",
        "      - Thread safety: No risk of concurrent modifications in multi-threaded environments\n",
        "  - Practical usage of data integrity with tuple ensures :\n",
        "    - Configuration data: Storing settings that shouldn't change accidentally\n",
        "    - Coordinate systems: Representing fixed positions like (x, y, z)\n",
        "    - Database records: Ensuring row data remains consistent during processing\n",
        "    - Function return values: Returning multiple related values that should stay together"
      ],
      "metadata": {
        "id": "qNh1KZ12cjsT"
      }
    },
    {
      "cell_type": "markdown",
      "source": [
        "Q8. What is a hash table, and how does it relate to dictionaries in Python ?\n",
        "  - A hash table, also known as a hash map or dictionary, is a data structure that stores data in key-value pairs. It utilizes a hash function to map keys to specific indices (or \"buckets\") within an underlying array. This mapping allows for efficient insertion, deletion, and retrieval of data. Python dictionaries are direct implementations of hash tables, leveraging hash functions for optimal performance\n",
        "\n",
        "    - **Hash Table Implementation**\n",
        "      - Built-in hash function: Python uses SipHash (since version 3.4) for secure and efficient hashing\n",
        "      - Dynamic resizing: Hash table automatically grows to maintain performance\n",
        "      - Collision resolution: Uses open addressing with sophisticated conflict resolution\n",
        "\n",
        "    - **Performance Benefits**\n",
        "      - O(1) average time complexity for insertions, deletions, and lookups\n",
        "      - Efficient memory utilization: Optimized storage layout since Python 3.6\n",
        "      - Fast iteration: Improved performance for dictionary traversal operations\n",
        "\n",
        "    The hash table implementation enables dictionaries to provide constant-time operations for most use cases, making them exceptionally efficient for key-based data access"
      ],
      "metadata": {
        "id": "AhPQNdejdwZa"
      }
    },
    {
      "cell_type": "markdown",
      "source": [
        "Q9. Can lists contain different data types in Python ?\n",
        "  - Yes, lists can contain different data types in Python. This capability, known as heterogeneous data storage, is one of Python's distinctive features"
      ],
      "metadata": {
        "id": "hyzoe441rbzl"
      }
    },
    {
      "cell_type": "markdown",
      "source": [
        "Q10. Explain why strings are immutable in Python ?\n",
        "  - Python strings are immutable for several important reasons:\n",
        "    - Security and Reliability\n",
        "      - Data integrity: Prevents accidental modifications of text data\n",
        "      - Hash consistency: Immutable strings can be safely used as dictionary keys\n",
        "      - Thread safety: Multiple threads can safely access the same string without synchronization\n",
        "\n",
        "    - **Performance Optimization**\n",
        "      - String interning: Python can optimize memory by reusing identical strings\n",
        "      - Caching: Hash values can be cached since strings never change\n",
        "      - Compiler optimizations: Enables various compile-time and runtime optimizations\n",
        "\n",
        "    - **Functional Programming Support**\n",
        "      - Pure functions: Supports functional programming paradigms where data doesn't change\n",
        "      - Predictable behavior: Function calls with string parameters always produce consistent results"
      ],
      "metadata": {
        "id": "KqjEituCrvJF"
      }
    },
    {
      "cell_type": "markdown",
      "source": [
        "Q11. What advantages do dictionaries offer over lists for certain tasks ?\n",
        "  - Dictionaries in Python offer several key advantages over lists for certain tasks, primarily due to their underlying design as key-value stores, which enables fast access and efficient organization of data.\n",
        "\n",
        "  Here are the main benefits of using dictionary over list :\n",
        "    1. **Fast Lookups and Access by Key**\n",
        "      - Dictionaries: Provide O(1) average-case time complexity for retrieving, inserting, or deleting values by key, thanks to their hash table implementation.\n",
        "      - Lists: Access by index is O(1), but searching for a specific value (not by index) is O(n); you must scan each element until a match is found.\n",
        "\n",
        "    2. **Meaningful Association Using Keys**\n",
        "      - Dictionaries: Data is stored with a unique key, making values easier to identify, retrieve, and manage (e.g., accessing an employee record by employee ID).\n",
        "      - Lists: Data is identified only by position/index, which often makes code less clear and increases the risk of errors if the order changes.\n",
        "\n",
        "    3. **Handling Non-Sequential or Unordered Data**\n",
        "      - Dictionaries: Ideal when your data does not have a natural order, or when the order is not relevant, but fast access via identifiers (keys) is needed.\n",
        "      - Lists: Best suited for ordered collections where position matters.\n",
        "\n",
        "    4. **Prevention of Duplicate Keys**\n",
        "      - Dictionaries: Automatically handle duplicate keys by updating the existing value, ensuring that all keys remain unique.\n",
        "      - Lists: Allow duplicate values, so uniqueness cannot be enforced.\n",
        "\n",
        "    5. **Flexible Data Structure for Complex Relationships**\n",
        "      - Dictionaries: Allow nesting (values can themselves be dictionaries or other structures), making them suitable for representing complex, hierarchical data.\n",
        "      - Lists: Support nesting, but without key-based access, structures can become hard to manage as complexity grows.\n",
        "\n",
        "    6. **Direct Membership Testing for Keys**\n",
        "      - Dictionaries: Checking if a key exists is an O(1) operation.\n",
        "      - Lists: Checking if a value exists requires scanning the entire list (O(n) operation)."
      ],
      "metadata": {
        "id": "crhuGNdzsj3t"
      }
    },
    {
      "cell_type": "markdown",
      "source": [
        "Q12. Describe a scenario where using a tuple would be preferable over a list ?\n",
        "  - Scenerios where tuple would be preferable over list when the following constrains needs to be met :\n",
        "    - Data shouldn't change: Configuration settings, coordinates, or constants\n",
        "    - Memory efficiency matters: Large datasets where immutability is acceptable\n",
        "    - Dictionary keys needed: Only immutable types can serve as dictionary keys\n",
        "    - Function returns: Returning multiple related values that belong together\n",
        "    - Data integrity critical: Preventing accidental modifications is essential\n",
        "\n",
        "Example: Useing a tuple when you have a small, fixed collection of related values that should not change and might need to be used as dictionary keys or set elements.i.e., Storing Coordinates or Fixed Configuration Data, Storing database connection parameters, etc."
      ],
      "metadata": {
        "id": "KBpyeo0uv5py"
      }
    },
    {
      "cell_type": "markdown",
      "source": [
        "Q13. How do sets handle duplicate values in Python ?\n",
        "  - Sets automatically handle duplicates through their hash-based implementation\n",
        "\n",
        "    **Duplicate Prevention Mechanism**\n",
        "      - Hash-based storage: Each element's hash value determines its storage location\n",
        "\n",
        "      - Unique constraint: If an element with the same hash already exists, it's not added\n",
        "\n",
        "      - Automatic deduplication: Adding duplicate values has no effect on the set\n",
        "\n",
        "    **Practical Applications**\n",
        "      - Data cleaning: Remove duplicates from lists using set(my_list)\n",
        "\n",
        "      - Membership validation: Efficiently check if items exist in a collection\n",
        "\n",
        "      - Mathematical operations: Perform unions, intersections with automatic uniqueness"
      ],
      "metadata": {
        "id": "9e_4FfYY2cEy"
      }
    },
    {
      "cell_type": "markdown",
      "source": [
        "Q14. How does the “in” keyword work differently for lists and dictionaries ?\n",
        "  - The in operator works differently for lists and dictionaries due to their internal structures\n",
        "\n",
        "    **Lists: Sequential Search**\n",
        "      - Time complexity: O(n) - must check each element sequentially\n",
        "\n",
        "      - Search method: Linear scan through all elements until match found\n",
        "\n",
        "      - Performance impact: Slower for large lists, especially when item is near the end\n",
        "\n",
        "    **Dictionaries: Hash-Based Lookup**\n",
        "      - Time complexity: O(1) average - direct hash table lookup\n",
        "\n",
        "      - Search method: Computes hash of key and checks specific location\n",
        "\n",
        "      - Performance impact: Consistently fast regardless of dictionary size"
      ],
      "metadata": {
        "id": "qXI236Uj7ZIY"
      }
    },
    {
      "cell_type": "markdown",
      "source": [
        "Q15. Can you modify the elements of a tuple? Explain why or why not ?\n",
        "  - No, you cannot modify tuple elements directly because tuples are immutable. However, there are important cases :\n",
        "\n",
        "  - Direct Modification Attempts\n",
        "**bold text**\n",
        "\n",
        "```\n",
        "      my_tuple = (1, 2, 3)\n",
        "      # my_tuple[1] = 5  # This raises TypeError: 'tuple' object does not support item assignment\n",
        "```\n",
        "\n",
        "  - **Special Case: Mutable Objects Within Tuples**\n",
        "      - While the tuple structure is immutable, if it contains mutable objects, those objects can be modified\n",
        "    \n",
        "```\n",
        "    my_tuple = ([1,2],\"Hello world\",[4,5])\n",
        "    my_tuple[0].append(3)\n",
        "    print(my_tuple)\n",
        "```\n",
        "\n"
      ],
      "metadata": {
        "id": "yWOiEJMy8WSf"
      }
    },
    {
      "cell_type": "markdown",
      "source": [
        "Q16. What is a nested dictionary, and give an example of its use case ?\n",
        "  - A nested dictionary is a dictionary containing other dictionaries as values, enabling hierarchical data organization:\n",
        "\n",
        "***Structure and Syntax***\n",
        "\n",
        "\n",
        "\n",
        "```\n",
        "\n",
        "employees = {\n",
        "    \"emp001\": {\n",
        "        \"name\": \"John Doe\",\n",
        "        \"department\": \"Engineering\",\n",
        "        \"contact\": {\n",
        "            \"email\": \"john@company.com\",\n",
        "            \"phone\": \"555-1234\"\n",
        "        }\n",
        "    },\n",
        "    \"emp002\": {\n",
        "        \"name\": \"Jane Smith\",\n",
        "        \"department\": \"Marketing\",\n",
        "        \"contact\": {\n",
        "            \"email\": \"jane@company.com\",\n",
        "            \"phone\": \"555-5678\"\n",
        "        }\n",
        "    }\n",
        "}\n",
        "```\n",
        "\n",
        "\n",
        "\n",
        "\n",
        "\n",
        "\n",
        "  - **Common Use Cases**\n",
        "\n",
        "      - **Employee Management Systems:** Store hierarchical employee data with departments and personal details\n",
        "\n",
        "      - **Configuration Files: Organize application settings by categorie**s and subcategories\n",
        "\n",
        "      - **Inventory Systems**: Track products by category, subcategory, and individual item details\n",
        "\n",
        "      - **JSON Data Processing**: Handle complex API responses and nested data structures\n",
        "\n",
        "      - **User Profiles**: Store user information with nested preferences, settings, and metadata"
      ],
      "metadata": {
        "id": "eRXNzHfrBvFH"
      }
    },
    {
      "cell_type": "markdown",
      "source": [
        "Q17. Describe the time complexity of accessing elements in a dictionary ?\n",
        "  - Dictionary element access has O(1) average time complexity, making it one of the most efficient data retrieval mechanisms:\n",
        "\n",
        "  - Performance Characteristics\n",
        "    - Average case: O(1) - constant time lookup\n",
        "    - Worst case: O(n) - occurs during hash collisions, but extremely rare\n",
        "    - Typical performance: Near-constant time for most practical applications\n",
        "\n",
        "  - Why O(1) is Achieved\n",
        "    - Hash computation: Python quickly computes the key's hash value\n",
        "    - Direct indexing: Hash value provides direct array index location\n",
        "    - Minimal collision: Modern hash functions minimize conflicts\n",
        "\n",
        "  - Real-World Performance\n",
        "\n",
        "  For practical purposes, dictionary lookups are consistently fast regardless of dictionary size, making them ideal for:\n",
        "    - Database indexing\n",
        "    - Caching systems\n",
        "    - Fast data retrieval applications\n",
        "    - Large-scale data processing"
      ],
      "metadata": {
        "id": "4fcxqFy4D_h-"
      }
    },
    {
      "cell_type": "markdown",
      "source": [
        "Q18. In what situations are lists preferred over dictionaries ?\n",
        "  - Lists are preferable in several important scenarios:\n",
        "    - **Optimal List Use Cases**\n",
        "      - Ordered data is essential: When sequence and position matter more than key-based access\n",
        "      - Index-based operations: Need to access elements by numerical position efficiently\n",
        "      - Sequential processing: Iterating through data in a specific order\n",
        "      - Memory constraints: Lists consume less memory than dictionaries for simple data\n",
        "      - Mathematical operations: Vector operations, matrix manipulations, or array-like computations\n",
        "      - Queue/Stack implementations: LIFO/FIFO data structures where order is critical\n",
        "    - **Performance Considerations**\n",
        "      - Index access: Lists provide O(1) access by index, faster than dictionary key lookup for numerical indices\n",
        "      - Memory efficiency: Lists use approximately 6x less memory than dictionaries for equivalent simple data\n",
        "      - Cache locality: Sequential memory layout provides better CPU cache performance for iterative operations"
      ],
      "metadata": {
        "id": "vDpUmXX4EP3V"
      }
    },
    {
      "cell_type": "markdown",
      "source": [
        "Q19. Why are dictionaries considered unordered, and how does that affect data retrieval ?\n",
        "  - Historical Context\n",
        "    - **Python ≤ 3.5**: Dictionaries were unordered, with unpredictable key sequence\n",
        "    - **Python 3.6**: Insertion order preservation became an implementation detail\n",
        "    - **Python 3.7+**: Insertion order became guaranteed language feature\n",
        "    - **Modern Dictionary Behavior**\n",
        "      - Since **Python 3.**7, dictionaries maintain insertion order, meaning:\n",
        "\n",
        "\n",
        "```\n",
        "data = {\"first\": 1, \"second\": 2, \"third\": 3}\n",
        "for key in data:\n",
        "print(key)  # Always prints: first, second, third\n",
        "```\n",
        "\n",
        "\n",
        "\n",
        "  - Impact on Data Retrieval\n",
        "    - **Predictable iteration**: Keys and values are returned in insertion order\n",
        "    - **Consistent behavior**: Same dictionary always produces same iteration sequence\n",
        "    - **No indexing support**: Despite being ordered, dictionaries don't support numerical indexing like lists\n",
        "    - **Serialization reliabilit**y: JSON conversion maintains consistent field ordering\n",
        "    - **Important distinction**: Dictionaries are ordered but not sorted - they maintain insertion sequence, not alphabetical or numerical arrangement."
      ],
      "metadata": {
        "id": "nsfRLWNTFuyn"
      }
    },
    {
      "cell_type": "markdown",
      "source": [
        "Q20. Explain the difference between a list and a dictionary in terms of data retrieval.\n",
        "  - The fundamental difference in data retrieval between lists and dictionaries reflects their underlying data structures:\n",
        "\n",
        "    - Lists: Index-Based Retrieval\n",
        "      - Access method: Numerical indices (0, 1, 2, ...)\n",
        "      - Time complexity: O(1) for index access, O(n) for value search\n",
        "      - Use case: When position matters and you know the item's location\n",
        "\n",
        "\n",
        "```\n",
        " my_list = [\"apple\", \"banana\", \"cherry\"]\n",
        "item = my_list[1]  # O(1) - direct access by position\n",
        "```\n",
        "\n",
        "  -\n",
        "    - Dictionaries: Key-Based Retrieval\n",
        "      - Access method: Meaningful keys of any immutable type\n",
        "      - Time complexity: O(1) average for key lookup\n",
        "      - Use case: When you want to find data by identifier rather than position\n",
        "\n",
        "\n",
        "\n",
        "\n",
        "```\n",
        "my_dict = {\"name\": \"John\", \"age\": 30, \"city\": \"New York\"}\n",
        "value = my_dict[\"age\"]  # O(1) - direct access by key\n",
        "```\n",
        "\n"
      ],
      "metadata": {
        "id": "B3PbaUTJWhHv"
      }
    },
    {
      "cell_type": "markdown",
      "source": [
        "# Practical Questions"
      ],
      "metadata": {
        "id": "NBfMP11MHwBl"
      }
    },
    {
      "cell_type": "markdown",
      "source": [
        "Q1. Write a code to create a string with your name and print it."
      ],
      "metadata": {
        "id": "FOfmduLtIIyu"
      }
    },
    {
      "cell_type": "code",
      "source": [
        "name = \"Aftab Ansari\"\n",
        "print(name)"
      ],
      "metadata": {
        "colab": {
          "base_uri": "https://localhost:8080/"
        },
        "id": "pfCgaJXJIMW-",
        "outputId": "59862cc1-b367-43ca-96fb-cb55515ef801"
      },
      "execution_count": 3,
      "outputs": [
        {
          "output_type": "stream",
          "name": "stdout",
          "text": [
            "Aftab Ansari\n"
          ]
        }
      ]
    },
    {
      "cell_type": "markdown",
      "source": [
        "Q2. Write a code to find the length of the string \"Hello World\"."
      ],
      "metadata": {
        "id": "DVkM7TmQIZqH"
      }
    },
    {
      "cell_type": "code",
      "source": [
        "str1 = \"Hello World\"\n",
        "print(len(str1))"
      ],
      "metadata": {
        "colab": {
          "base_uri": "https://localhost:8080/"
        },
        "id": "qEchmP8fIfN-",
        "outputId": "77e24915-9b44-4edb-d5b4-e5cc06dda352"
      },
      "execution_count": 4,
      "outputs": [
        {
          "output_type": "stream",
          "name": "stdout",
          "text": [
            "11\n"
          ]
        }
      ]
    },
    {
      "cell_type": "markdown",
      "source": [
        "Q3. Write a code to slice the first 3 characters from the string \"Python Programming\"."
      ],
      "metadata": {
        "id": "A4Dx-mAtIs2G"
      }
    },
    {
      "cell_type": "code",
      "source": [
        "str2 = \"Python Programming\"\n",
        "print(str2[:3])"
      ],
      "metadata": {
        "colab": {
          "base_uri": "https://localhost:8080/"
        },
        "id": "iaB5JP_mI3j-",
        "outputId": "4dec5017-e8b5-4bb4-f9f2-4b4d73f92c19"
      },
      "execution_count": 5,
      "outputs": [
        {
          "output_type": "stream",
          "name": "stdout",
          "text": [
            "Pyt\n"
          ]
        }
      ]
    },
    {
      "cell_type": "markdown",
      "source": [
        "Q4. Write a code to convert the string \"hello\" to uppercase."
      ],
      "metadata": {
        "id": "EB90--4_JBlN"
      }
    },
    {
      "cell_type": "code",
      "source": [
        "str3 = \"hello\"\n",
        "print(str3.upper())"
      ],
      "metadata": {
        "colab": {
          "base_uri": "https://localhost:8080/"
        },
        "id": "-hds0BLGJH5O",
        "outputId": "88bb766f-6e87-402a-a1ca-46eda3271cb2"
      },
      "execution_count": 8,
      "outputs": [
        {
          "output_type": "stream",
          "name": "stdout",
          "text": [
            "HELLO\n"
          ]
        }
      ]
    },
    {
      "cell_type": "markdown",
      "source": [
        "Q5. Write a code to replace the word \"apple\" with \"orange\" in the string \"I like apple\"."
      ],
      "metadata": {
        "id": "Dyr_w-7AJo-_"
      }
    },
    {
      "cell_type": "code",
      "source": [
        "string1 = \"I like apple\"\n",
        "print(string1.replace(\"apple\",\"orange\"))"
      ],
      "metadata": {
        "colab": {
          "base_uri": "https://localhost:8080/"
        },
        "id": "H0zBYO_vJtC2",
        "outputId": "033a56b8-4f4e-4430-c1bc-3c897289a8b1"
      },
      "execution_count": 9,
      "outputs": [
        {
          "output_type": "stream",
          "name": "stdout",
          "text": [
            "I like orange\n"
          ]
        }
      ]
    },
    {
      "cell_type": "markdown",
      "source": [
        "Q6. Write a code to create a list with numbers 1 to 5 and print it."
      ],
      "metadata": {
        "id": "Gu20CksqJ6Vu"
      }
    },
    {
      "cell_type": "code",
      "source": [
        "lst = [x for x in range(1,6)]\n",
        "print(lst)"
      ],
      "metadata": {
        "colab": {
          "base_uri": "https://localhost:8080/"
        },
        "id": "zUNedfilKD4-",
        "outputId": "d4282d7e-815d-4356-ef1a-df7632c5aae4"
      },
      "execution_count": 10,
      "outputs": [
        {
          "output_type": "stream",
          "name": "stdout",
          "text": [
            "[1, 2, 3, 4, 5]\n"
          ]
        }
      ]
    },
    {
      "cell_type": "markdown",
      "source": [
        "Q7. Write a code to append the number 10 to the list [1, 2, 3, 4]."
      ],
      "metadata": {
        "id": "SucmcpYzK2dF"
      }
    },
    {
      "cell_type": "code",
      "source": [
        "my_list = [1,2,3,4]\n",
        "my_list.append(10)\n",
        "print(my_list)"
      ],
      "metadata": {
        "colab": {
          "base_uri": "https://localhost:8080/"
        },
        "id": "u3oDeDzmL1xe",
        "outputId": "e3e95d8d-f2f6-4c60-a230-4fa1128a9bda"
      },
      "execution_count": 11,
      "outputs": [
        {
          "output_type": "stream",
          "name": "stdout",
          "text": [
            "[1, 2, 3, 4, 10]\n"
          ]
        }
      ]
    },
    {
      "cell_type": "markdown",
      "source": [
        "Q8. Write a code to remove the number 3 from the list [1, 2, 3, 4, 5]."
      ],
      "metadata": {
        "id": "khpHf_aUMNR2"
      }
    },
    {
      "cell_type": "code",
      "source": [
        "my_list = [1,2,3,4,5]\n",
        "my_list.remove(3)\n",
        "print(my_list)"
      ],
      "metadata": {
        "colab": {
          "base_uri": "https://localhost:8080/"
        },
        "id": "H1uWEbKFMNDe",
        "outputId": "393b7af3-3f5f-4b90-ca59-1503a38d6a12"
      },
      "execution_count": 12,
      "outputs": [
        {
          "output_type": "stream",
          "name": "stdout",
          "text": [
            "[1, 2, 4, 5]\n"
          ]
        }
      ]
    },
    {
      "cell_type": "markdown",
      "source": [
        "Q9. Write a code to access the second element in the list ['a', 'b', 'c', 'd']."
      ],
      "metadata": {
        "id": "W5eDQEScMZWu"
      }
    },
    {
      "cell_type": "code",
      "source": [
        "mylist = ['a', 'b', 'c', 'd']\n",
        "print(mylist[1])"
      ],
      "metadata": {
        "colab": {
          "base_uri": "https://localhost:8080/"
        },
        "id": "Dbcx6rj-MjKu",
        "outputId": "6df9a982-b002-4c88-f970-f9abdeba8048"
      },
      "execution_count": 13,
      "outputs": [
        {
          "output_type": "stream",
          "name": "stdout",
          "text": [
            "b\n"
          ]
        }
      ]
    },
    {
      "cell_type": "markdown",
      "source": [
        "Q10. Write a code to reverse the list [10, 20, 30, 40, 50].\n"
      ],
      "metadata": {
        "id": "FCF8S8EjNeQt"
      }
    },
    {
      "cell_type": "code",
      "source": [
        "lst = [10, 20, 30, 40, 50]\n",
        "print(lst[::-1])"
      ],
      "metadata": {
        "colab": {
          "base_uri": "https://localhost:8080/"
        },
        "id": "UprOaBKBNj3G",
        "outputId": "3b0069f4-4c84-46fc-c166-2b095d0715a7"
      },
      "execution_count": 14,
      "outputs": [
        {
          "output_type": "stream",
          "name": "stdout",
          "text": [
            "[50, 40, 30, 20, 10]\n"
          ]
        }
      ]
    },
    {
      "cell_type": "markdown",
      "source": [
        "Q11. Write a code to create a tuple with the elements 100, 200, 300 and print it."
      ],
      "metadata": {
        "id": "dak_MM1lNoQl"
      }
    },
    {
      "cell_type": "code",
      "source": [
        "mytpl= (100,200,300)\n",
        "print(mytpl)"
      ],
      "metadata": {
        "colab": {
          "base_uri": "https://localhost:8080/"
        },
        "id": "hZ9oEBN9NseN",
        "outputId": "0137c1bc-1aa0-49a9-e9da-96b3663264b2"
      },
      "execution_count": 15,
      "outputs": [
        {
          "output_type": "stream",
          "name": "stdout",
          "text": [
            "(100, 200, 300)\n"
          ]
        }
      ]
    },
    {
      "cell_type": "markdown",
      "source": [
        "Q12. Write a code to access the second-to-last element of the tuple ('red', 'green', 'blue', 'yellow')."
      ],
      "metadata": {
        "id": "3-KBLRBRNzg9"
      }
    },
    {
      "cell_type": "code",
      "source": [
        "mytup = ('red', 'green', 'blue', 'yellow')\n",
        "print(mytup[-2])"
      ],
      "metadata": {
        "id": "SgfLXj8pN5se"
      },
      "execution_count": null,
      "outputs": []
    },
    {
      "cell_type": "markdown",
      "source": [
        "Q13. Write a code to find the minimum number in the tuple (10, 20, 5, 15)."
      ],
      "metadata": {
        "id": "yT4lCrVcN5BO"
      }
    },
    {
      "cell_type": "code",
      "source": [
        "mytup = (10, 20, 5, 15)\n",
        "print(min(mytup))"
      ],
      "metadata": {
        "id": "3MFSUrwuOAtV"
      },
      "execution_count": null,
      "outputs": []
    },
    {
      "cell_type": "markdown",
      "source": [
        "Q14. Write a code to find the index of the element \"cat\" in the tuple ('dog', 'cat', 'rabbit')."
      ],
      "metadata": {
        "id": "VSyADly2OFM1"
      }
    },
    {
      "cell_type": "code",
      "source": [
        "mytup = ('dog', 'cat', 'rabbit')\n",
        "print(mytup.index(\"cat\"))"
      ],
      "metadata": {
        "id": "0pJtLhV2OIr9"
      },
      "execution_count": null,
      "outputs": []
    },
    {
      "cell_type": "markdown",
      "source": [
        "Q15. Write a code to create a tuple containing three different fruits and check if \"kiwi\" is in it."
      ],
      "metadata": {
        "id": "U7fEA1vSOLx1"
      }
    },
    {
      "cell_type": "code",
      "source": [
        "fruits = (\"apple\",\"banana\",\"mango\")\n",
        "print(\"kiwi\" in fruits)"
      ],
      "metadata": {
        "colab": {
          "base_uri": "https://localhost:8080/"
        },
        "id": "Nm_JcexXOO7d",
        "outputId": "8b0edc83-d344-4397-e86a-1ae4c62369c5"
      },
      "execution_count": 16,
      "outputs": [
        {
          "output_type": "stream",
          "name": "stdout",
          "text": [
            "False\n"
          ]
        }
      ]
    },
    {
      "cell_type": "markdown",
      "source": [
        "16. Write a code to create a set with the elements 'a', 'b', 'c' and print it."
      ],
      "metadata": {
        "id": "k0pQyQD8OX5V"
      }
    },
    {
      "cell_type": "code",
      "source": [
        "myset = {\"a\",\"b\",\"c\"}\n",
        "print(myset)"
      ],
      "metadata": {
        "colab": {
          "base_uri": "https://localhost:8080/"
        },
        "id": "8hCbNOMpOanV",
        "outputId": "a6d01ef1-1fde-4c9a-d39d-76468b78a0be"
      },
      "execution_count": 17,
      "outputs": [
        {
          "output_type": "stream",
          "name": "stdout",
          "text": [
            "{'c', 'b', 'a'}\n"
          ]
        }
      ]
    },
    {
      "cell_type": "markdown",
      "source": [
        "Q17. Write a code to clear all elements from the set {1, 2, 3, 4, 5}."
      ],
      "metadata": {
        "id": "9SJo4It_Pcz-"
      }
    },
    {
      "cell_type": "code",
      "source": [
        "myset = {1, 2, 3, 4, 5}\n",
        "myset.clear()\n",
        "print(myset)"
      ],
      "metadata": {
        "colab": {
          "base_uri": "https://localhost:8080/"
        },
        "id": "iKxHScn1Pht1",
        "outputId": "a56b69ea-cde6-4b88-b0a0-09a24c4677f3"
      },
      "execution_count": 18,
      "outputs": [
        {
          "output_type": "stream",
          "name": "stdout",
          "text": [
            "set()\n"
          ]
        }
      ]
    },
    {
      "cell_type": "markdown",
      "source": [
        "18. Write a code to remove the element 4 from the set {1, 2, 3, 4}."
      ],
      "metadata": {
        "id": "f2bIq3APPpst"
      }
    },
    {
      "cell_type": "code",
      "source": [
        "myset = {1, 2, 3, 4}\n",
        "myset.remove(4)\n",
        "print(myset)"
      ],
      "metadata": {
        "colab": {
          "base_uri": "https://localhost:8080/"
        },
        "id": "RqJaRzBaP3Bd",
        "outputId": "614670dc-836a-440f-e41c-a7f33043cde0"
      },
      "execution_count": 20,
      "outputs": [
        {
          "output_type": "stream",
          "name": "stdout",
          "text": [
            "{1, 2, 3}\n"
          ]
        }
      ]
    },
    {
      "cell_type": "markdown",
      "source": [
        "Q19. Write a code to find the union of two sets {1, 2, 3} and {3, 4, 5}."
      ],
      "metadata": {
        "id": "Z56ukdTDIBi1"
      }
    },
    {
      "cell_type": "code",
      "source": [
        "set_1 = {1, 2, 3}\n",
        "set_2 = {3, 4, 5}\n",
        "print(set_1.union(set_2))"
      ],
      "metadata": {
        "colab": {
          "base_uri": "https://localhost:8080/"
        },
        "id": "VPwSHgngP7f8",
        "outputId": "1ceabebd-2daa-49cc-d093-98bf28f538d3"
      },
      "execution_count": 19,
      "outputs": [
        {
          "output_type": "stream",
          "name": "stdout",
          "text": [
            "{1, 2, 3, 4, 5}\n"
          ]
        }
      ]
    },
    {
      "cell_type": "markdown",
      "source": [
        "Q20. Write a code to find the intersection of two sets {1, 2, 3} and {2, 3, 4}."
      ],
      "metadata": {
        "id": "0W5PigZMQxz0"
      }
    },
    {
      "cell_type": "code",
      "source": [
        "set1 = {1, 2, 3}\n",
        "set2 = {2, 3, 4}\n",
        "intersection = set1 & set2\n",
        "print(intersection)"
      ],
      "metadata": {
        "colab": {
          "base_uri": "https://localhost:8080/"
        },
        "id": "NukloFkRQ2sd",
        "outputId": "6bcec409-af85-46fb-c691-3e09a5f57093"
      },
      "execution_count": 21,
      "outputs": [
        {
          "output_type": "stream",
          "name": "stdout",
          "text": [
            "{2, 3}\n"
          ]
        }
      ]
    },
    {
      "cell_type": "markdown",
      "source": [
        "Q21. Write a code to create a dictionary with the keys \"name\", \"age\", and \"city\", and print it."
      ],
      "metadata": {
        "id": "Z2C8nifiRALl"
      }
    },
    {
      "cell_type": "code",
      "source": [
        "person = {\"name\": \"John\", \"age\": 25, \"city\": \"New York\"}\n",
        "print(person)"
      ],
      "metadata": {
        "colab": {
          "base_uri": "https://localhost:8080/"
        },
        "id": "zrffnMD_RFyW",
        "outputId": "7b049026-9329-4f0e-994c-a7f25c77068a"
      },
      "execution_count": 22,
      "outputs": [
        {
          "output_type": "stream",
          "name": "stdout",
          "text": [
            "{'name': 'John', 'age': 25, 'city': 'New York'}\n"
          ]
        }
      ]
    },
    {
      "cell_type": "markdown",
      "source": [
        "Q22. Write a code to add a new key-value pair \"country\": \"USA\" to the dictionary {'name': 'John', 'age': 25}."
      ],
      "metadata": {
        "id": "68fDPzVoRRv9"
      }
    },
    {
      "cell_type": "code",
      "source": [
        "person = {'name': 'John', 'age': 25}\n",
        "person[\"country\"] = \"USA\"\n",
        "print(person)"
      ],
      "metadata": {
        "colab": {
          "base_uri": "https://localhost:8080/"
        },
        "id": "giAygtOaRT7F",
        "outputId": "037e0ef6-261c-49f3-9c13-491d9d7a7072"
      },
      "execution_count": 28,
      "outputs": [
        {
          "output_type": "stream",
          "name": "stdout",
          "text": [
            "{'name': 'John', 'age': 25, 'country': 'USA'}\n"
          ]
        }
      ]
    },
    {
      "cell_type": "markdown",
      "source": [
        "Q23. Write a code to access the value associated with the key \"name\" in the dictionary {'name': 'Alice', 'age': 30}."
      ],
      "metadata": {
        "id": "k8LXjAA_RaKl"
      }
    },
    {
      "cell_type": "code",
      "source": [
        "person = {'name': 'Alice', 'age': 30}\n",
        "print(person[\"name\"])"
      ],
      "metadata": {
        "colab": {
          "base_uri": "https://localhost:8080/"
        },
        "id": "BxIHXQZjSY-d",
        "outputId": "a1d0a8f7-6977-493b-ec7a-e558618117f1"
      },
      "execution_count": 29,
      "outputs": [
        {
          "output_type": "stream",
          "name": "stdout",
          "text": [
            "Alice\n"
          ]
        }
      ]
    },
    {
      "cell_type": "markdown",
      "source": [
        "Q24. Write a code to remove the key \"age\" from the dictionary {'name': 'Bob', 'age': 22, 'city': 'New York'}."
      ],
      "metadata": {
        "id": "AA5Dn9pLSVkN"
      }
    },
    {
      "cell_type": "code",
      "source": [
        "person = {'name': 'Bob', 'age': 22, 'city': 'New York'}\n",
        "person.pop(\"age\")\n",
        "print(person)"
      ],
      "metadata": {
        "colab": {
          "base_uri": "https://localhost:8080/"
        },
        "id": "8ev5ZUjJSc6l",
        "outputId": "7b3e0441-bf50-43e1-807c-7711e573083a"
      },
      "execution_count": 30,
      "outputs": [
        {
          "output_type": "stream",
          "name": "stdout",
          "text": [
            "{'name': 'Bob', 'city': 'New York'}\n"
          ]
        }
      ]
    },
    {
      "cell_type": "markdown",
      "source": [
        "Q25. Write a code to check if the key \"city\" exists in the dictionary {'name': 'Alice', 'city': 'Paris'}."
      ],
      "metadata": {
        "id": "8b_yIEa8SnqN"
      }
    },
    {
      "cell_type": "code",
      "source": [
        "person = {'name': 'Alice', 'city': 'Paris'}\n",
        "if \"city\" in person:\n",
        "    print(\"Key 'city' exists in dictionary\")\n",
        "else:\n",
        "    print(\"Key not found\")"
      ],
      "metadata": {
        "colab": {
          "base_uri": "https://localhost:8080/"
        },
        "id": "VMZx1QNhSp2F",
        "outputId": "6679ac9d-881b-426d-cd95-b39fda2161d6"
      },
      "execution_count": 32,
      "outputs": [
        {
          "output_type": "stream",
          "name": "stdout",
          "text": [
            "Key 'city' exists in dictionary\n"
          ]
        }
      ]
    },
    {
      "cell_type": "markdown",
      "source": [
        "Q26. Write a code to create a list, a tuple, and a dictionary, and print them all."
      ],
      "metadata": {
        "id": "LUqXMrKkSz9e"
      }
    },
    {
      "cell_type": "code",
      "source": [
        "my_list = [1, 2, 3]\n",
        "my_tuple = (4, 5, 6)\n",
        "my_dict = {\"a\": 1, \"b\": 2}\n",
        "\n",
        "print(\"List:\", my_list)\n",
        "print(\"Tuple:\", my_tuple)\n",
        "print(\"Dictionary:\", my_dict)"
      ],
      "metadata": {
        "colab": {
          "base_uri": "https://localhost:8080/"
        },
        "id": "ReDYUZZ_S15V",
        "outputId": "efef436f-cf72-4ec1-a36d-eadbf202bf25"
      },
      "execution_count": 33,
      "outputs": [
        {
          "output_type": "stream",
          "name": "stdout",
          "text": [
            "List: [1, 2, 3]\n",
            "Tuple: (4, 5, 6)\n",
            "Dictionary: {'a': 1, 'b': 2}\n"
          ]
        }
      ]
    },
    {
      "cell_type": "markdown",
      "source": [
        "Q27. Write a code to create a list of 5 random numbers between 1 and 100, sort it in ascending order, and print the result.(replaced)"
      ],
      "metadata": {
        "id": "w3AEBTCMS8Yc"
      }
    },
    {
      "cell_type": "code",
      "source": [
        "import random\n",
        "numbers = [random.randint(1, 100) for _ in range(5)]\n",
        "numbers.sort()\n",
        "print(numbers)"
      ],
      "metadata": {
        "colab": {
          "base_uri": "https://localhost:8080/"
        },
        "id": "VcnmVqlxS9yO",
        "outputId": "983d86fa-5bea-45f4-b620-aa50dfb79780"
      },
      "execution_count": 35,
      "outputs": [
        {
          "output_type": "stream",
          "name": "stdout",
          "text": [
            "[7, 29, 37, 42, 84]\n"
          ]
        }
      ]
    },
    {
      "cell_type": "markdown",
      "source": [
        "Q28. Write a code to create a list with strings and print the element at the third index."
      ],
      "metadata": {
        "id": "lEIhT2m0THMd"
      }
    },
    {
      "cell_type": "code",
      "source": [
        "words = [\"apple\", \"banana\", \"cherry\", \"date\", \"elderberry\"]\n",
        "print(words[3])"
      ],
      "metadata": {
        "colab": {
          "base_uri": "https://localhost:8080/"
        },
        "id": "HxZLBAoaTJJt",
        "outputId": "dfc6a902-6c02-4362-8492-7b2b132d94e3"
      },
      "execution_count": 36,
      "outputs": [
        {
          "output_type": "stream",
          "name": "stdout",
          "text": [
            "date\n"
          ]
        }
      ]
    },
    {
      "cell_type": "markdown",
      "source": [
        "Q29. Write a code to combine two dictionaries into one and print the result."
      ],
      "metadata": {
        "id": "Prw342gvTN6t"
      }
    },
    {
      "cell_type": "code",
      "source": [
        "dict1 = {\"a\": 1, \"b\": 2}\n",
        "dict2 = {\"c\": 3, \"d\": 4}\n",
        "combined = {**dict1, **dict2}\n",
        "print(combined)"
      ],
      "metadata": {
        "colab": {
          "base_uri": "https://localhost:8080/"
        },
        "id": "Or-nxFlwTQPF",
        "outputId": "cb57cfca-ca55-485c-8fc9-f71df47b1e0f"
      },
      "execution_count": 37,
      "outputs": [
        {
          "output_type": "stream",
          "name": "stdout",
          "text": [
            "{'a': 1, 'b': 2, 'c': 3, 'd': 4}\n"
          ]
        }
      ]
    },
    {
      "cell_type": "markdown",
      "source": [
        "Q30. Write a code to convert a list of strings into a set."
      ],
      "metadata": {
        "id": "bbkH3rk_SPY2"
      }
    },
    {
      "cell_type": "code",
      "source": [
        "fruits_list = [\"apple\", \"banana\", \"cherry\", \"apple\"]\n",
        "fruits_set = set(fruits_list)\n",
        "print(fruits_set)"
      ],
      "metadata": {
        "colab": {
          "base_uri": "https://localhost:8080/"
        },
        "id": "JdLvyszJTV_d",
        "outputId": "097486fc-81cf-4925-fe0a-7a714c8d775f"
      },
      "execution_count": 38,
      "outputs": [
        {
          "output_type": "stream",
          "name": "stdout",
          "text": [
            "{'apple', 'banana', 'cherry'}\n"
          ]
        }
      ]
    }
  ]
}