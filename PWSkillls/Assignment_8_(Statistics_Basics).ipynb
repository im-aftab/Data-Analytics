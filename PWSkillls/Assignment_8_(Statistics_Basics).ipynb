{
  "nbformat": 4,
  "nbformat_minor": 0,
  "metadata": {
    "colab": {
      "provenance": []
    },
    "kernelspec": {
      "name": "python3",
      "display_name": "Python 3"
    },
    "language_info": {
      "name": "python"
    }
  },
  "cells": [
    {
      "cell_type": "markdown",
      "source": [
        "# Statistics Basics| Assignment"
      ],
      "metadata": {
        "id": "E5fv4MHjuFnQ"
      }
    },
    {
      "cell_type": "markdown",
      "source": [
        "Question 1: What is the difference between descriptive statistics and inferential statistics? Explain with examples.\n",
        "\n",
        "  - Descriptive Statistics\n",
        "    - Descriptive statistics are used to describe and present data in a meaningful way, using measures like mean, median, mode, range, standard deviation, graphs, and charts to showcase the characteristics of a dataset. For example, calculating the average score of 100 students in a class, or showing their scores in a histogram, helps reveal the distribution of marks without making any predictions about other students or the general population.\n",
        "\n",
        "  - Inferential Statistics\n",
        "    - Inferential statistics go further—they use sample data to estimate or infer trends about a larger population. Common techniques include hypothesis testing, regression analysis, and establishing confidence intervals. For example, if a sample of 100 students from one school is used to infer trends about all students in the country, inferential statistics helps generalize findings and estimate parameters or test hypotheses about the broader group, including chances of certain events occurring.\n",
        "\n",
        "  - Example :\n",
        "\n",
        "    - Descriptive and inferential statistics need to be used hand in hand so as to analyze the data in the best possible way. Some examples of descriptive and inferential statistics are given below:\n",
        "\n",
        "      - Suppose the scores of 100 students belonging to a specific country are available. The performance of these students needs to be examined. This data by itself will not yield any valuable results. However, by using descriptive statistics, the spread of the marks can be obtained thus, giving a clear idea regarding the performance of each student.\n",
        "      - Now suppose the scores of the students of an entire country need to be examined. Using a sample of, say 100 students, inferential statistics is used to make generalizations about the population.\n",
        "\n"
      ],
      "metadata": {
        "id": "HhDeYRL_uMEW"
      }
    },
    {
      "cell_type": "markdown",
      "source": [
        "Question 2: What is sampling in statistics? Explain the differences between random and stratified sampling.\n",
        "\n",
        "  - Sampling in statistics is the process of selecting a subset (sample) from a larger population to estimate characteristics or draw conclusions about the entire population. It enables researchers to analyze trends, make inferences, and test hypotheses without having to study every individual, saving time and resources\n",
        "\n",
        "  - Differences between Random and Stratified Sampling :    \n",
        "    - Random Sampling\n",
        "      - Selection Method : Entirely by chance, equal probability\n",
        "\n",
        "      - Representation : May not reflect population structure for key traits\n",
        "\n",
        "      - Use Case : \tSimple studies where the population is homogeneous\n",
        "\n",
        "      - Example : Picking 50 names at random from a list\n",
        "\n",
        "    - Stratified Sampling\n",
        "    \n",
        "      - Selection Method : Population divided into subgroups (strata), then sampled randomly from each group\n",
        "\n",
        "      - Representation : Ensures representation of all important strata\n",
        "\n",
        "      - Use Case : Population has distinct subgroups of interest\n",
        "\n",
        "      - Example : Picking proportional samples from each class section\n"
      ],
      "metadata": {
        "id": "4lAj_EvHucF-"
      }
    },
    {
      "cell_type": "markdown",
      "source": [
        "Question 3: Define mean, median, and mode. Explain why these measures of central\n",
        "tendency are important.\n",
        "\n",
        "  - Definitions\n",
        "    - Mean: The mean (average) is calculated by adding all the values in a dataset and dividing by the number of values. For example, for the numbers 2, 4, 6, 8, and 10, the mean is (2+4+6+8+10)/5 = 6.\n",
        "\n",
        "    - Median: The median is the middle value when a dataset is ordered from smallest to largest. If the number of values is even, it is the average of the two middle values. For example, in the set 2, 4, 6, 8, 10, the median is 6.\n",
        "\n",
        "    - Mode: The mode is the value that appears most frequently in the dataset. For example, in the set 5, 7, 7, 9, 10, the mode is 7.\n",
        "\n",
        "  - Importance of Central Tendency\n",
        "\n",
        "      - These measures help to summarize large datasets and identify patterns:\n",
        "\n",
        "      - The mean is valuable for describing a general average, especially for data with a symmetric distribution.\n",
        "\n",
        "      - The median is more robust in skewed distributions, as it is unaffected by extreme values or outliers.\n",
        "\n",
        "      - The mode reveals the most common value, which is useful for categorical data and in understanding frequency or popularity."
      ],
      "metadata": {
        "id": "dxSga9l8wzeP"
      }
    },
    {
      "cell_type": "markdown",
      "source": [
        "Question 4: Explain skewness and kurtosis. What does a positive skew imply about the data?\n",
        "\n",
        "  - Skewness\n",
        "    - Skewness measures the asymmetry of a data distribution around its mean. If a distribution is perfectly symmetrical, its skewness is zero. When the data is not symmetrical:\n",
        "\n",
        "    - Positive skewness (right skew): The distribution has a longer or fatter tail on the right side. This means that most data points are clustered toward the lower end, but there are a few higher values stretching out the right tail. Examples include income distributions and house prices, where most people have lower values, but a few have much higher amounts.\n",
        "\n",
        "    - Negative skewness (left skew): The distribution has a longer tail on the left side, indicating more extreme low values.\n",
        "\n",
        "  - Kurtosis\n",
        "    - Kurtosis measures the \"tailedness\" or the presence of outliers in a distribution. While skewness shows asymmetry, kurtosis reveals how sharply the data peaks and how heavy the tails are:\n",
        "\n",
        "    - Leptokurtic (high kurtosis): Sharper peak and heavier tails, indicating more frequent extreme values or outliers.\n",
        "\n",
        "    - Platykurtic (low kurtosis): Flatter peaks and lighter tails, indicating fewer outliers.\n",
        "\n",
        "    - Mesokurtic: Normal distribution kurtosis, a benchmark for comparison.\n",
        "\n",
        "  - Implications of Positive Skew\n",
        "    - A positive skew means the data cluster toward lower values, but there are a few extremely high values pulling the mean above the median and mode. This situation can impact statistical analysis, as the mean may not accurately represent the center of the data, especially in fields like finance and real estate where such distributions are common. Recognizing a positive skew helps identify potential outliers and influences the choice of analysis techniques and summary measures."
      ],
      "metadata": {
        "id": "JS8mKsUUxsiC"
      }
    },
    {
      "cell_type": "markdown",
      "source": [
        "Question 5: Implement a Python program to compute the mean, median, and mode of\n",
        "a given list of numbers.\n",
        "\n",
        "numbers = [12, 15, 12, 18, 19, 12, 20, 22, 19, 19, 24, 24, 24, 26, 28]\n",
        "\n",
        "(Include your Python code and output in the code box below.)\n"
      ],
      "metadata": {
        "id": "aGhRwzVwyHQZ"
      }
    },
    {
      "cell_type": "code",
      "source": [
        "import pandas as pd\n",
        "\n",
        "numbers = [12, 15, 12, 18, 19, 12, 20, 22, 19, 19, 24, 24, 24, 26, 28]\n",
        "\n",
        "# Convert list to pandas Series\n",
        "series = pd.Series(numbers)\n",
        "\n",
        "mean = series.mean()\n",
        "median = series.median()\n",
        "mode = series.mode().iloc[0]  # mode() returns a Series, so select the first mode\n",
        "\n",
        "print(f\"Mean: {mean}\")\n",
        "print(f\"Median: {median}\")\n",
        "print(f\"Mode: {mode}\")\n"
      ],
      "metadata": {
        "colab": {
          "base_uri": "https://localhost:8080/"
        },
        "id": "zBkg2k_4HJG5",
        "outputId": "38cfe520-4a36-4db7-88b1-9c9ace8f6a86"
      },
      "execution_count": 1,
      "outputs": [
        {
          "output_type": "stream",
          "name": "stdout",
          "text": [
            "Mean: 19.6\n",
            "Median: 19.0\n",
            "Mode: 12\n"
          ]
        }
      ]
    },
    {
      "cell_type": "markdown",
      "source": [
        "Question 6: Compute the covariance and correlation coefficient between the following two datasets provided as lists in Python:\n",
        "\n",
        "list_x = [10, 20, 30, 40, 50]\n",
        "\n",
        "list_y = [15, 25, 35, 45, 60]\n",
        "\n",
        "(Include your Python code and output in the code box below.)"
      ],
      "metadata": {
        "id": "AuaBzvGIHeNR"
      }
    },
    {
      "cell_type": "code",
      "source": [
        "import numpy as np\n",
        "\n",
        "list_x = [10, 20, 30, 40, 50]\n",
        "list_y = [15, 25, 35, 45, 60]\n",
        "\n",
        "# Calculate covariance\n",
        "covariance = np.cov(list_x, list_y)[0, 1]\n",
        "\n",
        "# Calculate correlation coefficient\n",
        "correlation_coefficient = np.corrcoef(list_x, list_y)[0, 1]\n",
        "\n",
        "print(f\"Covariance: {covariance}\")\n",
        "print(f\"Correlation Coefficient: {correlation_coefficient}\")"
      ],
      "metadata": {
        "colab": {
          "base_uri": "https://localhost:8080/"
        },
        "id": "TFIxtQMwHjbJ",
        "outputId": "d2148b73-910d-4056-fa6f-578e4d111471"
      },
      "execution_count": 2,
      "outputs": [
        {
          "output_type": "stream",
          "name": "stdout",
          "text": [
            "Covariance: 275.0\n",
            "Correlation Coefficient: 0.995893206467704\n"
          ]
        }
      ]
    },
    {
      "cell_type": "markdown",
      "source": [
        "Question 7: Write a Python script to draw a boxplot for the following numeric list and identify its outliers. Explain the result:\n",
        "\n",
        "data = [12, 14, 14, 15, 18, 19, 19, 21, 22, 22, 23, 23, 24, 26, 29, 35]\n",
        "\n",
        "(Include your Python code and output in the code box below.)\n"
      ],
      "metadata": {
        "id": "HE3ISiQFH2BQ"
      }
    },
    {
      "cell_type": "code",
      "source": [
        "import matplotlib.pyplot as plt\n",
        "import pandas as pd\n",
        "\n",
        "# Data list\n",
        "data = [12, 14, 14, 15, 18, 19, 19, 21, 22, 22, 23, 23, 24, 26, 29, 35]\n",
        "\n",
        "# Convert list to pandas Series to aid analysis\n",
        "data_series = pd.Series(data)\n",
        "\n",
        "# Plotting boxplot\n",
        "plt.boxplot(data)\n",
        "plt.title('Boxplot of Numeric Data')\n",
        "plt.ylabel('Values')\n",
        "plt.show()\n",
        "\n",
        "# Identify outliers using IQR\n",
        "Q1 = data_series.quantile(0.25)\n",
        "Q3 = data_series.quantile(0.75)\n",
        "IQR = Q3 - Q1\n",
        "\n",
        "# Define bounds for outliers\n",
        "lower_bound = Q1 - 1.5 * IQR\n",
        "upper_bound = Q3 + 1.5 * IQR\n",
        "\n",
        "# Find outliers\n",
        "outliers = data_series[(data_series < lower_bound) | (data_series > upper_bound)].tolist()\n",
        "print(\"Outliers:\", outliers)\n"
      ],
      "metadata": {
        "colab": {
          "base_uri": "https://localhost:8080/",
          "height": 469
        },
        "id": "B1BYfb23H1wx",
        "outputId": "3d250d47-71a9-4c3d-b4aa-f00dfd6491e5"
      },
      "execution_count": 3,
      "outputs": [
        {
          "output_type": "display_data",
          "data": {
            "text/plain": [
              "<Figure size 640x480 with 1 Axes>"
            ],
            "image/png": "[encoded data removed]"
          },
          "metadata": {}
        },
        {
          "output_type": "stream",
          "name": "stdout",
          "text": [
            "Outliers: [35]\n"
          ]
        }
      ]
    },
    {
      "cell_type": "markdown",
      "source": [
        "Question 8: You are working as a data analyst in an e-commerce company. The\n",
        "marketing team wants to know if there is a relationship between advertising spend and daily sales.\n",
        "\n",
        "● Explain how you would use covariance and correlation to explore this\n",
        "relationship.\n",
        "\n",
        "● Write Python code to compute the correlation between the two lists:\n",
        "\n",
        "advertising_spend = [200, 250, 300, 400, 500]\n",
        "\n",
        "daily_sales = [2200, 2450, 2750, 3200, 4000]\n",
        "\n",
        "\n",
        "Answer ::    \n",
        "  - To explore the relationship between advertising spend and daily sales, covariance and correlation can be used as follows:\n",
        "\n",
        "    -  Covariance measures the directional relationship between two variables. A positive covariance indicates that as advertising spend increases, daily sales tend to increase, while a negative covariance indicates an inverse relationship. However, covariance alone does not indicate the strength of the relationship because its value depends on the scale of the variables.\n",
        "    -  Correlation standardizes covariance to a range between -1 and 1, showing both the strength and direction of the linear relationship. A correlation close to 1 means a strong positive linear relationship, close to -1 means a strong negative linear relationship, and near 0 means little to no linear relationship.\n"
      ],
      "metadata": {
        "id": "4RlVWgt4IdXw"
      }
    },
    {
      "cell_type": "code",
      "source": [
        "import numpy as np\n",
        "\n",
        "advertising_spend = [200, 250, 300, 400, 500]\n",
        "daily_sales = [2200, 2450, 2750, 3200, 4000]\n",
        "\n",
        "correlation = np.corrcoef(advertising_spend, daily_sales)[0, 1]\n",
        "print(f\"Correlation between advertising spend and daily sales: {correlation}\")\n"
      ],
      "metadata": {
        "colab": {
          "base_uri": "https://localhost:8080/"
        },
        "id": "aQfB9Z2OIk6y",
        "outputId": "d0c90c52-40f5-435d-b81b-b6c775d74598"
      },
      "execution_count": 8,
      "outputs": [
        {
          "output_type": "stream",
          "name": "stdout",
          "text": [
            "Correlation between advertising spend and daily sales: 0.9935824101653329\n"
          ]
        }
      ]
    },
    {
      "cell_type": "markdown",
      "source": [
        "Question 9: Your team has collected customer satisfaction survey data on a scale of 1-10 and wants to understand its distribution before launching a new product.\n",
        "\n",
        "● Explain which summary statistics and visualizations (e.g. mean, standard\n",
        "deviation, histogram) you’d use.\n",
        "\n",
        "● Write Python code to create a histogram using Matplotlib for the survey data:\n",
        "\n",
        "survey_scores = [7, 8, 5, 9, 6, 7, 8, 9, 10, 4, 7, 6, 9, 8, 7]\n",
        "\n",
        "Answer ::\n",
        "  - To understand the distribution of customer satisfaction survey data using **mean** statistics enables the team to measures the average satisfaction score and gives an overall sense of customer satisfaction. And **Histogram** helps in visualizations by displaying the frequency distribution of scores, revealing the shape, skewness, and presence of multiple peaks."
      ],
      "metadata": {
        "id": "gcdVLM42J-Ch"
      }
    },
    {
      "cell_type": "code",
      "source": [
        "import matplotlib.pyplot as plt\n",
        "import pandas as pd\n",
        "\n",
        "\n",
        "survey_scores = [7, 8, 5, 9, 6, 7, 8, 9, 10, 4, 7, 6, 9, 8, 7]\n",
        "series = pd.Series(survey_scores)\n",
        "\n",
        "print(f\"Mean: {series.mean()}\")\n",
        "print(f\"Standard Deviation: {series.std()}\")\n",
        "print(\"\\n\\n\")\n",
        "\n",
        "plt.hist(survey_scores, bins=range(1, 12), edgecolor='black', align='left')\n",
        "plt.title('Histogram of Customer Satisfaction Survey Scores')\n",
        "plt.xlabel('Survey Score')\n",
        "plt.ylabel('Frequency')\n",
        "plt.xticks(range(1, 11))\n",
        "plt.show()\n"
      ],
      "metadata": {
        "colab": {
          "base_uri": "https://localhost:8080/",
          "height": 559
        },
        "id": "NkWEI_42J9qK",
        "outputId": "700056ad-da18-45c2-b0b1-e6b343357639"
      },
      "execution_count": 12,
      "outputs": [
        {
          "output_type": "stream",
          "name": "stdout",
          "text": [
            "Mean: 7.333333333333333\n",
            "Standard Deviation: 1.632993161855452\n",
            "\n",
            "\n",
            "\n"
          ]
        },
        {
          "output_type": "display_data",
          "data": {
            "text/plain": [
              "<Figure size 640x480 with 1 Axes>"
            ],
            "image/png": "[encoded data removed]"
          },
          "metadata": {}
        }
      ]
    }
  ]
}