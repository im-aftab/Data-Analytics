{
  "nbformat": 4,
  "nbformat_minor": 0,
  "metadata": {
    "colab": {
      "provenance": []
    },
    "kernelspec": {
      "name": "python3",
      "display_name": "Python 3"
    },
    "language_info": {
      "name": "python"
    }
  },
  "cells": [
    {
      "cell_type": "markdown",
      "source": [
        "**Files, exceptional handling, logging and memory management**   "
      ],
      "metadata": {
        "id": "pDeyAoFimc7f"
      }
    },
    {
      "cell_type": "markdown",
      "source": [
        "#Theory Questions"
      ],
      "metadata": {
        "id": "ad5y-aVimzM3"
      }
    },
    {
      "cell_type": "markdown",
      "source": [
        "1. What is the difference between interpreted and compiled languages ?\n",
        "  - Compiled languages are transformed into machine code before execution, while interpreted languages are executed line-by-line at runtime by an interpreter.\n",
        "\n",
        "  The key differences are :\n",
        "\n",
        "  - Compiled Languages\n",
        "\n",
        "    - The source code is translated into machine code using a compiler, generating an executable file specific to the target platform.\n",
        "\n",
        "    - Execution is typically faster, since the code is already optimized for the hardware and does not need translation during runtime.\n",
        "\n",
        "    - Examples: C, C++, Rust, Go.\n",
        "\n",
        "    - Less portable—the compiled file is tied to a particular operating system and processor architecture.\n",
        "\n",
        "  - Interpreted Languages\n",
        "    - Source code is executed directly by an interpreter program, translating it line-by-line into machine instructions at runtime.\n",
        "\n",
        "    - Execution is generally slower, as translation occurs on-the-fly for each run.\n",
        "\n",
        "    - Examples: Python, JavaScript, Ruby.\n",
        "\n",
        "    - More portable—the same code can often run on any platform with a compatible interpreter"
      ],
      "metadata": {
        "id": "EpaKHzqwm3Z9"
      }
    },
    {
      "cell_type": "markdown",
      "source": [
        "2.  What is exception handling in Python ?\n",
        "  - Exception handling in Python is a mechanism to manage and respond to errors that occur during program execution, enabling code to continue safely instead of crashing\n",
        "\n",
        "    - Python uses try, except, else, and finally blocks for exception handling.\n",
        "\n",
        "    - The try block contains code that might raise an exception or error.\n",
        "\n",
        "    - The except block catches and handles exceptions if they occur in the try block.\n",
        "\n",
        "    - The else block runs code if no exceptions were raised in the try block.\n",
        "\n",
        "    - The finally block always runs, whether an exception occurred or not—useful for cleanup actions like closing files\n",
        "\n",
        "Example :\n",
        "\n",
        "```\n",
        "try:\n",
        "    n = 10\n",
        "    res = n / 0  # Raises ZeroDivisionError\n",
        "except ZeroDivisionError:\n",
        "    print(\"Can't be divided by zero!\")\n",
        "else:\n",
        "    print(\"Division successful\")\n",
        "finally:\n",
        "    print(\"Operation attempted\")\n",
        "# Output:\n",
        "# Can't be divided by zero!\n",
        "# Operation attempted\n",
        "\n",
        "```"
      ],
      "metadata": {
        "id": "1mk2-PNCoAIH"
      }
    },
    {
      "cell_type": "markdown",
      "source": [
        "3. What is the purpose of the finally block in exception handling ?\n",
        "  - The purpose of the finally block in Python exception handling is to guarantee that specific code will always execute, regardless of whether an exception was raised or handled in the preceding try or except blocks\n",
        "\n",
        "Example :\n",
        "\n",
        "```\n",
        "try:\n",
        "    file = open(\"data.txt\")\n",
        "    data = file.read()\n",
        "except FileNotFoundError:\n",
        "    print(\"File not found.\")\n",
        "finally:\n",
        "    print(\"Closing file if it was opened.\")\n",
        "    if 'file' in locals():\n",
        "        file.close()\n",
        "\n",
        "```\n",
        "No matter the outcome—file found, file not found, or an unexpected error—the \"Closing file if it was opened.\" message always prints, and the file gets closed if it was opened"
      ],
      "metadata": {
        "id": "H677BfHOojQ2"
      }
    },
    {
      "cell_type": "markdown",
      "source": [
        "4. What is logging in Python ?\n",
        "  - Logging in Python is the process of recording messages about a program’s execution, including information, warning, and error messages, using the built-in logging module."
      ],
      "metadata": {
        "id": "VUSmuRNUo8-G"
      }
    },
    {
      "cell_type": "markdown",
      "source": [
        "5. What is the significance of the __del__ method in Python ?\n",
        "  - The __del__ method in Python is a special (dunder) method known as the destructor and its primary purpose is to define cleanup actions that should occur when an object’s lifecycle ends, such as closing files, releasing network or database connections, or deleting temporary resources linked to the object"
      ],
      "metadata": {
        "id": "Xz82C_bkpt1n"
      }
    },
    {
      "cell_type": "markdown",
      "source": [
        "6.  What is the difference between import and from ... import in Python ?\n",
        "  - The difference between import and from ... import in Python :  \n",
        "    -  import module imports the entire module and requires accessing its contents with the module name as a prefix. For example, import math lets you use math.sqrt() to call the sqrt function.\n",
        "    \n",
        "    - from module import member imports specific members (functions, classes, variables) directly into the current namespace, allowing you to use them without the module prefix. For example, from math import sqrt lets you just call sqrt()."
      ],
      "metadata": {
        "id": "eyDt6diZqJbu"
      }
    },
    {
      "cell_type": "markdown",
      "source": [
        "7. How can you handle multiple exceptions in Python ?\n",
        "  - In Python, multiple exceptions can be handled using one or more of the following approaches:\n",
        "  \n",
        "- Catch Multiple Exceptions in One Except Block\n",
        "```\n",
        "try:\n",
        "    # code that may raise different exceptions\n",
        "    result = 10 / 0\n",
        "except (ZeroDivisionError, ValueError) as e:\n",
        "    print(f\"Caught an exception: {e}\")\n",
        "\n",
        "```\n",
        "\n",
        "- Use Multiple Except Blocks for Different Handling\n",
        "\n",
        "```\n",
        "try:\n",
        "    # some code\n",
        "    n = int(input(\"Number: \"))\n",
        "    result = 10 / n\n",
        "except ValueError:\n",
        "    print(\"Invalid input: not a number\")\n",
        "except ZeroDivisionError:\n",
        "    print(\"Cannot divide by zero\")\n",
        "```\n",
        "\n",
        "- New in Python 3.11: Exception Groups and except*\n",
        "\n",
        "```\n",
        "try:\n",
        "    raise ExceptionGroup('multiple', [TypeError(), ValueError()])\n",
        "except* TypeError:\n",
        "    print(\"Handle TypeError\")\n",
        "except* ValueError:\n",
        "    print(\"Handle ValueError\")\n",
        "\n",
        "```"
      ],
      "metadata": {
        "id": "_T_4Tk9DqoC-"
      }
    },
    {
      "cell_type": "markdown",
      "source": [
        "8. What is the purpose of the with statement when handling files in Python ?\n",
        "  - The purpose of the with statement when handling files in Python is to simplify resource management by automatically opening and closing files, ensuring that they are properly closed after use, even if an error occurs during file operations."
      ],
      "metadata": {
        "id": "FZzkABgQrnIX"
      }
    },
    {
      "cell_type": "markdown",
      "source": [
        "9. What is the difference between multithreading and multiprocessing ?\n",
        "  - The difference between multithreading and multiprocessing in Python :     \n",
        "    - Multithreading\n",
        "      - Involves multiple threads running within a single process, sharing the same memory space.\n",
        "\n",
        "      - Threads run concurrently but due to Python’s Global Interpreter Lock (GIL), only one thread executes Python bytecode at a time, which limits true parallelism.\n",
        "\n",
        "      - Multithreading is more suitable for I/O-bound tasks (e.g., reading files, network operations) where threads can wait and switch easily.\n",
        "\n",
        "      - It has less overhead and faster context switching because threads share memory and resources.\n",
        "    \n",
        "    - Multiprocessing\n",
        "      - Involves multiple processes running independently, each with its own memory space and Python interpreter.\n",
        "\n",
        "      - Achieves true parallelism by utilizing multiple CPU cores simultaneously since each process runs independently of the GIL.\n",
        "\n",
        "      - It is ideal for CPU-bound tasks (e.g., heavy computations) that benefit from parallel execution across multiple cores.\n",
        "\n",
        "      - Has higher overhead than threads because processes do not share memory and require inter-process communication mechanisms."
      ],
      "metadata": {
        "id": "DF8wxrypr4LW"
      }
    },
    {
      "cell_type": "markdown",
      "source": [
        "10. What are the advantages of using logging in a program ?\n",
        "  - The advantages of using logging in a program are :     \n",
        "    - Enhanced Debugging and Troubleshooting\n",
        "      - Logging provides detailed, timestamped records of program execution, making it easier to identify where and why errors or unexpected behaviors occur, especially in complex applications or production environments.\n",
        "\n",
        "    - Real-Time Visibility and Monitoring:\n",
        "      - Logs offer insights into what the software is doing at any moment, helping detect issues early, monitor performance, and observe usage patterns, which can prevent bigger problems down the line.\n",
        "\n",
        "    - Categorization and Filtering:\n",
        "      - Logging frameworks allow messages to be categorized by severity levels (DEBUG, INFO, WARNING, ERROR, CRITICAL) and filtered accordingly, reducing information overload and focusing on relevant data.\n",
        "\n",
        "    - Persistent Record Keeping:\n",
        "      - Logs create an audit trail of events and activities, valuable for post-mortem analysis, compliance, security auditing, and understanding system behavior over time.\n",
        "\n",
        "    - Improved Developer and Admin Collaboration:\n",
        "      - Logs serve as a single source of truth shared among developers and system administrators, fostering transparency and efficient communication about issues and system state.\n",
        "\n",
        "    - Automated Alerting and Issue Detection:\n",
        "      - Advanced logging setups integrate with monitoring tools to trigger alerts based on specific log entries, enabling faster response times to incidents or anomalies.\n",
        "\n",
        "    - Better Resource and Performance Management:\n",
        "      - Logs help identify bottlenecks, resource leaks, and inefficiencies by tracking system events and performance metrics, supporting optimization efforts"
      ],
      "metadata": {
        "id": "kGlBY193sXFH"
      }
    },
    {
      "cell_type": "markdown",
      "source": [
        "11. What is memory management in Python ?\n",
        "  - Memory management in Python refers to the process of allocating and deallocating memory to objects during the execution of a program. Python handles memory management automatically through mechanisms like reference counting and garbage collection, which frees programmers from manually managing memory"
      ],
      "metadata": {
        "id": "ut1x1U54s5mH"
      }
    },
    {
      "cell_type": "markdown",
      "source": [
        "12. What are the basic steps involved in exception handling in Python ?\n",
        "  - The basic steps involved in exception handling in Python are structured around the use of the try, except, else, and finally blocks to manage errors\n",
        "\n",
        "STEPS -->\n",
        "1.  Try Block:\n",
        "    - Place the code that might raise an exception inside the try block.\n",
        "    - Python executes this code normally until an exception occurs or it completes without error.\n",
        "2.  Except Block:\n",
        "    - Catch and handle specific exceptions that occur in the try block.\n",
        "    - If an exception of the type specified is raised, control jumps to the corresponding except block where error handling code runs.\n",
        "    - Multiple except blocks can be used for different exception types\n",
        "3.  Else Block (optional):\n",
        "    - Runs if no exception is raised in the try block.\n",
        "    - Useful for code that should only execute when the try block is successful.\n",
        "\n",
        "4.  Finally Block (optional):\n",
        "    - Executes code regardless of whether an exception occurred or not.\n",
        "    - Often used for cleanup actions like closing files or releasing resources."
      ],
      "metadata": {
        "id": "KLKl7Suls_Z-"
      }
    },
    {
      "cell_type": "markdown",
      "source": [
        "13. Why is memory management important in Python ?\n",
        "  - Memory management is important in Python because it ensures that the program runs efficiently by automatically allocating and deallocating memory as needed, preventing memory leaks and optimizing resource usage. Proper memory management helps maintain good application performance, stability, and reliability, especially when dealing with large datasets or long-running processes"
      ],
      "metadata": {
        "id": "H8frslFEuDrH"
      }
    },
    {
      "cell_type": "markdown",
      "source": [
        "14. What is the role of try and except in exception handling ?\n",
        "  - The role of try and except in Python exception handling is to allow the program to test for errors and handle those errors gracefully without crashing.\n",
        "\n",
        "    - The try block contains the code that might raise an exception. Python executes this code normally, but if an error occurs within this block, it stops executing the remaining code inside it and looks for a matching except block.\n",
        "\n",
        "    - The except block is where the program handles the error. If an exception occurs in the try block, control is passed to the except block, where specific error-handling code can be written (e.g., printing error messages, logging, or taking corrective action)."
      ],
      "metadata": {
        "id": "3I3bB0pwuaGu"
      }
    },
    {
      "cell_type": "markdown",
      "source": [
        "15. How does Python's garbage collection system work ?\n",
        "  - Python's garbage collection system works primarily through reference counting combined with a generational garbage collector to manage memory efficiently and prevent memory leaks.\n",
        "\n",
        "WORKING :     \n",
        " - Reference Counting: The First Line of Defense\n",
        "    - Every Python object keeps track of how many references point to it.\n",
        "    - When an object’s reference count drops to zero, it means no part of the program is using it anymore—so Python automatically deallocates it.\n",
        "    - This is fast and deterministic, but it fails with circular references (e.g., two objects referencing each other).\n",
        "\n",
        "  - Generational Garbage Collector: The Cleanup Crew\n",
        "    - To handle circular references and optimize performance, Python uses a generational garbage collector, implemented in the gc module.\n",
        "\n",
        "    -->How It Works:\n",
        "    - Objects are grouped into three generations:\n",
        "      - Gen 0: Newly created objects.\n",
        "      - Gen 1: Objects that survived one collection.\n",
        "      - Gen 2: Long-lived objects.\n",
        "      - The idea: most objects die young, so Gen 0 is collected frequently, while Gen 2 is collected rarely.\n",
        "  - Manual Control with the gc Module\n",
        "    - You can interact with the garbage collector directly:\n",
        "\n",
        "```\n",
        "import gc\n",
        "\n",
        "gc.collect()           # Force a full collection\n",
        "gc.disable()           # Turn off automatic GC\n",
        "gc.enable()            # Re-enable GC\n",
        "gc.get_stats()         # View collection statistics\n",
        "```\n"
      ],
      "metadata": {
        "id": "FDDZvUnaur5-"
      }
    },
    {
      "cell_type": "markdown",
      "source": [
        "16. What is the purpose of the else block in exception handling ?\n",
        "  - The purpose of the else block in Python exception handling is to execute code only if no exceptions are raised in the try block. It runs after the try block completes successfully, but before the finally block if present."
      ],
      "metadata": {
        "id": "AnbN7acpwi9-"
      }
    },
    {
      "cell_type": "markdown",
      "source": [
        "17. What are the common logging levels in Python ?\n",
        "  - Common Logging Levels in Python :    \n",
        "\n",
        "\n",
        "    Level :\n",
        "      - NOTSET (Numeric Value 0 )  :\n",
        "        Lowest level. No specific logging level set; passes logging decisions to parent logger.\n",
        "   \n",
        "      - DEBUG\t(Numeric Value 10 ) :\n",
        "      Detailed diagnostic information for debugging purposes. Mainly used during development.\n",
        "\n",
        "      - INFO\t(Numeric Value 20 )\t  :\n",
        "        General informational messages about normal program operation.\n",
        "\n",
        "      - WARNING(Numeric Value 30 ) :\n",
        "        Indications of potential problems or unusual situations that aren't necessarily errors.\n",
        "\n",
        "      - ERROR (Numeric Value 40 )  :\n",
        "        Serious problems that prevent some functionality from working correctly.\n",
        "\n",
        "      - CRITICAL(Numeric Value 50 ):\n",
        "        Very severe errors that may cause the program to abort or crash."
      ],
      "metadata": {
        "id": "Aj8LQeJmw0E2"
      }
    },
    {
      "cell_type": "markdown",
      "source": [
        "18. What is the difference between os.fork() and multiprocessing in Python ?\n",
        "  - The main difference between os.fork() and the multiprocessing module in Python is that os.fork() provides a low-level system call to create a child process as an exact copy of the parent, whereas multiprocessing offers a cross-platform, higher-level API to create and manage separate Python processes with additional features like process pools and inter-process communication.\n",
        "  "
      ],
      "metadata": {
        "id": "QOJKHodAxZKP"
      }
    },
    {
      "cell_type": "markdown",
      "source": [
        "19.  What is the importance of closing a file in Python ?\n",
        "  - Closing a file in Python is important because it ensures all data is safely written to disk, releases system resources, and protects against data corruption or running out of file handles"
      ],
      "metadata": {
        "id": "0SucPOJbogX2"
      }
    },
    {
      "cell_type": "markdown",
      "source": [
        "20. What is the difference between file.read() and file.readline() in Python ?\n",
        "  - The main difference is that file.read() reads the entire content of a file (or up to a specified number of characters), while file.readline() reads just a single line from the file each time it is called.\n",
        "\n",
        "  - file.read()\n",
        "\n",
        "      - Reads the whole file at once and returns it as a single string.\n",
        "\n",
        "      - Supports an optional argument to read up to a specified number of characters.\n",
        "\n",
        "      - Useful for small files that can fit into memory, but not efficient for very large files.\n",
        "\n",
        "  - file.readline()\n",
        "\n",
        "      - Reads one line from the file at a time and returns it as a string (including      the newline character at the end).\n",
        "\n",
        "      - Suitable for iterating through a file line by line, especially for large files that cannot be loaded entirely into memory.\n",
        "\n",
        "      - Consecutive calls to readline() return subsequent lines from the file until the end is reached."
      ],
      "metadata": {
        "id": "1nyWrMeHoso-"
      }
    },
    {
      "cell_type": "markdown",
      "source": [
        "21. What is the logging module in Python used for ?\n",
        "  - The logging module in Python is used to track and record events that happen while a program runs, helping with debugging, monitoring, and maintenance by capturing status messages, errors, warnings, and other useful information."
      ],
      "metadata": {
        "id": "XWvXiphlpO8Q"
      }
    },
    {
      "cell_type": "markdown",
      "source": [
        "22. What is the os module in Python used for in file handling ?\n",
        "  - The os module in Python is used in file handling to interact directly with the operating system for tasks such as creating, deleting, renaming, and modifying files and directories, as well as retrieving file properties and permissions.\n",
        "\n",
        "  - Common File Handling Operations\n",
        "    - Create/Delete Files: Functions like os.remove() delete files, and os.open() can be used (with mode flags) to create files.\n",
        "\n",
        "    - Rename Files/Directories: Use os.rename() to change the name of an existing file or directory.\n",
        "\n",
        "    - Check Existence and Properties: os.path.isfile() and os.path.exists() check whether a file or directory exists, and os.stat() retrieves metadata such as size, permissions, and timestamps.\n",
        "\n",
        "    - Change Permissions/Ownership: os.chmod() changes file or directory permissions, while os.chown() (on Unix) sets ownership.\n",
        "\n",
        "    - Directory Management: os.mkdir() creates new directories, os.rmdir() deletes empty directories, and os.listdir() lists files and folders in a path.\n",
        "\n",
        "  - Low-level File Operations\n",
        "    - The os module allows for low-level file handling with functions like os.open(), os.read(), os.write(), and os.close(), which use file descriptors rather than Python file objects. These are similar to system calls in C and useful for advanced scripting and system tasks."
      ],
      "metadata": {
        "id": "RDPL8Z31pW_G"
      }
    },
    {
      "cell_type": "markdown",
      "source": [
        "23. What are the challenges associated with memory management in Python ?\n",
        "  - The challenges associated with memory management in Python include the following key issues:\n",
        "\n",
        "    - Automatic but Not Perfect Management\n",
        "      - Python uses automatic memory management through reference counting and garbage collection, yet some objects may not get freed immediately due to circular references or complex object graphs, leading to unexpected memory retention and leaks.\n",
        "\n",
        "    - Circular References and Memory Leaks\n",
        "      - One major challenge is handling circular references where objects reference each other, preventing their reference count from reaching zero. Although Python’s cyclic garbage collector attempts to clean these up, some situations can still cause memory leaks that degrade performance over time.\n",
        "\n",
        "    - Performance Overhead\n",
        "      - Memory management routines like garbage collection introduce processing overhead and can cause pauses (GC pauses), potentially affecting the responsiveness and throughput of programs, especially long-running or real-time applications.\n",
        "\n",
        "    - Manual Memory Optimization Difficulty\n",
        "      - While Python abstracts memory handling from programmers, this can limit fine-grained control for optimizing memory usage. Inefficient use of data structures and unnecessary object creation can increase memory consumption without easy manual control.\n",
        "\n",
        "    - Debugging and Profiling Complexity\n",
        "      - Detecting, diagnosing, and fixing memory issues require specialized tools (e.g., tracemalloc, pympler) and deep understanding of Python’s memory internals. Memory leaks or excessive usage can be subtle and hard to reproduce, complicating troubleshooting"
      ],
      "metadata": {
        "id": "O-dP1XRrpuxm"
      }
    },
    {
      "cell_type": "markdown",
      "source": [
        "24.   How do you raise an exception manually in Python ?\n",
        "  - In Python, you manually raise an exception using the raise keyword.\n",
        "\n",
        "Example :\n",
        "```\n",
        "raise Exception(\"error message\")\n",
        "\n",
        "```"
      ],
      "metadata": {
        "id": "kaurM6hdqLfP"
      }
    },
    {
      "cell_type": "markdown",
      "source": [
        "25. Why is it important to use multithreading in certain applications ?\n",
        "  - It is important to use multithreading in certain applications because it enables concurrent execution of multiple tasks within the same program, improving performance, responsiveness, and resource utilization, especially in I/O-bound and real-time applications.\n",
        "\n",
        "  - Key Benefits of Multithreading\n",
        "\n",
        "    - Improved Performance: Allows multiple threads to run tasks simultaneously, accelerating completion of operations like data processing or network requests.\n",
        "\n",
        "    - Better Responsiveness: Keeps applications responsive by running background tasks (e.g., loading data or processing) in separate threads, preventing the main program or UI from freezing.\n",
        "\n",
        "    - Efficient Resource Utilization: Utilizes CPU and system resources efficiently by handling multiple operations at once, particularly on multi-core processors, though Python threading is mostly beneficial for I/O-bound tasks due to GIL.\n",
        "\n",
        "    - Simplified Program Structure: Helps organize complex operations into manageable threads, making programs easier to maintain and develop.\n"
      ],
      "metadata": {
        "id": "J696-VxWqr8X"
      }
    },
    {
      "cell_type": "markdown",
      "source": [
        "# PRACTICAL QUESTIONS"
      ],
      "metadata": {
        "id": "N1I6Ozf0rOV-"
      }
    },
    {
      "cell_type": "markdown",
      "source": [
        "1. How can you open a file for writing in Python and write a string to it ?"
      ],
      "metadata": {
        "id": "6nFDqdR7rfy_"
      }
    },
    {
      "cell_type": "code",
      "source": [
        "file = open(\"example.txt\", \"w\")\n",
        "file.write(\"Hello, World!\")\n",
        "file.close()"
      ],
      "metadata": {
        "id": "VtK3kvtHrju-"
      },
      "execution_count": null,
      "outputs": []
    },
    {
      "cell_type": "markdown",
      "source": [
        "2. Write a Python program to read the contents of a file and print each line."
      ],
      "metadata": {
        "id": "-UqPhcVYrq5v"
      }
    },
    {
      "cell_type": "code",
      "source": [
        "file = open(\"example.txt\", \"r\")\n",
        "for line in file:\n",
        "  print(line)\n",
        "file.close()"
      ],
      "metadata": {
        "colab": {
          "base_uri": "https://localhost:8080/"
        },
        "id": "1EqD3Zibrv8-",
        "outputId": "41308ed5-c86a-4f99-d0c7-d0e2dc46b89e"
      },
      "execution_count": null,
      "outputs": [
        {
          "output_type": "stream",
          "name": "stdout",
          "text": [
            "Hello, World!\n"
          ]
        }
      ]
    },
    {
      "cell_type": "markdown",
      "source": [
        "3. How would you handle a case where the file doesn't exist while trying to open it for reading ?"
      ],
      "metadata": {
        "id": "pDBCf6wDsAB_"
      }
    },
    {
      "cell_type": "code",
      "source": [
        "def read_file(filename):\n",
        "    try:\n",
        "        with open(filename, 'r') as file:\n",
        "            content = file.read()\n",
        "            return content\n",
        "    except FileNotFoundError:\n",
        "        print(f\"Error: The file '{filename}' does not exist.\")\n",
        "        return None\n",
        "\n",
        "read_file(\"non_existent_file.txt\")\n",
        "read_file(\"example.txt\")"
      ],
      "metadata": {
        "colab": {
          "base_uri": "https://localhost:8080/",
          "height": 53
        },
        "id": "Yn8AZE61sHzG",
        "outputId": "19d26758-c999-4575-ec04-2e7c68ca5efe"
      },
      "execution_count": null,
      "outputs": [
        {
          "output_type": "stream",
          "name": "stdout",
          "text": [
            "Error: The file 'non_existent_file.txt' does not exist.\n"
          ]
        },
        {
          "output_type": "execute_result",
          "data": {
            "text/plain": [
              "'Hello, World!'"
            ],
            "application/vnd.google.colaboratory.intrinsic+json": {
              "type": "string"
            }
          },
          "metadata": {},
          "execution_count": 3
        }
      ]
    },
    {
      "cell_type": "markdown",
      "source": [
        "4. Write a Python script that reads from one file and writes its content to another file ?"
      ],
      "metadata": {
        "id": "kXcFIcIUsW7n"
      }
    },
    {
      "cell_type": "code",
      "source": [
        "file = open(\"example.txt\", \"r\")\n",
        "content = file.read()\n",
        "file.close()\n",
        "\n",
        "file = open(\"output.txt\", \"w\")\n",
        "file.write(content)\n",
        "file.close()\n",
        "\n",
        "read_file(\"output.txt\")"
      ],
      "metadata": {
        "colab": {
          "base_uri": "https://localhost:8080/",
          "height": 35
        },
        "id": "NkNxn61Psca-",
        "outputId": "8125bbc6-e204-4fcb-ae72-239cfeeb5c1f"
      },
      "execution_count": null,
      "outputs": [
        {
          "output_type": "execute_result",
          "data": {
            "text/plain": [
              "'Hello, World!'"
            ],
            "application/vnd.google.colaboratory.intrinsic+json": {
              "type": "string"
            }
          },
          "metadata": {},
          "execution_count": 4
        }
      ]
    },
    {
      "cell_type": "markdown",
      "source": [
        "5. How would you catch and handle division by zero error in Python ?"
      ],
      "metadata": {
        "id": "A7UBpR9lszjv"
      }
    },
    {
      "cell_type": "code",
      "source": [
        "def division(a, b):\n",
        "    try:\n",
        "        result = a / b\n",
        "        return result\n",
        "    except ZeroDivisionError:\n",
        "        print(\"Error: Division by zero is not allowed.\")\n",
        "        return None\n",
        "    except Exception as e:\n",
        "        print(f\"An unexpected error occurred: {e}\")\n",
        "        return None\n",
        "\n",
        "print(division(10, 2))\n",
        "print(division(10, 0))\n",
        "print(division(10, \"2\"))"
      ],
      "metadata": {
        "colab": {
          "base_uri": "https://localhost:8080/"
        },
        "id": "9-xSwPnos5GW",
        "outputId": "24a20b38-fa12-4e29-9b4c-67aa15400174"
      },
      "execution_count": null,
      "outputs": [
        {
          "output_type": "stream",
          "name": "stdout",
          "text": [
            "5.0\n",
            "Error: Division by zero is not allowed.\n",
            "None\n",
            "An unexpected error occurred: unsupported operand type(s) for /: 'int' and 'str'\n",
            "None\n"
          ]
        }
      ]
    },
    {
      "cell_type": "markdown",
      "source": [
        "6. Write a Python program that logs an error message to a log file when a division by zero exception occurs ?"
      ],
      "metadata": {
        "id": "4mDVF5totJoW"
      }
    },
    {
      "cell_type": "code",
      "source": [
        "import logging\n",
        "\n",
        "logging.basicConfig(filename='error.log', level=logging.ERROR)\n",
        "\n",
        "def division(a, b):\n",
        "    try:\n",
        "        result = a / b\n",
        "        return result\n",
        "    except ZeroDivisionError:\n",
        "        logging.error(\"Division by zero error occurred.\")\n",
        "        return None\n",
        "print(division(10, 0))"
      ],
      "metadata": {
        "colab": {
          "base_uri": "https://localhost:8080/"
        },
        "id": "Yw2_KJ1AtSoW",
        "outputId": "e4110b46-d68f-4a00-f42c-a0a46b15e8ec"
      },
      "execution_count": null,
      "outputs": [
        {
          "output_type": "stream",
          "name": "stderr",
          "text": [
            "ERROR:root:Division by zero error occurred.\n"
          ]
        },
        {
          "output_type": "stream",
          "name": "stdout",
          "text": [
            "None\n"
          ]
        }
      ]
    },
    {
      "cell_type": "markdown",
      "source": [
        "7. How do you log information at different levels (INFO, ERROR, WARNING) in Python using the logging module ?"
      ],
      "metadata": {
        "id": "ljJ2W4hUuVM1"
      }
    },
    {
      "cell_type": "code",
      "source": [
        "import logging\n",
        "\n",
        "logging.getLogger().setLevel(logging.INFO)\n",
        "\n",
        "logging.debug(\"This is a debug message (will not be shown)\")\n",
        "logging.info(\"This is an info message (will be shown)\")\n",
        "logging.warning(\"This is a warning message (will be shown)\")\n",
        "logging.error(\"This is an error message (will be shown)\")\n",
        "logging.shutdown()"
      ],
      "metadata": {
        "id": "T-xsSvjkueI-",
        "colab": {
          "base_uri": "https://localhost:8080/"
        },
        "outputId": "8be5131a-e76a-47a7-ca21-cbe335d5cd20"
      },
      "execution_count": null,
      "outputs": [
        {
          "output_type": "stream",
          "name": "stderr",
          "text": [
            "INFO:root:This is an info message (will be shown)\n",
            "WARNING:root:This is a warning message (will be shown)\n",
            "ERROR:root:This is an error message (will be shown)\n"
          ]
        }
      ]
    },
    {
      "cell_type": "markdown",
      "source": [
        "8. Write a program to handle a file opening error using exception handling."
      ],
      "metadata": {
        "id": "yTXLZN4T251_"
      }
    },
    {
      "cell_type": "code",
      "source": [
        "file = None\n",
        "try:\n",
        "    file = open(\"example.txt\", \"r\")\n",
        "    content = file.read()\n",
        "    print(content)\n",
        "except FileNotFoundError:\n",
        "    print(\"Error: File not found.\")"
      ],
      "metadata": {
        "id": "Y20WmvDI2_4v",
        "colab": {
          "base_uri": "https://localhost:8080/"
        },
        "outputId": "a4cb6195-694f-4b21-c32f-a00b2ef4b99c"
      },
      "execution_count": null,
      "outputs": [
        {
          "output_type": "stream",
          "name": "stdout",
          "text": [
            "Error: File not found.\n"
          ]
        }
      ]
    },
    {
      "cell_type": "markdown",
      "source": [
        " 9. How can you read a file line by line and store its content in a list in Python ?"
      ],
      "metadata": {
        "id": "q1ZIiXNeGA2C"
      }
    },
    {
      "cell_type": "code",
      "source": [
        "with open(\"example.txt\", \"w\") as file:\n",
        "    file.write(\" Twinkle twinkle little star.\\n\")\n",
        "    file.write(\" How I wonder what you are.\\n\")\n",
        "    file.write(\" Up above the world so high.\\n\")\n",
        "    file.write(\" Like a diamond in the sky.\\n\")\n",
        "    file.write(\" Twinkle twinkle little star.\\n\")\n",
        "    file.write(\" How I wonder what you are.\\n\")\n",
        "\n",
        "my_list=[]\n",
        "\n",
        "with open(\"example.txt\", \"r\") as file:\n",
        "    lines = file.readlines()\n",
        "    my_list.append(lines)\n",
        "\n",
        "print(my_list)"
      ],
      "metadata": {
        "colab": {
          "base_uri": "https://localhost:8080/"
        },
        "id": "qJYH2ajzGGbS",
        "outputId": "46dfd7f8-ac47-4715-b60e-f678e62a9b2f"
      },
      "execution_count": null,
      "outputs": [
        {
          "output_type": "stream",
          "name": "stdout",
          "text": [
            "[[' Twinkle twinkle little star.\\n', ' How I wonder what you are.\\n', ' Up above the world so high.\\n', ' Like a diamond in the sky.\\n', ' Twinkle twinkle little star.\\n', ' How I wonder what you are.\\n']]\n"
          ]
        }
      ]
    },
    {
      "cell_type": "markdown",
      "source": [
        "10. How can you append data to an existing file in Python ?"
      ],
      "metadata": {
        "id": "PrL1xz0pRV0u"
      }
    },
    {
      "cell_type": "code",
      "source": [
        "with open(\"example.txt\", \"a\") as file:\n",
        "    file.write(\"This will be added to the end of the file.\\n\")\n",
        "\n",
        "with open(\"example.txt\", \"r\") as file:\n",
        "    lines = file.readlines()\n",
        "    print(lines)"
      ],
      "metadata": {
        "colab": {
          "base_uri": "https://localhost:8080/"
        },
        "id": "brJxrU6pRb4G",
        "outputId": "4ff0d29c-b548-417b-cee1-c673ab21fcd6"
      },
      "execution_count": null,
      "outputs": [
        {
          "output_type": "stream",
          "name": "stdout",
          "text": [
            "[' Twinkle twinkle little star.\\n', ' How I wonder what you are.\\n', ' Up above the world so high.\\n', ' Like a diamond in the sky.\\n', ' Twinkle twinkle little star.\\n', ' How I wonder what you are.\\n', '\\n', 'This will be added to the end of the file.\\n']\n"
          ]
        }
      ]
    },
    {
      "cell_type": "markdown",
      "source": [
        " 11. Write a Python program that uses a try-except block to handle an error when attempting to access a dictionary key that doesn't exist."
      ],
      "metadata": {
        "id": "DtMQOrRwTF92"
      }
    },
    {
      "cell_type": "code",
      "source": [
        "my_dict = {'a': 1, 'b': 2, 'c': 3}\n",
        "\n",
        "try:\n",
        "    value = my_dict['d']\n",
        "except KeyError:\n",
        "    print(\"Error: Key not found in the dictionary.\")"
      ],
      "metadata": {
        "colab": {
          "base_uri": "https://localhost:8080/"
        },
        "id": "Ktgsl-4iTVoO",
        "outputId": "8ee712ad-19c3-44ea-89cb-9b6ae7608802"
      },
      "execution_count": null,
      "outputs": [
        {
          "output_type": "stream",
          "name": "stdout",
          "text": [
            "Error: Key not found in the dictionary.\n"
          ]
        }
      ]
    },
    {
      "cell_type": "markdown",
      "source": [
        "12. Write a program that demonstrates using multiple except blocks to handle different types of exceptions."
      ],
      "metadata": {
        "id": "0cCFSt_NTdml"
      }
    },
    {
      "cell_type": "code",
      "source": [
        "def divide_numbers(a, b):\n",
        "    try:\n",
        "        result = a / b\n",
        "        print(f\"Result of {a} divided by {b} is {result}\")\n",
        "    except ZeroDivisionError:\n",
        "        print(\"Error: Cannot divide by zero.\")\n",
        "    except TypeError:\n",
        "        print(\"Error: Both inputs must be numbers.\")\n",
        "    except Exception as e:\n",
        "        print(f\"An unexpected error occurred: {e}\")\n",
        "\n",
        "divide_numbers(10, 2)\n",
        "divide_numbers(10, 0)\n",
        "divide_numbers(10, \"2\")"
      ],
      "metadata": {
        "colab": {
          "base_uri": "https://localhost:8080/"
        },
        "id": "fr3HXR3oTk0V",
        "outputId": "17c0edc9-e4fd-4bd3-eb59-58a6ddcc8a92"
      },
      "execution_count": null,
      "outputs": [
        {
          "output_type": "stream",
          "name": "stdout",
          "text": [
            "Result of 10 divided by 2 is 5.0\n",
            "Error: Cannot divide by zero.\n",
            "Error: Both inputs must be numbers.\n"
          ]
        }
      ]
    },
    {
      "cell_type": "markdown",
      "source": [
        " 13. How would you check if a file exists before attempting to read it in Python ?"
      ],
      "metadata": {
        "id": "ygcr8vZkUd32"
      }
    },
    {
      "cell_type": "code",
      "source": [
        "import os\n",
        "\n",
        "def read_file(filename):\n",
        "    if os.path.exists(filename):\n",
        "        with open(filename, 'r') as file:\n",
        "            content = file.read()\n",
        "            print(content)\n",
        "            return None\n",
        "    else:\n",
        "        print(f\"Error: The file '{filename}' does not exist.\")\n",
        "        return None\n",
        "\n",
        "read_file(\"non_existent_file.txt\")\n",
        "read_file(\"example.txt\")"
      ],
      "metadata": {
        "colab": {
          "base_uri": "https://localhost:8080/"
        },
        "id": "BljE0U9TVEo9",
        "outputId": "db2e374f-e2e2-4216-987f-e26da9e8d31e"
      },
      "execution_count": null,
      "outputs": [
        {
          "output_type": "stream",
          "name": "stdout",
          "text": [
            "Error: The file 'non_existent_file.txt' does not exist.\n",
            " Twinkle twinkle little star.\n",
            " How I wonder what you are.\n",
            " Up above the world so high.\n",
            " Like a diamond in the sky.\n",
            " Twinkle twinkle little star.\n",
            " How I wonder what you are.\n",
            "\n",
            "\n"
          ]
        }
      ]
    },
    {
      "cell_type": "markdown",
      "source": [
        "14. Write a program that uses the logging module to log both informational and error messages."
      ],
      "metadata": {
        "id": "YGYIWUzBVYpm"
      }
    },
    {
      "cell_type": "code",
      "source": [
        "import logging\n",
        "\n",
        "logging.basicConfig(filename='error.log', level=logging.INFO)\n",
        "logging.getLogger().setLevel(logging.INFO)\n",
        "\n",
        "def division(a, b):\n",
        "    try:\n",
        "        result = a / b\n",
        "        logging.info(f\"Result of {a} divided by {b} is {result}\")\n",
        "        return\n",
        "    except ZeroDivisionError:\n",
        "        logging.error(\"Division by zero error occurred.\")\n",
        "        return\n",
        "\n",
        "division(10, 2)\n",
        "division(10, 0)"
      ],
      "metadata": {
        "colab": {
          "base_uri": "https://localhost:8080/"
        },
        "id": "hWwvdSleVfXk",
        "outputId": "28a42359-4be2-40c5-a842-4ffc9f1eecbe"
      },
      "execution_count": null,
      "outputs": [
        {
          "output_type": "stream",
          "name": "stderr",
          "text": [
            "INFO:root:Result of 10 divided by 2 is 5.0\n",
            "ERROR:root:Division by zero error occurred.\n"
          ]
        }
      ]
    },
    {
      "cell_type": "markdown",
      "source": [
        "15. Write a Python program that prints the content of a file and handles the case when the file is empty."
      ],
      "metadata": {
        "id": "uan77tRGWieF"
      }
    },
    {
      "cell_type": "code",
      "source": [
        "with open(\"example.txt\", \"w\") as file:\n",
        "    file.write(\"Twinkle twinkle little star.\\n\")\n",
        "    file.write(\"How I wonder what you are.\\n\")\n",
        "    file.write(\"Up above the world so high.\\n\")\n",
        "    file.write(\"Like a diamond in the sky.\\n\")\n",
        "\n",
        "with open(\"emptyfile.txt\", \"w\") as file:\n",
        "    pass\n",
        "try :\n",
        "  with open(\"example.txt\", \"r\") as file:\n",
        "    content = file.read()\n",
        "    if content:\n",
        "      print(content)\n",
        "    else:\n",
        "      print(\"The file is empty.\\n\")\n",
        "\n",
        "  with open(\"emptyfile.txt\", \"r\") as file:\n",
        "    content = file.read()\n",
        "    if content:\n",
        "        print(content)\n",
        "    else:\n",
        "        print(\"The file is empty.\\n\")\n",
        "\n",
        "  with open(\"non_existent_file.txt\", \"r\") as file:\n",
        "    content = file.read()\n",
        "    if content:\n",
        "        print(content)\n",
        "    else:\n",
        "        print(\"The file is empty.\\n\")\n",
        "\n",
        "except FileNotFoundError:\n",
        "  print(\"Error: File not found.\")\n",
        "\n",
        "except IOError:\n",
        "  print(\"Error: File is empty.\")\n",
        "\n",
        "\n"
      ],
      "metadata": {
        "id": "lzzSKBa0WpIF",
        "colab": {
          "base_uri": "https://localhost:8080/"
        },
        "outputId": "0a21b0f4-82b4-4080-e25e-2e4a37fc3e54"
      },
      "execution_count": 3,
      "outputs": [
        {
          "output_type": "stream",
          "name": "stdout",
          "text": [
            "Twinkle twinkle little star.\n",
            "How I wonder what you are.\n",
            "Up above the world so high.\n",
            "Like a diamond in the sky.\n",
            "\n",
            "The file is empty.\n",
            "\n",
            "Error: File not found.\n"
          ]
        }
      ]
    },
    {
      "cell_type": "markdown",
      "source": [
        "16.  Demonstrate how to use memory profiling to check the memory usage of a small program."
      ],
      "metadata": {
        "id": "SZzkc1pEqLA3"
      }
    },
    {
      "cell_type": "code",
      "source": [
        "!pip install memory_profiler\n"
      ],
      "metadata": {
        "colab": {
          "base_uri": "https://localhost:8080/"
        },
        "id": "BYzIjCsWq0jR",
        "outputId": "9b086c15-add7-42ff-b114-34159cc374d1"
      },
      "execution_count": 10,
      "outputs": [
        {
          "output_type": "stream",
          "name": "stdout",
          "text": [
            "Requirement already satisfied: memory_profiler in /usr/local/lib/python3.12/dist-packages (0.61.0)\n",
            "Requirement already satisfied: psutil in /usr/local/lib/python3.12/dist-packages (from memory_profiler) (5.9.5)\n"
          ]
        }
      ]
    },
    {
      "cell_type": "code",
      "source": [
        "# Load the memory_profiler extension\n",
        "%reload_ext memory_profiler\n",
        "\n",
        "def small_program():\n",
        "    a = [i for i in range(20)]  # allocate a list\n",
        "    b = [x * 2 for x in a]      # create another list\n",
        "    return b\n",
        "\n",
        "# Use %memit magic to profile memory of the function call\n",
        "%memit small_program()\n"
      ],
      "metadata": {
        "colab": {
          "base_uri": "https://localhost:8080/"
        },
        "id": "emy9Ql7uqQRf",
        "outputId": "d7eef8c2-7c2f-494e-a19f-24b06efd5f34"
      },
      "execution_count": 16,
      "outputs": [
        {
          "output_type": "stream",
          "name": "stdout",
          "text": [
            "peak memory: 119.79 MiB, increment: 0.00 MiB\n"
          ]
        }
      ]
    },
    {
      "cell_type": "markdown",
      "source": [
        "17. Write a Python program to create and write a list of numbers to a file, one number per line."
      ],
      "metadata": {
        "id": "B61S6DwHsdCP"
      }
    },
    {
      "cell_type": "code",
      "source": [
        "list = [1, 2, 3, 4, 5]\n",
        "\n",
        "with open(\"numbers.txt\", \"w\") as file:\n",
        "    for number in list:\n",
        "        file.write(str(number) + \"\\n\")\n",
        "with open(\"numbers.txt\", \"r\") as file:\n",
        "    lines = file.read()\n",
        "    print(lines)"
      ],
      "metadata": {
        "colab": {
          "base_uri": "https://localhost:8080/"
        },
        "id": "WGnu8aTqsjbX",
        "outputId": "7b5e157e-79f7-40f7-d8c9-cb737dc43a70"
      },
      "execution_count": 18,
      "outputs": [
        {
          "output_type": "stream",
          "name": "stdout",
          "text": [
            "1\n",
            "2\n",
            "3\n",
            "4\n",
            "5\n",
            "\n"
          ]
        }
      ]
    },
    {
      "cell_type": "markdown",
      "source": [
        "18. How would you implement a basic logging setup that logs to a file with rotation after 1MB ?"
      ],
      "metadata": {
        "id": "__IOv8nIs3Jn"
      }
    },
    {
      "cell_type": "code",
      "source": [
        "import logging\n",
        "from logging.handlers import RotatingFileHandler\n",
        "\n",
        "# Set up a logger\n",
        "logger = logging.getLogger('example_logger')\n",
        "logger.setLevel(logging.DEBUG)  # Log all levels DEBUG and above\n",
        "\n",
        "# Create a rotating file handler: rotates after the file size reaches 1MB with 3 backups\n",
        "handler = RotatingFileHandler('example.log', maxBytes=1 * 1024 * 1024, backupCount=3)\n",
        "\n",
        "# Define log message format\n",
        "formatter = logging.Formatter('%(asctime)s - %(levelname)s - %(message)s')\n",
        "handler.setFormatter(formatter)\n",
        "\n",
        "# Add handler to the logger\n",
        "logger.addHandler(handler)\n",
        "\n",
        "# Log some example messages\n",
        "logger.debug('Debug message: Starting logging example.')\n",
        "logger.info('Info message: Logging setup completed.')\n",
        "logger.warning('Warning message: This is a warning example.')\n",
        "logger.error('Error message: An error has occurred.')\n",
        "logger.critical('Critical message: Critical issue logged.')\n"
      ],
      "metadata": {
        "colab": {
          "base_uri": "https://localhost:8080/"
        },
        "id": "sqqEi58vtBZf",
        "outputId": "6fc209cb-b2fb-4127-f0c4-5dc3a89a5cf2"
      },
      "execution_count": 19,
      "outputs": [
        {
          "output_type": "stream",
          "name": "stderr",
          "text": [
            "DEBUG:example_logger:Debug message: Starting logging example.\n",
            "INFO:example_logger:Info message: Logging setup completed.\n",
            "WARNING:example_logger:Warning message: This is a warning example.\n",
            "ERROR:example_logger:Error message: An error has occurred.\n",
            "CRITICAL:example_logger:Critical message: Critical issue logged.\n"
          ]
        }
      ]
    },
    {
      "cell_type": "markdown",
      "source": [
        "19. Write a program that handles both IndexError and KeyError using a try-except block."
      ],
      "metadata": {
        "id": "3HnjbHskuedP"
      }
    },
    {
      "cell_type": "code",
      "source": [
        "def errorhandle():\n",
        "  a = input(\"Enter key / positive index :\")\n",
        "  try :\n",
        "    if a.isdigit():\n",
        "      list = [1, 2, 3, 4, 5]\n",
        "      value = list[int(a)]\n",
        "      print(f\"Value at index '{a}' is '{value}' \\n\")\n",
        "\n",
        "    else :\n",
        "      my_dict = {'a': 1, 'b': 2, 'c': 3}\n",
        "      value = my_dict[a]\n",
        "      print(f\"Value of key '{a}' is '{value}' \\n\")\n",
        "\n",
        "  except (KeyError, IndexError) as e:\n",
        "    if isinstance(e, KeyError):\n",
        "      print(\"Error: Key not found in the dictionary.\\n\")\n",
        "    elif isinstance(e, IndexError):\n",
        "     print(\"Error: Index out of range.\\n\")\n",
        "\n",
        "while True :\n",
        "  errorhandle()\n",
        "  set = input(\"press enter to exit / any key to continue : \")\n",
        "  if set == \"\":\n",
        "    break\n",
        "print (\"You exited the program\")\n"
      ],
      "metadata": {
        "colab": {
          "base_uri": "https://localhost:8080/"
        },
        "id": "T-l3bighueKG",
        "outputId": "89f9fef2-2454-4402-83ef-b8009e9d61d5"
      },
      "execution_count": 28,
      "outputs": [
        {
          "output_type": "stream",
          "name": "stdout",
          "text": [
            "Enter key / positive index :3\n",
            "Value at index '3' is '4' \n",
            "\n",
            "press enter to exit / any key to continue : y\n",
            "Enter key / positive index :c\n",
            "Value of key 'c' is '3' \n",
            "\n",
            "press enter to exit / any key to continue : y\n",
            "Enter key / positive index :5\n",
            "Error: Index out of range.\n",
            "\n",
            "press enter to exit / any key to continue : y\n",
            "Enter key / positive index :d\n",
            "Error: Key not found in the dictionary.\n",
            "\n",
            "press enter to exit / any key to continue : \n",
            "You exited the program\n"
          ]
        }
      ]
    },
    {
      "cell_type": "markdown",
      "source": [
        "20. How would you open a file and read its contents using a context manager in Python ?"
      ],
      "metadata": {
        "id": "FD-lfRDs0nNu"
      }
    },
    {
      "cell_type": "code",
      "source": [
        "\"\"\"To open a file and read its contents safely using a context manager in Python, you use the built-in\n",
        " with statement along with the open() function. This ensures the file is automatically closed after the\n",
        "  block ends, even if an error occurs.\"\"\"\n",
        "\n",
        "with open(\"example.txt\", \"r\") as file:\n",
        "    content = file.read()\n",
        "    print(content)"
      ],
      "metadata": {
        "colab": {
          "base_uri": "https://localhost:8080/"
        },
        "id": "bLMR3QgX0r4u",
        "outputId": "fbdfa9ea-8270-44e8-ddb7-b0254e1e9352"
      },
      "execution_count": 29,
      "outputs": [
        {
          "output_type": "stream",
          "name": "stdout",
          "text": [
            "Twinkle twinkle little star.\n",
            "How I wonder what you are.\n",
            "Up above the world so high.\n",
            "Like a diamond in the sky.\n",
            "\n"
          ]
        }
      ]
    },
    {
      "cell_type": "markdown",
      "source": [
        "21. Write a Python program that reads a file and prints the number of occurrences of a specific word."
      ],
      "metadata": {
        "id": "5Ykuh_7v1JqW"
      }
    },
    {
      "cell_type": "code",
      "source": [
        "a = input(\"Enter the word to be searched\")\n",
        "with open(\"example.txt\", \"r\") as file :\n",
        "  content = file.read()\n",
        "  count = content.count(a)\n",
        "  print(f\"The word '{a}' occurs {count} times in the file.\")\n"
      ],
      "metadata": {
        "colab": {
          "base_uri": "https://localhost:8080/"
        },
        "id": "N92KZ5im1OSV",
        "outputId": "c85911c0-75cb-40c1-aa5c-62bf060f2f7e"
      },
      "execution_count": 31,
      "outputs": [
        {
          "output_type": "stream",
          "name": "stdout",
          "text": [
            "Enter the word to be searcheddiamond\n",
            "The word 'diamond' occurs 1 times in the file.\n"
          ]
        }
      ]
    },
    {
      "cell_type": "markdown",
      "source": [
        "22. How can you check if a file is empty before attempting to read its contents ?"
      ],
      "metadata": {
        "id": "Bo7GtOga2AiV"
      }
    },
    {
      "cell_type": "code",
      "source": [
        "import os\n",
        "\n",
        "file_path = 'emptyfile.txt'\n",
        "\n",
        "if os.path.getsize(file_path) == 0:\n",
        "    print(\"The file is empty.\")\n",
        "else:\n",
        "    with open(file_path, 'r') as file:\n",
        "        content = file.read()\n",
        "        print(content)\n"
      ],
      "metadata": {
        "colab": {
          "base_uri": "https://localhost:8080/"
        },
        "id": "OYn3X5gM1_6F",
        "outputId": "cfd1a566-ba5d-4bd7-d6a6-687ff2d35be5"
      },
      "execution_count": 36,
      "outputs": [
        {
          "output_type": "stream",
          "name": "stdout",
          "text": [
            "The file is empty.\n"
          ]
        }
      ]
    },
    {
      "cell_type": "markdown",
      "source": [
        "23. Write a Python program that writes to a log file when an error occurs during file handling."
      ],
      "metadata": {
        "id": "u98MuRzMrYTe"
      }
    },
    {
      "cell_type": "code",
      "source": [
        "import logging\n",
        "\n",
        "# Configure logging to write errors to a file called 'file_errors.log'\n",
        "logging.basicConfig(filename='file_errors.log', level=logging.ERROR,\n",
        "                    format='%(asctime)s - %(levelname)s - %(message)s')\n",
        "\n",
        "def read_file(filename):\n",
        "    try:\n",
        "        with open(filename, 'r') as file:\n",
        "            content = file.read()\n",
        "            print(content)\n",
        "    except Exception as e:\n",
        "        logging.error(f\"Error occurred while handling the file '{filename}': {e}\")\n",
        "        print(f\"An error occurred. Please check 'file_errors.log' for details.\")\n",
        "\n",
        "# Example usage - try reading a file that may not exist\n",
        "read_file('nonexistent.txt')\n"
      ],
      "metadata": {
        "colab": {
          "base_uri": "https://localhost:8080/"
        },
        "id": "0BZE1j0z4kQs",
        "outputId": "ee34fd70-dba4-4619-ddb0-70011afcf90e"
      },
      "execution_count": 40,
      "outputs": [
        {
          "output_type": "stream",
          "name": "stderr",
          "text": [
            "ERROR:root:Error occurred while handling the file 'nonexistent.txt': [Errno 2] No such file or directory: 'nonexistent.txt'\n"
          ]
        },
        {
          "output_type": "stream",
          "name": "stdout",
          "text": [
            "An error occurred. Please check 'file_errors.log' for details.\n"
          ]
        }
      ]
    }
  ]
}