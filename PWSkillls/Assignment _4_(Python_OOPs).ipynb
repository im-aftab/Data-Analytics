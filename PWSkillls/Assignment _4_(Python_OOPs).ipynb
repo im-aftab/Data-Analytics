{
  "nbformat": 4,
  "nbformat_minor": 0,
  "metadata": {
    "colab": {
      "provenance": []
    },
    "kernelspec": {
      "name": "python3",
      "display_name": "Python 3"
    },
    "language_info": {
      "name": "python"
    }
  },
  "cells": [
    {
      "cell_type": "markdown",
      "source": [
        "# PYTHON OOPs QUESTIONS (THEORY)"
      ],
      "metadata": {
        "id": "I34Zzmg326f5"
      }
    },
    {
      "cell_type": "markdown",
      "source": [
        "Q1. What is Object-Oriented Programming (OOP) ?\n",
        "  - Object Oriented Programming is a fundamental concept in Python, empowering developers to build modular, maintainable, and scalable applications.\n",
        "\n",
        "  OOPs is a way of organizing code that uses objects and classes to represent real-world entities and their behavior. In OOPs, object has attributes thing that has specific data and can perform certain actions using methods.\n",
        "\n"
      ],
      "metadata": {
        "id": "GXICoot-3HKw"
      }
    },
    {
      "cell_type": "markdown",
      "source": [
        "Q2. What is a class in OOP ?\n",
        "  - In Object-Oriented Programming (OOP), a **class** is a blueprint or template for creating objects. It defines the structure and behavior that the generated objects (called instances) will have. Specifically, a class bundles together data (called attributes or member variables) and behaviors (methods or member functions) that are common to all objects of a particular type.\n",
        "\n",
        "  Example :\n",
        "```\n",
        "  class Dog:\n",
        "    species = \"Canine\"  # Class attribute\n",
        "\n",
        "    def __init__(self, name, age):\n",
        "\n",
        "        self.name = name  # Instance attribute\n",
        "        self.age = age  # Instance attribute\n",
        "```"
      ],
      "metadata": {
        "id": "C6D_Y-k83wGA"
      }
    },
    {
      "cell_type": "markdown",
      "source": [
        "Q3. What is an object in OOP ?\n",
        "  - An object in OOP is a reusable, self-contained entity that represents real or abstract things within a program. It encapsulates state and behavior, allowing for modular and organized code. Objects interact with one another within a program, making OOP a powerful paradigm for designing complex software systems.\n",
        "\n",
        "  Example:\n",
        "\n",
        "```\n",
        "    class Dog:\n",
        "        species = \"Canine\"  # Class attribute\n",
        "\n",
        "        def __init__(self, name, age):\n",
        "            self.name = name  # Instance attribute\n",
        "            self.age = age  # Instance attribute\n",
        "\n",
        "    # Creating an object of the Dog class\n",
        "    dog1 = Dog(\"Buddy\", 3)\n",
        "\n",
        "    print(dog1.name)\n",
        "    print(dog1.species)\n",
        "\n",
        "```\n",
        "\n"
      ],
      "metadata": {
        "id": "06bgVlVp4Hh4"
      }
    },
    {
      "cell_type": "markdown",
      "source": [
        "Q4.What is the difference between abstraction and encapsulation ?\n",
        "  - **Abstraction** :  \n",
        "    Abstraction is process of hiding the implementation details and showing only the functionality to the users.\n",
        "\n",
        "      - Main feature: reduce complexity, promote maintainability, and also provide clear separation between the interface and its concrete implementation\n",
        "\n",
        "      - In abstraction, problems are solved at the design or interface level.\n",
        "\n",
        "      - We can implement abstraction using abstract class and interfaces.\n",
        "\n",
        "      - In abstraction, implementation complexities are hidden using abstract classes and interfaces.\n",
        "\n",
        "      - The objects that help to perform abstraction are encapsulated.\n",
        "\n",
        "      - Abstraction provides access to specific part of data.\n",
        "\n",
        "      - Abstraction focuses on \"what\" the object does .\n",
        "\n",
        "  - **Encapsulation** :    \n",
        "    Encapsulation is a process of binding data and methods together in a single unit, providing controlled access to data.\n",
        "\n",
        "      - Main feature: data hiding, providing access control and modularity.\n",
        "\n",
        "      - While in encapsulation, problems are solved at the implementation level.\n",
        "\n",
        "      - Whereas encapsulation can be implemented using by access modifier i.e. private, protected and public and nested classes.\n",
        "\n",
        "      - While encapsulation uses private access modifier to hide the data and use getter and setter to provide controlled access to data.\n",
        "\n",
        "      - Whereas the objects that result in encapsulation need not be abstracted\n",
        "\n",
        "      - Encapsulation hides data, preventing the users from directly accessing it, (providing controlled access) which is also known as data hiding.\n",
        "\n",
        "      - Encapsulation focuses on \"How\" the object does it."
      ],
      "metadata": {
        "id": "GgyDWiD36eA4"
      }
    },
    {
      "cell_type": "markdown",
      "source": [
        "Q5. What are dunder methods in Python ?\n",
        "  - Python Magic methods are the methods starting and ending with double underscores '__'. They are defined by built-in classes in Python and commonly used for operator overloading.\n",
        "  They are also called **Dunder methods**, Dunder here means \"Double Under (Underscores)\".\n",
        "\n",
        "  Examples :    \n",
        "    -  __ init__ method\n",
        "    -  __ repr__ method\n",
        "    -  __ add__ method"
      ],
      "metadata": {
        "id": "_4y94Ems8glx"
      }
    },
    {
      "cell_type": "markdown",
      "source": [
        "Q6. Explain the concept of inheritance in OOP.\n",
        "  - Inheritance in object-oriented programming (OOP) is a fundamental concept where a new class (called a subclass, derived class, or child class) is created from an existing class (called a superclass, base class, or parent class). The subclass inherits the properties (attributes) and behaviors (methods) of the parent class, allowing code reuse and the creation of a hierarchical class structure.\n",
        "\n",
        "  This mechanism enables:\n",
        "\n",
        "    - **Code Reusability:** Subclasses automatically acquire features of the parent class without rewriting code.\n",
        "\n",
        "    - **Hierarchy Establishment:** Classes are organized into a hierarchy where more specific classes derive from general ones.\n",
        "\n",
        "    - **Extensibility**: Subclasses can add new features or override existing behaviors inherited from the parent class, customizing or extending functionality."
      ],
      "metadata": {
        "id": "VVjYuDlN9LTA"
      }
    },
    {
      "cell_type": "markdown",
      "source": [
        "Q7. What is polymorphism in OOP ?\n",
        "  - Polymorphism in object-oriented programming (OOP) is the ability of objects to take on multiple forms or to behave differently depending on the context in which they are used. It allows a single interface or method to represent different underlying data types or objects, with each type providing its own implementation of that interface or method.\n",
        "\n",
        "  Key points about polymorphism:\n",
        "    - The term comes from Greek, meaning \"many forms.\"\n",
        "    - It enables one interface to control access to a variety of data types.\n",
        "    - Polymorphism is commonly achieved through inheritance and method overriding, where a child class provides its own version of a method defined in the parent class.\n",
        "    - It allows the same method call to invoke different functions depending on the actual object's class, often determined at runtime.\n",
        "    - Common types include compile-time polymorphism (method overloading) and runtime polymorphism (method overriding)."
      ],
      "metadata": {
        "id": "vNmhl-xu96zg"
      }
    },
    {
      "cell_type": "markdown",
      "source": [
        "Q8. How is encapsulation achieved in Python ?\n",
        "  - Encapsulation in Python is achieved by bundling data (attributes) and methods that operate on the data within a class while restricting direct access to some of the class's components. Though Python does not enforce strict access control like some other languages, it uses conventions and name mangling for encapsulation:\n",
        "\n",
        "  - **Public members**: Variables and methods without any underscores are public and accessible from anywhere.\n",
        "\n",
        "  - **Protected members:** Prefixing a variable or method name with a single underscore (_variable) indicates it is intended for internal use within the class and its subclasses. It is a convention to treat these as non-public.\n",
        "  \n",
        "  - **Private members:** Prefixing with double underscores (__variable) makes the member private through name mangling, meaning it cannot be accessed directly from outside the class. Python internally changes the name to include the class name to prevent accidental access.\n",
        "\n",
        "Encapsulation is typically implemented in Python by:\n",
        "\n",
        "  - Declaring private variables or methods with double underscores to hide them.\n",
        "\n",
        "  - Providing public getter and setter methods to allow controlled access to private data.\n",
        "\n",
        "  - Using protected members with a single underscore as a hint they should not be used outside the class or subclasses.\n",
        "\n",
        "Example :    \n",
        "\n",
        "```\n",
        "    class BankAccount:\n",
        "    def __init__(self):\n",
        "        self.balance = 1000          # Public attribute\n",
        "        self._account_holder = \"Sam\" # Protected attribute\n",
        "        self.__password = \"abc123\"    # Private attribute\n",
        "    \n",
        "    def deposit(self, amount):\n",
        "        if amount > 0:\n",
        "            self.__update_balance(amount) # Access private method internally\n",
        "    \n",
        "    def __update_balance(self, amount):\n",
        "        self.balance += amount           # Private method to update balance\n",
        "    \n",
        "    def get_password(self):\n",
        "        return self.__password           # Public getter for password (if needed)\n",
        "\n",
        "```"
      ],
      "metadata": {
        "id": "ELhzW6Rb-Q9g"
      }
    },
    {
      "cell_type": "markdown",
      "source": [
        "Q9. What is a constructor in Python ?\n",
        "  - A constructor in Python is a special method that is automatically called when an object of a class is created. Its main role is to initialize the newly created object by setting up its attributes or state.\n",
        "\n",
        "  In Python, the constructor method is named __init__(). This method is called immediately after the object is created, and it typically assigns values to instance variables.\n",
        "\n",
        "Example :    \n",
        "\n",
        "```\n",
        "      class Person:\n",
        "        def __init__(self, name, age):\n",
        "            self.name = name  # Initialize instance attribute 'name'\n",
        "            self.age = age    # Initialize instance attribute 'age'\n",
        "\n",
        "      # Creating an object of the class Person triggers the constructor\n",
        "      person1 = Person(\"John\", 30)\n",
        "      print(person1.name)  # Output: John\n",
        "      print(person1.age)   # Output: 30\n",
        "\n",
        "```"
      ],
      "metadata": {
        "id": "I2x5kso5_WWY"
      }
    },
    {
      "cell_type": "markdown",
      "source": [
        "Q10. What are class and static methods in Python ?\n",
        "  - In Python, class methods and static methods are two types of methods used within classes, each serving different purposes and differing in how they operate.\n",
        "\n",
        "  Class Methods\n",
        "    - Defined using the @classmethod decorator.\n",
        "\n",
        "    - The first parameter is cls, which refers to the class itself, not an instance.\n",
        "\n",
        "    - Can access and modify class state (class variables).\n",
        "\n",
        "    - Frequently used to create alternative constructors or methods that affect the class as a whole.\n",
        "\n",
        "    - Called using the class name or an instance.\n",
        "\n",
        "Example:\n",
        "\n",
        "```\n",
        "      class Person:\n",
        "          population = 0\n",
        "\n",
        "          def __init__(self, name):\n",
        "              self.name = name\n",
        "              Person.population += 1\n",
        "\n",
        "          @classmethod\n",
        "          def get_population(cls):\n",
        "              return cls.population\n",
        "\n",
        "      person1 = Person(\"Alice\")\n",
        "      person2 = Person(\"Bob\")\n",
        "      print(Person.get_population())  # Output: 2\n",
        "\n",
        "```\n",
        "\n",
        "\n",
        "  Static Methods\n",
        "   - Defined using the @staticmethod decorator.\n",
        "\n",
        "   - Do not take self or cls as parameters.\n",
        "\n",
        "   - Cannot access or modify instance or class variables directly.\n",
        "\n",
        "   - Used to define utility functions related logically to the class but not dependent on class or instance state.\n",
        "\n",
        "   - Called using the class name or an instance.\n",
        "\n",
        "Example:\n",
        "\n",
        "```\n",
        "   class MathUtils:\n",
        "        @staticmethod\n",
        "        def add(x, y):\n",
        "            return x + y\n",
        "\n",
        "    print(MathUtils.add(5, 3))  # Output: 8\n",
        "   \n",
        "\n",
        "```"
      ],
      "metadata": {
        "id": "12eM7s0GACpg"
      }
    },
    {
      "cell_type": "markdown",
      "source": [
        "Q11. What is method overloading in Python ?\n",
        "  - Method overloading in Python refers to having multiple methods in a class with the same name but different parameters (in number or type). However, Python does not support method overloading in the traditional sense like Java or C++ because if you define multiple methods with the same name, the last definition overwrites the previous ones.\n",
        "\n",
        "  "
      ],
      "metadata": {
        "id": "EOmtGytrBjKJ"
      }
    },
    {
      "cell_type": "markdown",
      "source": [
        "Q12. What is method overriding in OOP ?\n",
        "  - Method overriding in object-oriented programming (OOP) is a feature that allows a subclass (child class) to provide a specific implementation of a method that is already defined in its superclass (parent class). The method in the subclass has the same name, parameters, and return type as the method in the parent class, but it overrides the parent’s version to provide specialized behavior."
      ],
      "metadata": {
        "id": "GOc9mT0nCQUY"
      }
    },
    {
      "cell_type": "markdown",
      "source": [
        "Q13. What is a property decorator in Python ?\n",
        "  - The property decorator in Python, denoted by @property, is a built-in decorator that allows you to define methods in a class that can be accessed like attributes. It is used to create managed attributes, where you can control getting, setting, and deleting an attribute, while using simple attribute access syntax.\n",
        "\n",
        "Example :     \n",
        "\n",
        "```\n",
        "class Person:\n",
        "    def __init__(self, name):\n",
        "        self._name = name  # Private attribute\n",
        "\n",
        "    @property\n",
        "    def name(self):\n",
        "        # Getter method\n",
        "        return self._name\n",
        "\n",
        "    @name.setter\n",
        "    def name(self, value):\n",
        "        # Setter method\n",
        "        if isinstance(value, str):\n",
        "            self._name = value\n",
        "        else:\n",
        "            raise ValueError(\"Name must be a string\")\n",
        "\n",
        "    @name.deleter\n",
        "    def name(self):\n",
        "        # Deleter method\n",
        "        del self._name\n",
        "\n",
        "p = Person(\"Alice\")\n",
        "print(p.name)      # Access like an attribute, calls the getter\n",
        "p.name = \"Bob\"     # Calls the setter\n",
        "del p.name         # Calls the deleter\n",
        "\n",
        "```"
      ],
      "metadata": {
        "id": "sLHzYPWACcOw"
      }
    },
    {
      "cell_type": "markdown",
      "source": [
        "Q14. Why is polymorphism important in OOP ?\n",
        "  - Polymorphism is important in object-oriented programming (OOP) because it enables objects of different classes to be treated as objects of a common superclass, allowing methods to be used interchangeably even if they have different implementations.\n",
        "  \n",
        "  This capability offers several key benefits:\n",
        "\n",
        "    - Flexibility and Extensibility: Polymorphism allows programmers to write code that works on the superclass level and can operate on any subclass object, making it easier to extend and maintain code by adding new subclasses without modifying existing code.\n",
        "\n",
        "    - Code Reusability: Common interfaces or base classes can define general methods, which subclasses can implement in their own way. This enables reusing code that operates on the base class while allowing different behaviors for different subclasses.\n",
        "\n",
        "    - Dynamic Behavior: Polymorphism supports runtime method overriding, enabling different implementations of the same method to be executed depending on the object's actual type at runtime (runtime polymorphism).\n",
        "\n",
        "    - Simplifies Code: It reduces complex conditional statements or type checking in the code because the correct method is automatically called based on the object type.\n",
        "\n",
        "    - Design Benefits: Polymorphism is central to achieving abstraction and encapsulation, helping design systems that are modular and scalable through clear interfaces and interchangeable components."
      ],
      "metadata": {
        "id": "Zw4_bPZrC62A"
      }
    },
    {
      "cell_type": "markdown",
      "source": [
        "Q15. What is an abstract class in Python ?\n",
        "  - In Python, an abstract class is a class that cannot be instantiated on its own and is designed to be a blueprint for other classes. Abstract classes allow us to define methods that must be implemented by subclasses, ensuring a consistent interface while still allowing the subclasses to provide specific implementations.\n",
        "\n",
        "   ABCs allow you to define common interfaces that various subclasses can implement while enforcing a level of abstraction.\n",
        "\n",
        "  Python provides the abc module to define ABCs and enforce the implementation of abstract methods in subclasses.\n",
        "\n",
        "Example :    \n",
        "\n",
        "```\n",
        "from abc import ABC, abstractmethod\n",
        "\n",
        "# Define an abstract class\n",
        "class Animal(ABC):\n",
        "    \n",
        "    @abstractmethod\n",
        "    def sound(self):\n",
        "        pass  # This is an abstract method, no implementation here.\n",
        "\n",
        "# Concrete subclass of Animal\n",
        "class Dog(Animal):\n",
        "    \n",
        "    def sound(self):\n",
        "        return \"Bark\"  # Providing the implementation of the abstract method\n",
        "\n",
        "# Create an instance of Dog\n",
        "dog = Dog()\n",
        "print(dog.sound())  # Output: Bark\n",
        "```"
      ],
      "metadata": {
        "id": "U0xwnZffDSCw"
      }
    },
    {
      "cell_type": "markdown",
      "source": [
        "Q16. What are the advantages of OOP ?\n",
        "  - Advantages of Object-Oriented Programming (OOP)\n",
        "    \n",
        "    Object-Oriented Programming (OOP) provides several key benefits that make it a popular paradigm in software development:\n",
        "\n",
        "      - Modularity\n",
        "        - OOP organizes code into discrete objects, which encapsulate data and behavior. This modular approach supports code clarity, easier debugging, and simpler maintenance.\n",
        "\n",
        "      - Reusability\n",
        "        - Once a class is written, it can be reused in other programs or projects. Inheritance and polymorphism allow for easy extension and specialization of existing functionality, reducing code duplication.\n",
        "\n",
        "      - Encapsulation\n",
        "        - By bundling data and methods that operate on that data within objects, OOP enforces access control and hides internal complexities. This improves data integrity and security, allowing developers to expose only necessary interfaces.\n",
        "\n",
        "      - Maintainability\n",
        "        - Updating or fixing bugs is more manageable since changes are typically isolated within specific objects or classes. This localized modification minimizes risk to other parts of the codebase.\n",
        "\n",
        "      - Scalability and Flexibility\n",
        "        - OOP's approach to organizing software allows for larger, more complex programs to be built incrementally. The use of objects makes it easier to introduce new features and adapt to changing requirements.\n",
        "\n",
        "      - Polymorphism\n",
        "        - Objects can be treated interchangeably through common interfaces, enabling flexible code that works with different types of objects without needing to know their concrete classes.\n",
        "\n",
        "      - Code Reusability through Inheritance\n",
        "        - Classes can inherit traits from other classes, allowing fundamental attributes and behaviors to be defined once and shared among many derived classes.\n",
        "\n",
        "      - Design Patterns and Best Practices\n",
        "        - OOP encourages the use of well-known design patterns, improving software architecture, code readability, and developer collaboration."
      ],
      "metadata": {
        "id": "MV41veR_ELYh"
      }
    },
    {
      "cell_type": "markdown",
      "source": [
        "Q17. What is the difference between a class variable and an instance variable ?\n",
        "  - The primary difference between a class variable and an instance variable lies in their scope, storage, and how they are accessed and shared.\n",
        "    - Class Variable:\n",
        "      - Definition:\n",
        "        - A class variable (also known as a static variable in some languages like Java) is declared within the class but outside of any instance methods or constructors. It is associated with the class itself, not with any specific instance of the class.\n",
        "      - Storage:\n",
        "        - There is only one copy of a class variable, regardless of how many objects (instances) are created from the class. This single copy is shared by all instances of that class.\n",
        "      - Access:\n",
        "        - Class variables are typically accessed using the class name, e.g., ClassName.variable_name.\n",
        "      - Use Cases:\n",
        "        - Suitable for storing data that is common to all instances of a class, such as constants, counters, or shared configurations.\n",
        "    - Instance Variable:\n",
        "      - Definition:\n",
        "        - An instance variable is declared within a class and is typically initialized within an instance method (like the __init__ method in Python or a constructor in other languages). It is associated with a specific instance (object) of the class.\n",
        "      - Storage:\n",
        "        - Each instance of the class gets its own independent copy of the instance variables. Changes to an instance variable in one object do not affect the same variable in other objects.\n",
        "      - Access:\n",
        "        - Instance variables are accessed through an instance of the class, e.g., object_name.variable_name.\n",
        "      - Use Cases:\n",
        "        - Suitable for storing data that is unique to each individual object, representing the specific state or attributes of that object."
      ],
      "metadata": {
        "id": "f0FImK0TAco2"
      }
    },
    {
      "cell_type": "markdown",
      "source": [
        "Q18. What is multiple inheritance in Python ?\n",
        "  - Multiple inheritance in Python is a feature that allows a class (known as the child or derived class) to inherit attributes and methods from more than one parent (or base) class. This enables the child class to combine and utilize the functionalities of several parent classes within a single class definition.\n",
        "\n",
        "Example :    \n",
        "\n",
        "```\n",
        "  class Parent1:\n",
        "    pass\n",
        "\n",
        "  class Parent2:\n",
        "    pass\n",
        "\n",
        "  class Child(Parent1, Parent2):\n",
        "    pass\n",
        "\n",
        "```\n",
        "Here, the Child class inherits from both Parent1 and Parent2, and thus has access to all their attributes and methods"
      ],
      "metadata": {
        "id": "vFEn0BxFBEvm"
      }
    },
    {
      "cell_type": "markdown",
      "source": [
        "Q19. Explain the purpose of ‘__ str__’ and ‘__ repr__’  methods in Python.\n",
        "  - Both __ str__ and __ repr__ are special (dunder) methods in Python used to define how objects of a class are represented as strings, but they serve different purposes:\n",
        "\n",
        "    __ str__\n",
        "      - Audience: End-users.\n",
        "\n",
        "      - Purpose: Returns a human-readable or \"informal\" string representation of an object.\n",
        "\n",
        "      - Usage: Called by the built-in str() function and by print(). Intended for display, logging, or anything meant to be easily read and understood by people.\n",
        "\n",
        "      - Example: For a date object, __ str__ might return '2025-08-21 19:58:00'.\n",
        "\n",
        "      - Fallback: If __ str__ is not defined, Python uses __repr__ instead.\n",
        "\n",
        "    __ repr__\n",
        "      - Audience: Developers.\n",
        "\n",
        "      - Purpose: Returns an \"official\", detailed, and unambiguous string representation of an object that is meant for debugging and development. Ideally, this string could be used to re-create the object (with eval()).\n",
        "\n",
        "      - Usage: Called by the built-in repr() function and shown by interactive shells.\n",
        "\n",
        "      - Example: For a date object, __ repr__ might return 'datetime.datetime(2025, 8, 21, 19, 58, 0)'."
      ],
      "metadata": {
        "id": "ddoN1SReBmme"
      }
    },
    {
      "cell_type": "markdown",
      "source": [
        "Q20. What is the significance of the ‘super()’ function in Python ?\n",
        "  - The super() function is a built-in Python utility used primarily in classes that inherit from other classes (i.e., in inheritance scenarios).\n",
        "  \n",
        "  Its main purpose is:\n",
        "\n",
        "    - To Access Parent Class Methods and Properties\n",
        "      - super() allows you to call methods and access properties from a parent (or superclass) directly from within a child (subclass), which helps extend or customize inherited behavior without referring to the parent class by name.\n",
        "\n",
        "    - Simplifies Maintenance\n",
        "      - Because you don’t reference the parent class name directly, refactoring becomes easier. If the base class name changes, the code still works without modification.\n",
        "\n",
        "    - Supports Multiple and Cooperative Inheritance\n",
        "      - In cases of multiple inheritance (when a class inherits from more than one parent), super() helps manage the method resolution order (MRO) properly, ensuring that the correct method from the right class is called in complex hierarchies\n",
        "\n",
        "Example :    \n",
        "\n",
        "```\n",
        "class Parent:\n",
        "    def hello(self):\n",
        "        print(\"Hello from Parent!\")\n",
        "\n",
        "class Child(Parent):\n",
        "    def hello(self):\n",
        "        super().hello()\n",
        "        print(\"Hello from Child!\")\n",
        "\n",
        "c = Child()\n",
        "c.hello()\n",
        "# Output:\n",
        "# Hello from Parent!\n",
        "# Hello from Child!\n",
        "```"
      ],
      "metadata": {
        "id": "uN5BS5lqCqC_"
      }
    },
    {
      "cell_type": "markdown",
      "source": [
        "Q21. What is the significance of the __del__ method in Python ?\n",
        "  - The __del__ method in Python is a special (\"dunder\" or \"magic\") method, often referred to as the destructor. Its main purpose is:\n",
        "\n",
        "    - Resource Cleanup Before Object Destruction\n",
        "      - The __del__ method is called automatically when an object is about to be destroyed—typically when its reference count drops to zero and Python's garbage collector deallocates its memory. This lets you specify actions to perform when an object is deleted, such as releasing external resources (files, database connections, network sockets).\n",
        "\n",
        "    - Automatic Management of External Resources\n",
        "      - It is commonly used for tasks like closing open files, deleting temporary files, or freeing up other resources associated with the object before it's removed from memory.    -"
      ],
      "metadata": {
        "id": "eTjglTYcDb7I"
      }
    },
    {
      "cell_type": "markdown",
      "source": [
        "Q22. What is the difference between @staticmethod and @classmethod in Python ?\n",
        "  - The key difference between @staticmethod and @classmethod in Python lies in their access to the class and its instances:\n",
        "    - @classmethod:\n",
        "      - Takes the class itself (cls) as its first argument, conventionally named cls.\n",
        "      - Can access and modify class-level attributes and call other class methods.\n",
        "      - Is commonly used for factory methods (creating instances of the class in      - various ways) or methods that operate on class-level data.\n",
        "    - @staticmethod:\n",
        "      - Does not receive any implicit first argument (neither self nor cls).\n",
        "      - Cannot access or modify class-level attributes or instance attributes directly.\n",
        "      - Behaves like a regular function that happens to be defined within a class's namespace.\n",
        "      - Is typically used for utility functions that logically belong to the class but do not require access to the class's state or instance data."
      ],
      "metadata": {
        "id": "cgYH8ai0DrLm"
      }
    },
    {
      "cell_type": "markdown",
      "source": [
        "Q23. How does polymorphism work in Python with inheritance ?\n",
        "  - Polymorphism in Python, when combined with inheritance, primarily manifests through method overriding. This allows subclasses to provide their own specific implementation of methods that are already defined in their parent class.\n",
        "    - Here's how it works:\n",
        "      - Inheritance:\n",
        "        - A child class inherits methods and attributes from its parent class. This means the child class initially possesses the same methods as the parent.\n",
        "      - Method Overriding:\n",
        "        - If a child class needs to behave differently for a particular method inherited from the parent, it can redefine that method with the same name. This redefinition in the child class \"overrides\" the parent's implementation for objects of the child class.\n",
        "      - Polymorphic Behavior:\n",
        "        - When you call this overridden method on an object, Python determines which version of the method to execute based on the actual type of the object, not just its declared type (if applicable). This means you can have a collection of objects of different, but related, types (e.g., a list of Animal objects where some are Dog and some are Cat), and call the same method (e.g., make_sound()) on all of them. Each object will then execute its own specific implementation of make_sound().\n",
        "\n",
        "Example :     \n",
        "```\n",
        "class Animal:\n",
        "    def make_sound(self):\n",
        "        print(\"Generic animal sound\")\n",
        "\n",
        "class Dog(Animal):\n",
        "    def make_sound(self):\n",
        "        print(\"Woof!\")\n",
        "\n",
        "class Cat(Animal):\n",
        "    def make_sound(self):\n",
        "        print(\"Meow!\")\n",
        "\n",
        "# Demonstrate polymorphism\n",
        "animals = [Animal(), Dog(), Cat()]\n",
        "\n",
        "for animal in animals:\n",
        "    animal.make_sound()\n",
        "```"
      ],
      "metadata": {
        "id": "_W_jwrIGEJNU"
      }
    },
    {
      "cell_type": "markdown",
      "source": [
        "Q24.  What is method chaining in Python OOP ?\n",
        "  - Method chaining in Python object-oriented programming is a technique that allows you to call multiple methods sequentially on the same object in a single line of code. Each method returns the object itself (usually self), enabling the next method call to operate on the same object without breaking the chain.\n",
        "\n",
        "Example :     \n",
        "\n",
        "```\n",
        "class Sample:\n",
        "    def method1(self):\n",
        "        print(\"Method 1 executed\")\n",
        "        return self\n",
        "\n",
        "    def method2(self):\n",
        "        print(\"Method 2 executed\")\n",
        "        return self\n",
        "\n",
        "    def method3(self):\n",
        "        print(\"Method 3 executed\")\n",
        "        return self\n",
        "\n",
        "obj = Sample()\n",
        "obj.method1().method2().method3()\n",
        "\n",
        "```"
      ],
      "metadata": {
        "id": "_DC759wFFB-Q"
      }
    },
    {
      "cell_type": "markdown",
      "source": [
        "Q25. What is the purpose of the __ call__ method in Python ?\n",
        "  - The __ call__ method in Python is a special method that enables instances of a class to be called like functions. When you define a __ call__ method inside a class, you can use an object of that class with parentheses (), just like calling a regular function. This makes the object \"callable\" and adds flexibility in how objects are used.\n",
        "\n",
        "    - Purpose and Significance:\n",
        "      - Make instances behave like functions: You can call an instance directly, and Python will invoke the __ call__ method internally.\n",
        "\n",
        "      - Encapsulate functionality: Allows organizing logic inside objects that can be called with arguments, supporting clean and reusable code.\n",
        "\n",
        "      - Useful for decorators, function objects, and reusable components: You can use __ call__ to create objects that behave as parameterized functions or handlers.\n",
        "\n",
        "      - Supports flexible APIs: Objects with __ call__ can maintain state and still be invoked like simple functions."
      ],
      "metadata": {
        "id": "ukuFAcRBFhVV"
      }
    },
    {
      "cell_type": "markdown",
      "source": [
        "# PRACTICAL QUESTIONS"
      ],
      "metadata": {
        "id": "gZShpPmcGKuB"
      }
    },
    {
      "cell_type": "markdown",
      "source": [
        "1. Create a parent class Animal with a method speak() that prints a generic message. Create a child class Dog\n",
        "that overrides the speak() method to print \"Bark!\"."
      ],
      "metadata": {
        "id": "KEBGNiARGQzz"
      }
    },
    {
      "cell_type": "code",
      "source": [
        "class Animal:\n",
        "    def speak(self):\n",
        "        print(\"Generic animal sound\")\n",
        "\n",
        "class Dog(Animal):\n",
        "    def speak(self):\n",
        "        print(\"Bark!\")\n",
        "\n",
        "dog = Dog()\n",
        "dog.speak()"
      ],
      "metadata": {
        "colab": {
          "base_uri": "https://localhost:8080/"
        },
        "id": "FkjHAuD_Gkk-",
        "outputId": "f5a432f8-67d0-42a0-e629-f2a69a7f60cc"
      },
      "execution_count": 1,
      "outputs": [
        {
          "output_type": "stream",
          "name": "stdout",
          "text": [
            "Bark!\n"
          ]
        }
      ]
    },
    {
      "cell_type": "markdown",
      "source": [
        "2. Write a program to create an abstract class Shape with a method area(). Derive classes Circle and Rectangle from it and implement the area() method in both."
      ],
      "metadata": {
        "id": "qPlKnNxqG7oU"
      }
    },
    {
      "cell_type": "code",
      "source": [
        "from abc import ABC, abstractmethod\n",
        "\n",
        "class Shape(ABC):\n",
        "    @abstractmethod\n",
        "    def area(self):\n",
        "        pass\n",
        "class Circle(Shape):\n",
        "    def __init__(self, radius):\n",
        "        self.radius = radius\n",
        "    def area(self):\n",
        "        return 3.14 * self.radius * self.radius\n",
        "class Rectangle(Shape):\n",
        "    def __init__(self, length, width):\n",
        "        self.length = length\n",
        "        self.width = width\n",
        "    def area(self):\n",
        "        return self.length * self.width\n",
        "circle = Circle(5)\n",
        "rectangle = Rectangle(4, 6)\n",
        "print(circle.area())\n",
        "print(rectangle.area())\n"
      ],
      "metadata": {
        "colab": {
          "base_uri": "https://localhost:8080/"
        },
        "id": "-Y50HwtkG_l7",
        "outputId": "4770f81c-78ce-40a1-d2a5-73b1350198a6"
      },
      "execution_count": 2,
      "outputs": [
        {
          "output_type": "stream",
          "name": "stdout",
          "text": [
            "78.5\n",
            "24\n"
          ]
        }
      ]
    },
    {
      "cell_type": "markdown",
      "source": [
        "3. Implement a multi-level inheritance scenario where a class Vehicle has an attribute type. Derive a class Car and further derive a class ElectricCar that adds a battery attribute."
      ],
      "metadata": {
        "id": "Sfhh9IAVHv97"
      }
    },
    {
      "cell_type": "code",
      "source": [
        "class Vehicle:\n",
        "    def __init__(self, type):\n",
        "        self.type = type\n",
        "class car(Vehicle):\n",
        "    def __init__(self, type, model):\n",
        "        super().__init__(type)\n",
        "        self.model = model\n",
        "class ElectricCar(car):\n",
        "    def __init__(self, type, model, battery):\n",
        "        super().__init__(type, model)\n",
        "        self.battery = battery\n",
        "\n",
        "electric_car = ElectricCar(\"Electric\", \"Model S\", \"Li-ion\")\n",
        "print(electric_car.type)\n",
        "print(electric_car.model)\n",
        "print(electric_car.battery)"
      ],
      "metadata": {
        "colab": {
          "base_uri": "https://localhost:8080/"
        },
        "id": "4mGH_OdBH3-1",
        "outputId": "af91bd68-ca9a-47d7-e762-e7d2182e0423"
      },
      "execution_count": 3,
      "outputs": [
        {
          "output_type": "stream",
          "name": "stdout",
          "text": [
            "Electric\n",
            "Model S\n",
            "Li-ion\n"
          ]
        }
      ]
    },
    {
      "cell_type": "markdown",
      "source": [
        "4. Demonstrate polymorphism by creating a base class Bird with a method fly(). Create two derived classes Sparrow and Penguin that override the fly() method.\n"
      ],
      "metadata": {
        "id": "sWMJE6PKINmQ"
      }
    },
    {
      "cell_type": "code",
      "source": [
        "class bird:\n",
        "    def fly(self):\n",
        "        pass\n",
        "class sparrow(bird):\n",
        "    def fly(self):\n",
        "        print(\"Sparrow flying\")\n",
        "class penguin(bird):\n",
        "    def fly(self):\n",
        "        print(\"Penguin cannot fly\")\n",
        "\n",
        "sparrow = sparrow()\n",
        "penguin = penguin()\n",
        "sparrow.fly()\n",
        "penguin.fly()"
      ],
      "metadata": {
        "colab": {
          "base_uri": "https://localhost:8080/"
        },
        "id": "NO7k15ErIQVW",
        "outputId": "0712b0e9-4634-4c9b-896a-2c9d52c00ba7"
      },
      "execution_count": 5,
      "outputs": [
        {
          "output_type": "stream",
          "name": "stdout",
          "text": [
            "Sparrow flying\n",
            "Penguin cannot fly\n"
          ]
        }
      ]
    },
    {
      "cell_type": "markdown",
      "source": [
        "5. Write a program to demonstrate encapsulation by creating a class BankAccount with private attributes balance and methods to deposit, withdraw, and check balance"
      ],
      "metadata": {
        "id": "yieY3XeDIiS8"
      }
    },
    {
      "cell_type": "code",
      "source": [
        "class bankaccount:\n",
        "    def __init__(self, balance):\n",
        "        self.__balance = balance\n",
        "        print(\"Available balance : \",self.__balance)\n",
        "    def deposit(self, amount):\n",
        "        self.__balance += amount\n",
        "        print(\"Available balance : \",self.__balance)\n",
        "    def withdraw(self, amount):\n",
        "        if amount <= self.__balance:\n",
        "            self.__balance -= amount\n",
        "            print(\"Available balance : \",self.__balance)\n",
        "        else:\n",
        "            print(\"Insufficient balance\")\n",
        "\n",
        "\n",
        "myaccount = bankaccount(1000)\n",
        "myaccount.deposit(500)\n",
        "myaccount.withdraw(200)\n",
        "myaccount.withdraw(1500)"
      ],
      "metadata": {
        "colab": {
          "base_uri": "https://localhost:8080/"
        },
        "id": "yLXuz_ZIIrnD",
        "outputId": "f097c64c-7c0b-4b37-f9e6-40a188e7934d"
      },
      "execution_count": 10,
      "outputs": [
        {
          "output_type": "stream",
          "name": "stdout",
          "text": [
            "Available balance :  1000\n",
            "Available balance :  1500\n",
            "Available balance :  1300\n",
            "Insufficient balance\n"
          ]
        }
      ]
    },
    {
      "cell_type": "markdown",
      "source": [
        "6. Demonstrate runtime polymorphism using a method play() in a base class Instrument. Derive classes Guitar and Piano that implement their own version of play()."
      ],
      "metadata": {
        "id": "_Aj4waABKOf9"
      }
    },
    {
      "cell_type": "code",
      "source": [
        "class Instrument:\n",
        "    def play(self):\n",
        "        pass\n",
        "class Guitar(Instrument):\n",
        "    def play(self):\n",
        "        print(\"Guitar is playing\")\n",
        "class Piano(Instrument):\n",
        "    def play(self):\n",
        "        print(\"Piano is playing\")\n",
        "\n",
        "\n",
        "guitar=Guitar()\n",
        "piano=Piano()\n",
        "guitar.play()\n",
        "piano.play()"
      ],
      "metadata": {
        "colab": {
          "base_uri": "https://localhost:8080/"
        },
        "id": "TLpH09XXKSk8",
        "outputId": "57807f82-0283-4cc1-9c7a-719de5b435a4"
      },
      "execution_count": 12,
      "outputs": [
        {
          "output_type": "stream",
          "name": "stdout",
          "text": [
            "Guitar is playing\n",
            "Piano is playing\n"
          ]
        }
      ]
    },
    {
      "cell_type": "markdown",
      "source": [
        "7. Create a class MathOperations with a class method add_numbers() to add two numbers and a static method subtract_numbers() to subtract two numbers."
      ],
      "metadata": {
        "id": "WqiL3fZBKkbT"
      }
    },
    {
      "cell_type": "code",
      "source": [
        "class mathoperations:\n",
        "    @classmethod\n",
        "    def add_numbers(cls, a, b):\n",
        "        return a + b\n",
        "    @staticmethod\n",
        "    def subtract_numbers(a, b):\n",
        "        return a - b\n",
        "print(mathoperations.add_numbers(5, 3))\n",
        "print(mathoperations.subtract_numbers(10, 4))"
      ],
      "metadata": {
        "colab": {
          "base_uri": "https://localhost:8080/"
        },
        "id": "X_ZyoF53Kq87",
        "outputId": "592e5c2e-84d4-477d-d1b1-c9a44d8facee"
      },
      "execution_count": 13,
      "outputs": [
        {
          "output_type": "stream",
          "name": "stdout",
          "text": [
            "8\n",
            "6\n"
          ]
        }
      ]
    },
    {
      "cell_type": "markdown",
      "source": [
        "8. Implement a class Person with a class method to count the total number of persons created."
      ],
      "metadata": {
        "id": "Hbr6vBYbLkVK"
      }
    },
    {
      "cell_type": "code",
      "source": [
        "class Person:\n",
        "    count = 0\n",
        "    def __init__(self, name):\n",
        "        self.name = name\n",
        "        Person.count += 1\n",
        "    @classmethod\n",
        "    def get_count(cls):\n",
        "        return cls.count\n",
        "\n",
        "person1 = Person(\"Ajay\")\n",
        "print(Person.get_count(), end=\" \")\n",
        "print(person1.name)\n",
        "\n",
        "person2 = Person(\"Bijay\")\n",
        "print(Person.get_count(), end=\" \")\n",
        "print(person2.name)\n",
        "\n",
        "person3 = Person(\"Sanjay\")\n",
        "print(Person.get_count(), end=\" \")\n",
        "print(person3.name)\n",
        "\n",
        "\n"
      ],
      "metadata": {
        "colab": {
          "base_uri": "https://localhost:8080/"
        },
        "id": "TjQVvER-Lm8D",
        "outputId": "433e9863-c20d-4d0c-f7b3-c42ddcbcfef0"
      },
      "execution_count": 17,
      "outputs": [
        {
          "output_type": "stream",
          "name": "stdout",
          "text": [
            "1 Ajay\n",
            "2 Bijay\n",
            "3 Sanjay\n"
          ]
        }
      ]
    },
    {
      "cell_type": "markdown",
      "source": [
        "9. Write a class Fraction with attributes numerator and denominator. Override the str method to display the fraction as \"numerator/denominator\"."
      ],
      "metadata": {
        "id": "y7ptr6qKMuLG"
      }
    },
    {
      "cell_type": "code",
      "source": [
        "class Fraction:\n",
        "    def __init__(self, numerator, denominator):\n",
        "        self.numerator = numerator\n",
        "        self.denominator = denominator\n",
        "    def __str__(self):\n",
        "        return f\"{self.numerator}/{self.denominator}\"\n",
        "\n",
        "num = Fraction(3, 4)\n",
        "print(num)"
      ],
      "metadata": {
        "colab": {
          "base_uri": "https://localhost:8080/"
        },
        "id": "1SY1DIw4MtaA",
        "outputId": "73614d28-7ccf-48c5-eb64-3fb2b2f9d9a2"
      },
      "execution_count": 18,
      "outputs": [
        {
          "output_type": "stream",
          "name": "stdout",
          "text": [
            "3/4\n"
          ]
        }
      ]
    },
    {
      "cell_type": "markdown",
      "source": [
        "10. Demonstrate operator overloading by creating a class Vector and overriding the add method to add two vectors."
      ],
      "metadata": {
        "id": "WGOYetxvNF_e"
      }
    },
    {
      "cell_type": "code",
      "source": [
        "class Vector:\n",
        "    def __init__(self, x, y):\n",
        "        self.x = x\n",
        "        self.y = y\n",
        "\n",
        "    # Overriding the + operator to add two Vector objects\n",
        "    def __add__(self, other):\n",
        "        if isinstance(other, Vector):\n",
        "            return Vector(self.x + other.x, self.y + other.y)\n",
        "        return NotImplemented\n",
        "    def __repr__(self):\n",
        "        return f\"Vector({self.x}, {self.y})\"\n",
        "v1 = Vector(2, 3)\n",
        "v2 = Vector(4, 5)\n",
        "v3 = v1 + v2\n",
        "print(v3)"
      ],
      "metadata": {
        "colab": {
          "base_uri": "https://localhost:8080/"
        },
        "id": "fS5AvlwiNKkd",
        "outputId": "a692b234-0b39-4496-b9a0-d8996fbc9471"
      },
      "execution_count": 37,
      "outputs": [
        {
          "output_type": "stream",
          "name": "stdout",
          "text": [
            "Vector(6, 8)\n"
          ]
        }
      ]
    },
    {
      "cell_type": "markdown",
      "source": [
        "11. Create a class Person with attributes name and age. Add a method greet() that prints \"Hello, my name is {name} and I am {age} years old.\"\n"
      ],
      "metadata": {
        "id": "MUiL18NkP9Jp"
      }
    },
    {
      "cell_type": "code",
      "source": [
        "class Person:\n",
        "  def __init__(self,name,age):\n",
        "    self.name=name\n",
        "    self.age=age\n",
        "  def greet(self):\n",
        "    print(f\"Hello, my name is {self.name} and I am {self.age} years old.\")\n",
        "\n",
        "person=Person(\"Ajay\",20)\n",
        "person.greet()"
      ],
      "metadata": {
        "colab": {
          "base_uri": "https://localhost:8080/"
        },
        "id": "lJLLO6BOQDLB",
        "outputId": "be2f7762-3824-4c8c-9508-e61673ed259d"
      },
      "execution_count": 39,
      "outputs": [
        {
          "output_type": "stream",
          "name": "stdout",
          "text": [
            "Hello, my name is Ajay and I am 20 years old.\n"
          ]
        }
      ]
    },
    {
      "cell_type": "markdown",
      "source": [
        "12. Implement a class Student with attributes name and grades. Create a method average_grade() to compute the average of the grades."
      ],
      "metadata": {
        "id": "szUjwNTkQYSb"
      }
    },
    {
      "cell_type": "code",
      "source": [
        "class Student:\n",
        "    def __init__(self, name, grades):\n",
        "        self.name = name\n",
        "        self.grades = grades\n",
        "    def average_grade(self):\n",
        "        return sum(self.grades) / len(self.grades)\n",
        "s1 = Student(\"Ajay\", [85, 90, 78, 92])\n",
        "print(f\"Average Grade of {s1.name} is {s1.average_grade()}\")\n"
      ],
      "metadata": {
        "colab": {
          "base_uri": "https://localhost:8080/"
        },
        "id": "rGSao9d4Qdx8",
        "outputId": "708f2406-e39a-4474-b65c-74eb4418430e"
      },
      "execution_count": 42,
      "outputs": [
        {
          "output_type": "stream",
          "name": "stdout",
          "text": [
            "Average Grade of Ajay is 86.25\n"
          ]
        }
      ]
    },
    {
      "cell_type": "markdown",
      "source": [
        "13. Create a class Rectangle with methods set_dimensions() to set the dimensions and area() to calculate the area."
      ],
      "metadata": {
        "id": "Ok7IExIJRJ-z"
      }
    },
    {
      "cell_type": "code",
      "source": [
        "class Rectangle:\n",
        "    def __init__(self, length, width):\n",
        "        self.length = length\n",
        "        self.width = width\n",
        "    def set_dimensions(self, length, width):\n",
        "        self.length = length\n",
        "        self.width = width\n",
        "    def area(self):\n",
        "        return self.length * self.width\n",
        "\n",
        "rectangle = Rectangle(4, 6)\n",
        "print(f\"Area of rectangle {rectangle.area()} sq. unit\")\n",
        "rectangle.set_dimensions(5, 7)\n",
        "print(f\"Area of rectangle {rectangle.area()} sq. unit\")\n"
      ],
      "metadata": {
        "colab": {
          "base_uri": "https://localhost:8080/"
        },
        "id": "n8cFAs4iROoQ",
        "outputId": "a244a267-a21c-445b-e9b5-bd3adff5e540"
      },
      "execution_count": 44,
      "outputs": [
        {
          "output_type": "stream",
          "name": "stdout",
          "text": [
            "Area of rectangle 24 sq. unit\n",
            "Area of rectangle 35 sq. unit\n"
          ]
        }
      ]
    },
    {
      "cell_type": "markdown",
      "source": [
        "14. Create a class Employee with a method calculate_salary() that computes the salary based on hours worked and hourly rate. Create a derived class Manager that adds a bonus to the salary."
      ],
      "metadata": {
        "id": "PK1AnpHBSPXp"
      }
    },
    {
      "cell_type": "code",
      "source": [
        "class Employee:\n",
        "    def __init__(self, name, hours_worked, hourly_rate):\n",
        "        self.name = name\n",
        "        self.hours_worked = hours_worked\n",
        "        self.hourly_rate = hourly_rate\n",
        "    def calculate_salary(self):\n",
        "        return self.hours_worked * self.hourly_rate\n",
        "\n",
        "class Manager(Employee) :\n",
        "    def __init__(self, name, hours_worked, hourly_rate, bonus):\n",
        "        super().__init__(name, hours_worked, hourly_rate)\n",
        "        self.bonus = bonus\n",
        "    def calculate_salary(self):\n",
        "        return super().calculate_salary() + self.bonus\n",
        "\n",
        "emp = Manager(\"Ajay\", 40, 50, 1000)\n",
        "print(f\"{emp.name}'s salary: ${emp.calculate_salary()}\")\n"
      ],
      "metadata": {
        "colab": {
          "base_uri": "https://localhost:8080/"
        },
        "id": "J_J0n7N4R-Yc",
        "outputId": "4941c202-5bb7-40bc-9ad6-4c165aa99c03"
      },
      "execution_count": 54,
      "outputs": [
        {
          "output_type": "stream",
          "name": "stdout",
          "text": [
            "Ajay's salary: $3000\n"
          ]
        }
      ]
    },
    {
      "cell_type": "markdown",
      "source": [
        "15. Create a class Product with attributes name, price, and quantity. Implement a method total_price() that calculates the total price of the product."
      ],
      "metadata": {
        "id": "arkmyW15UX0a"
      }
    },
    {
      "cell_type": "code",
      "source": [
        "class Product :\n",
        "  def __init__(self,name,price,quantity):\n",
        "    self.name=name\n",
        "    self.price=price\n",
        "    self.quantity=quantity\n",
        "  def total_price(self):\n",
        "    return self.price*self.quantity\n",
        "\n",
        "p1 = Product(\"Pasta\", 85, 5)\n",
        "print(f\"Total price of {p1.name} is ${p1.total_price()}\")"
      ],
      "metadata": {
        "colab": {
          "base_uri": "https://localhost:8080/"
        },
        "id": "w1w4OQe9Ucc3",
        "outputId": "75112d82-eeca-4a2e-fb32-798b0f24f1a2"
      },
      "execution_count": 55,
      "outputs": [
        {
          "output_type": "stream",
          "name": "stdout",
          "text": [
            "Total price of Pasta is $425\n"
          ]
        }
      ]
    },
    {
      "cell_type": "markdown",
      "source": [
        "16. Create a class Animal with an abstract method sound(). Create two derived classes Cow and Sheep that implement the sound() method."
      ],
      "metadata": {
        "id": "KJOrSC9NU22y"
      }
    },
    {
      "cell_type": "code",
      "source": [
        "from abc import ABC, abstractmethod\n",
        "class Animal(ABC):\n",
        "    @abstractmethod\n",
        "    def sound(self):\n",
        "        pass\n",
        "class Cow(Animal):\n",
        "    def sound(self):\n",
        "        print(\"Moo!\")\n",
        "class Sheep(Animal):\n",
        "    def sound(self):\n",
        "        print(\"Baa!\")\n",
        "\n",
        "cow = Cow()\n",
        "cow.sound()\n",
        "sheep = Sheep()\n",
        "sheep.sound()"
      ],
      "metadata": {
        "colab": {
          "base_uri": "https://localhost:8080/"
        },
        "id": "4fEriTgIU5fl",
        "outputId": "88c93f53-6046-4480-adfb-b7a51ae1b99a"
      },
      "execution_count": 56,
      "outputs": [
        {
          "output_type": "stream",
          "name": "stdout",
          "text": [
            "Moo!\n",
            "Baa!\n"
          ]
        }
      ]
    },
    {
      "cell_type": "markdown",
      "source": [
        "17. Create a class Book with attributes title, author, and year_published. Add a method get_book_info() that returns a formatted string with the book's details."
      ],
      "metadata": {
        "id": "Lt66FzoVVc59"
      }
    },
    {
      "cell_type": "code",
      "source": [
        "class Book :\n",
        "  def __init__(self,title,author,year_published):\n",
        "    self.title=title\n",
        "    self.author=author\n",
        "    self.year_published=year_published\n",
        "\n",
        "  def get_book_info(self):\n",
        "    return f\"Title : {self.title}\\nAuthor : {self.author}\\nYear Published : {self.year_published}\"\n",
        "\n",
        "b1 = Book(\"The Alchemist\", \"Paulo Coelho\", 1988)\n",
        "print(b1.get_book_info())\n",
        "\n",
        "print()\n",
        "\n",
        "b2 = Book(\"The Da Vinci Code\", \"Dan Brown\", 2003)\n",
        "print(b2.get_book_info())"
      ],
      "metadata": {
        "colab": {
          "base_uri": "https://localhost:8080/"
        },
        "id": "93Qzi3lfVcgm",
        "outputId": "2258304f-ee33-4af8-eee0-83f46486fe73"
      },
      "execution_count": 58,
      "outputs": [
        {
          "output_type": "stream",
          "name": "stdout",
          "text": [
            "Title : The Alchemist\n",
            "Author : Paulo Coelho\n",
            "Year Published : 1988\n",
            "\n",
            "Title : The Da Vinci Code\n",
            "Author : Dan Brown\n",
            "Year Published : 2003\n"
          ]
        }
      ]
    },
    {
      "cell_type": "markdown",
      "source": [
        "18. Create a class House with attributes address and price. Create a derived class Mansion that adds an\n",
        "attribute number_of_rooms."
      ],
      "metadata": {
        "id": "41hO4B-YWB81"
      }
    },
    {
      "cell_type": "code",
      "source": [
        "class House:\n",
        "    def __init__(self, address, price):\n",
        "        self.address = address\n",
        "        self.price = price\n",
        "class Mansion(House):\n",
        "    def __init__(self, address, price, number_of_rooms):\n",
        "        super().__init__(address, price)\n",
        "        self.number_of_rooms = number_of_rooms\n",
        "\n",
        "mansion = Mansion(\"123 Main St\", 250000, 8)\n",
        "print(f\"Address: {mansion.address}\")\n",
        "print(f\"Price: ${mansion.price}\")\n",
        "print(f\"Number of Rooms: {mansion.number_of_rooms}\")"
      ],
      "metadata": {
        "colab": {
          "base_uri": "https://localhost:8080/"
        },
        "id": "-2hztHN2V6Pb",
        "outputId": "f42cb491-137f-4a4e-fb29-bbdc1e1472c5"
      },
      "execution_count": 59,
      "outputs": [
        {
          "output_type": "stream",
          "name": "stdout",
          "text": [
            "Address: 123 Main St\n",
            "Price: $250000\n",
            "Number of Rooms: 8\n"
          ]
        }
      ]
    }
  ]
}